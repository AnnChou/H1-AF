{
 "cells": [
  {
   "cell_type": "code",
   "execution_count": null,
   "metadata": {
    "id": "QQf717MHQen8"
   },
   "outputs": [],
   "source": []
  },
  {
   "cell_type": "code",
   "execution_count": null,
   "metadata": {
    "id": "7A2BZUJMQ6fJ"
   },
   "outputs": [],
   "source": [
    "import os\n",
    "import cv2\n",
    "from PIL import Image,ImageFilter\n",
    "import numpy as np\n"
   ]
  },
  {
   "cell_type": "code",
   "execution_count": null,
   "metadata": {
    "id": "eCuEnNCnQ6pT"
   },
   "outputs": [],
   "source": [
    "from google.colab import drive\n",
    "drive.mount('/content/drive/')"
   ]
  },
  {
   "cell_type": "code",
   "execution_count": null,
   "metadata": {
    "id": "7oOL4F1oQfj8"
   },
   "outputs": [],
   "source": [
    "def Image_Annotation_Separator(training_Folder, annotation_folder,Image_folder):\n",
    "\n",
    "    image_files= os.listdir(training_Folder)\n",
    "    for image_file in image_files:\n",
    "        print(image_file)\n",
    "        full_path=os.path.join(training_Folder,image_file)\n",
    "        if image_file.endswith(\"_Annotation.png\"):\n",
    "          \n",
    "            annotation=Image.open(full_path)\n",
    "            annot_path=os.path.join(annotation_folder,image_file)\n",
    "            os.remove(annot_path)\n",
    "            annotation.save(annot_path)\n",
    "            \n",
    "        else:\n",
    "            os.path.join(image_file, Image_folder)\n",
    "            image=Image.open(full_path)\n",
    "            image_path=os.path.join(Image_folder,image_file)\n",
    "            os.remove(image_path)\n",
    "            image.save(image_path)\n",
    "\n",
    "        "
   ]
  },
  {
   "cell_type": "code",
   "execution_count": null,
   "metadata": {
    "id": "eeAQbXqBRIQJ"
   },
   "outputs": [],
   "source": [
    "training_Folder=\"data/membrane/training_set\"\n",
    "annotation_folder=\"data/membrane/Annotation\"\n",
    "Image_folder=\"data/membrane/Image\"\n"
   ]
  },
  {
   "cell_type": "code",
   "execution_count": null,
   "metadata": {
    "id": "B8sKJ6tnRLJo"
   },
   "outputs": [],
   "source": [
    "Image_Annotation_Separator(training_Folder, annotation_folder,Image_folder)"
   ]
  }
 ],
 "metadata": {
  "colab": {
   "provenance": []
  },
  "kernelspec": {
   "display_name": "Python 3 (ipykernel)",
   "language": "python",
   "name": "python3"
  },
  "language_info": {
   "codemirror_mode": {
    "name": "ipython",
    "version": 3
   },
   "file_extension": ".py",
   "mimetype": "text/x-python",
   "name": "python",
   "nbconvert_exporter": "python",
   "pygments_lexer": "ipython3",
   "version": "3.9.6"
  }
 },
 "nbformat": 4,
 "nbformat_minor": 1
}
