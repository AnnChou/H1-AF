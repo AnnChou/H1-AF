{
 "cells": [
  {
   "cell_type": "code",
   "execution_count": 68,
   "id": "c52bc859",
   "metadata": {},
   "outputs": [],
   "source": [
    "import os\n",
    "from glob import glob\n",
    "from PIL import Image\n",
    "import pandas as pd\n",
    "import numpy as np\n",
    "import tensorflow as tf\n",
    "from sklearn.model_selection import train_test_split\n",
    "\n"
   ]
  },
  {
   "cell_type": "code",
   "execution_count": 23,
   "id": "54504bad",
   "metadata": {},
   "outputs": [
    {
     "data": {
      "text/plain": [
       "True"
      ]
     },
     "execution_count": 23,
     "metadata": {},
     "output_type": "execute_result"
    }
   ],
   "source": [
    "data_path_to = 'G:/.shortcut-targets-by-id/10wVB-YsfTmmpZyUo8jBH1cDOkVWVx5N1/T1 Project/Data/Training-Splitted/'\n",
    "os.path.exists(data_path_to)"
   ]
  },
  {
   "cell_type": "code",
   "execution_count": 31,
   "id": "ff83198d",
   "metadata": {},
   "outputs": [
    {
     "data": {
      "text/plain": [
       "True"
      ]
     },
     "execution_count": 31,
     "metadata": {},
     "output_type": "execute_result"
    }
   ],
   "source": [
    "local_data_path_to=\"Data/Training-Splitted/\"\n",
    "os.path.exists(local_data_path_to)"
   ]
  },
  {
   "cell_type": "code",
   "execution_count": 15,
   "id": "79e4943e",
   "metadata": {},
   "outputs": [],
   "source": [
    "img_data_path = 'G:/.shortcut-targets-by-id/10wVB-YsfTmmpZyUo8jBH1cDOkVWVx5N1/T1 Project/Data/Training-Splitted/train/Annotation/'\n",
    "files = sorted(os.listdir(data_path))\n",
    "#print(files)\n",
    "\n",
    "\n",
    "    "
   ]
  },
  {
   "cell_type": "code",
   "execution_count": 16,
   "id": "5086f520",
   "metadata": {},
   "outputs": [],
   "source": [
    "pixel_count=[]\n",
    "for f in files:\n",
    "    label = Image.open(img_data_path+f)\n",
    "    label = np.array(label)\n",
    "    label = tf.convert_to_tensor(label)\n",
    "    label = tf.cast(label, tf.float32) / 255.0\n",
    "    label = tf.cast(label, tf.int32)\n",
    "    pixel_count.append(np.sum(label))\n"
   ]
  },
  {
   "cell_type": "code",
   "execution_count": 17,
   "id": "071a7169",
   "metadata": {
    "scrolled": true
   },
   "outputs": [
    {
     "name": "stdout",
     "output_type": "stream",
     "text": [
      "[1632, 1608, 1924, 2496, 1536, 2628, 2628, 1464, 2032, 1308, 2320, 2288, 1812, 2712, 2032, 2748, 2224, 2744, 1644, 1624, 2884, 1736, 3376, 1452, 1768, 2412, 1516, 1688, 1876, 1888, 2732, 2344, 1696, 2076, 2092, 2172, 3016, 2836, 2208, 3292, 2388, 2576, 2576, 1612, 2912, 2960, 2080, 1800, 3300, 2760, 2300, 2088, 3044, 2564, 1624, 2316, 1552, 2956, 2832, 3024, 1860, 3576, 3508, 2860, 1452, 2840, 3108, 2832, 2288, 2212, 2092, 3172, 2180, 3524, 2200, 1424, 1604, 3680, 3452, 2664, 1856, 3084, 2644, 2420, 2976, 2608, 3112, 2992, 1508, 1500, 2696, 2536, 2536, 2140, 2920, 3308, 3100, 2900, 2080, 3404, 2756, 2628, 3168, 3000, 2100, 2116, 3628, 1432, 3468, 2080, 1592, 1836, 1880, 1924, 1788, 3016, 3336, 2036, 2320, 3264, 3472, 3560, 3400, 2340, 1936, 1732, 2600, 2672, 2772, 2468, 2920, 3536, 2168, 3324, 1468, 2912, 2476, 2388, 2364, 2648, 2736, 3084, 2660, 3136, 3384, 1704, 2032, 2628, 2992, 2968, 3188, 2256, 2964, 3076, 3232, 3192, 3080, 3076, 3060, 3148, 3016, 2544, 1508, 3420, 2784, 3336, 2352, 3812, 2900, 2680, 3176, 3268, 1684, 2120, 2724, 4120, 2740, 2564, 2020, 2456, 3328, 3864, 2096, 3964, 3580, 3580, 3564, 4136, 3376, 2784, 3088, 2264, 3352, 3768, 3496, 2612, 3448, 3784, 4112, 3552, 3676, 4012, 3548, 3592, 3524, 3592, 3528, 4304, 2848, 3496, 3448, 3824, 3528, 3160, 3508, 2664, 4372, 4336, 4136, 2316, 1888, 3224, 3108, 3568, 3424, 3632, 2536, 4028, 3336, 2896, 3296, 2408, 2408, 3920, 3848, 3916, 3756, 2752, 3668, 3664, 3000, 3836, 3512, 3612, 3520, 3688, 3904, 3964, 3452, 3032, 4004, 2844, 3200, 3232, 3268, 3564, 3620, 3452, 3168, 3480, 3908, 4148, 3228, 1896, 4000, 3300, 3124, 2976, 4256, 4064, 3112, 2892, 3236, 2956, 2876, 2964, 2932, 3088, 3672, 3548, 3348, 3112, 3572, 3928, 3776, 3560, 3056, 3372, 2412, 2192, 3976, 3120, 3964, 4028, 3816, 3176, 4420, 4376, 3972, 3376, 3116, 3496, 3976, 3692, 2992, 3356, 3348, 3248, 3560, 3664, 3532, 3948, 3188, 3936, 4516, 2960, 3684, 3028, 3028, 4040, 4016, 3184, 2916, 3540, 3592, 2868, 2804, 2776, 3876, 3156, 3456, 3188, 3024, 3240, 3208, 3228, 3228, 3148, 3448, 3220, 2756, 3988, 3868, 3024, 3820, 3768, 3436, 3264, 3292, 4088, 4100, 3676, 3060, 3060, 3060, 4248, 3972, 3740, 4220, 2644, 3756, 3048, 3496, 3212, 3384, 3716, 3364, 3352, 3492, 3240, 3888, 3968, 3260, 4172, 3840, 3112, 3172, 3464, 3464, 3276, 3108, 3412, 3948, 3216, 3624, 3532, 3608, 3604, 3176, 3684, 4052, 3912, 3484, 3648, 3812, 3876, 3868, 3896, 3900, 3292, 4060, 3428, 2180, 2192, 3764, 3376, 3300, 4000, 3680, 3072, 3064, 3708, 3332, 3184, 2676, 3476, 3928, 3888, 3656, 3660, 3476, 2204, 3740, 3904, 3200, 3316, 3684, 3396, 3128, 3264, 3768, 4152, 4176, 3900, 3676, 3396, 3592, 3876, 3876, 3644, 3624, 3668, 1908, 3936, 3880, 3640, 3584, 3476, 2604, 3544, 3024, 3756, 2912, 2964, 4024, 3288, 3240, 3240, 3756, 4272, 3412, 2700, 3064, 3852, 4056, 2624, 3340, 3260, 3728, 3232, 3232, 3224, 2976, 3860, 3684, 4300, 3472, 3704, 3300, 4244, 3088, 3092, 4128, 4280, 4048, 3516, 3272, 3184, 3392, 3736, 3040, 2856, 3708, 3968, 3872, 3900, 3932, 3384, 4340, 3680, 3648, 3584, 3768, 2792, 3392, 2292, 3544, 3072, 3520, 3820, 3080, 2340, 4168, 3212, 3868, 3588, 2728, 3876, 3616, 4184, 3404, 3416, 3968, 3752, 3420, 3848, 4364, 3324, 2732, 1980, 3468, 3868, 3868, 4164, 2256, 3396, 4036, 3700, 3324, 2668, 4312, 3912, 3460, 3056, 2220, 3884, 4160, 3888, 2564, 3572, 3848, 3620, 2560, 3124, 2572, 2572, 1116, 2168, 2104, 3368, 2448, 3504, 2776, 3704, 3724, 4028, 2424, 2424, 3644, 3472, 3400, 4064, 3520, 2108, 2780, 4084, 3684, 2808, 3384, 1720, 3952, 3588, 1884, 1800, 2992, 2720, 2488, 1912, 3596, 3596, 3592, 2596, 3148, 2792, 2780, 4408, 2296, 3332, 3756, 2856, 4240, 3020, 4348, 2956, 2940, 4220, 3704, 2228, 3540, 3540, 4252, 2572, 2620, 4224, 4300, 2596, 2388, 3628, 3604, 2624, 3592, 3684, 3692, 3484, 3144, 3908, 2764, 2764, 2972, 3684, 3712, 4044, 3808, 4124, 3752, 3348, 2720, 3452, 3804, 3624, 2988, 4240, 2960, 2968, 3012, 3344, 3584, 4188, 3388, 3852, 3404, 4052, 3508, 2548, 2756, 3136, 3596, 3624, 2568, 3772, 3152, 2872, 3748, 3436, 3932, 3148, 3704, 2704, 2764, 3616, 4020, 3756, 3008, 3648, 3352, 3228, 3232, 3388, 3116, 2248, 2320, 3436, 2996, 3800, 2592, 3248, 3452, 3720, 3696, 3704, 3044, 3044, 2672, 2956, 3152, 3844, 4328, 3704, 3700, 3532, 3044, 3880, 3152, 3464, 2820, 3964, 4152, 2860, 3264]\n"
     ]
    }
   ],
   "source": [
    "print(pixel_count)"
   ]
  },
  {
   "cell_type": "code",
   "execution_count": 32,
   "id": "e2cc002f",
   "metadata": {
    "scrolled": true
   },
   "outputs": [
    {
     "data": {
      "text/plain": [
       "True"
      ]
     },
     "execution_count": 32,
     "metadata": {},
     "output_type": "execute_result"
    }
   ],
   "source": [
    "train_pixel_sz_HC_file = local_data_path_to + 'training_set_pixel_size_and_HC.csv'\n",
    "os.path.exists(train_pixel_sz_HC_file)"
   ]
  },
  {
   "cell_type": "code",
   "execution_count": 40,
   "id": "928b9d3d",
   "metadata": {},
   "outputs": [
    {
     "data": {
      "text/html": [
       "<div>\n",
       "<style scoped>\n",
       "    .dataframe tbody tr th:only-of-type {\n",
       "        vertical-align: middle;\n",
       "    }\n",
       "\n",
       "    .dataframe tbody tr th {\n",
       "        vertical-align: top;\n",
       "    }\n",
       "\n",
       "    .dataframe thead th {\n",
       "        text-align: right;\n",
       "    }\n",
       "</style>\n",
       "<table border=\"1\" class=\"dataframe\">\n",
       "  <thead>\n",
       "    <tr style=\"text-align: right;\">\n",
       "      <th></th>\n",
       "      <th>filename</th>\n",
       "      <th>pixel size(mm)</th>\n",
       "      <th>head circumference (mm)</th>\n",
       "    </tr>\n",
       "  </thead>\n",
       "  <tbody>\n",
       "    <tr>\n",
       "      <th>0</th>\n",
       "      <td>000_HC.png</td>\n",
       "      <td>0.069136</td>\n",
       "      <td>44.30</td>\n",
       "    </tr>\n",
       "    <tr>\n",
       "      <th>1</th>\n",
       "      <td>001_HC.png</td>\n",
       "      <td>0.089659</td>\n",
       "      <td>56.81</td>\n",
       "    </tr>\n",
       "    <tr>\n",
       "      <th>2</th>\n",
       "      <td>002_HC.png</td>\n",
       "      <td>0.062033</td>\n",
       "      <td>68.75</td>\n",
       "    </tr>\n",
       "    <tr>\n",
       "      <th>3</th>\n",
       "      <td>003_HC.png</td>\n",
       "      <td>0.091291</td>\n",
       "      <td>69.00</td>\n",
       "    </tr>\n",
       "    <tr>\n",
       "      <th>4</th>\n",
       "      <td>004_HC.png</td>\n",
       "      <td>0.061240</td>\n",
       "      <td>59.81</td>\n",
       "    </tr>\n",
       "  </tbody>\n",
       "</table>\n",
       "</div>"
      ],
      "text/plain": [
       "     filename  pixel size(mm)  head circumference (mm)\n",
       "0  000_HC.png        0.069136                    44.30\n",
       "1  001_HC.png        0.089659                    56.81\n",
       "2  002_HC.png        0.062033                    68.75\n",
       "3  003_HC.png        0.091291                    69.00\n",
       "4  004_HC.png        0.061240                    59.81"
      ]
     },
     "execution_count": 40,
     "metadata": {},
     "output_type": "execute_result"
    }
   ],
   "source": [
    "train_pixel_sz_HC_df = pd.read_csv(train_pixel_sz_HC_file)\n",
    "train_pixel_sz_HC_df.head()"
   ]
  },
  {
   "cell_type": "code",
   "execution_count": 35,
   "id": "992b5751",
   "metadata": {},
   "outputs": [
    {
     "data": {
      "text/plain": [
       "0      000_HC.png\n",
       "1      001_HC.png\n",
       "2      002_HC.png\n",
       "3      003_HC.png\n",
       "4      004_HC.png\n",
       "          ...    \n",
       "994    801_HC.png\n",
       "995    802_HC.png\n",
       "996    803_HC.png\n",
       "997    804_HC.png\n",
       "998    805_HC.png\n",
       "Name: filename, Length: 999, dtype: object"
      ]
     },
     "execution_count": 35,
     "metadata": {},
     "output_type": "execute_result"
    }
   ],
   "source": [
    "for filname in train_pixel_sz_HC_df['filename'], read file"
   ]
  },
  {
   "cell_type": "code",
   "execution_count": 45,
   "id": "45817abf",
   "metadata": {},
   "outputs": [],
   "source": [
    "# Define a function to update the filename\n",
    "def update_filename(filename):\n",
    "    return filename.replace(\".png\", \"_Annotation.png\")\n",
    "\n",
    "# Apply the function to create a new column with updat filenames\n",
    "train_pixel_sz_HC_df['anno_filename'] = train_pixel_sz_HC_df['filename'].apply(lambda x: update_filename(x))\n"
   ]
  },
  {
   "cell_type": "code",
   "execution_count": 46,
   "id": "a68a38aa",
   "metadata": {},
   "outputs": [
    {
     "data": {
      "text/html": [
       "<div>\n",
       "<style scoped>\n",
       "    .dataframe tbody tr th:only-of-type {\n",
       "        vertical-align: middle;\n",
       "    }\n",
       "\n",
       "    .dataframe tbody tr th {\n",
       "        vertical-align: top;\n",
       "    }\n",
       "\n",
       "    .dataframe thead th {\n",
       "        text-align: right;\n",
       "    }\n",
       "</style>\n",
       "<table border=\"1\" class=\"dataframe\">\n",
       "  <thead>\n",
       "    <tr style=\"text-align: right;\">\n",
       "      <th></th>\n",
       "      <th>filename</th>\n",
       "      <th>pixel size(mm)</th>\n",
       "      <th>head circumference (mm)</th>\n",
       "      <th>anno_filename</th>\n",
       "    </tr>\n",
       "  </thead>\n",
       "  <tbody>\n",
       "    <tr>\n",
       "      <th>0</th>\n",
       "      <td>000_HC.png</td>\n",
       "      <td>0.069136</td>\n",
       "      <td>44.30</td>\n",
       "      <td>000_HC_Annotation.png</td>\n",
       "    </tr>\n",
       "    <tr>\n",
       "      <th>1</th>\n",
       "      <td>001_HC.png</td>\n",
       "      <td>0.089659</td>\n",
       "      <td>56.81</td>\n",
       "      <td>001_HC_Annotation.png</td>\n",
       "    </tr>\n",
       "    <tr>\n",
       "      <th>2</th>\n",
       "      <td>002_HC.png</td>\n",
       "      <td>0.062033</td>\n",
       "      <td>68.75</td>\n",
       "      <td>002_HC_Annotation.png</td>\n",
       "    </tr>\n",
       "    <tr>\n",
       "      <th>3</th>\n",
       "      <td>003_HC.png</td>\n",
       "      <td>0.091291</td>\n",
       "      <td>69.00</td>\n",
       "      <td>003_HC_Annotation.png</td>\n",
       "    </tr>\n",
       "    <tr>\n",
       "      <th>4</th>\n",
       "      <td>004_HC.png</td>\n",
       "      <td>0.061240</td>\n",
       "      <td>59.81</td>\n",
       "      <td>004_HC_Annotation.png</td>\n",
       "    </tr>\n",
       "  </tbody>\n",
       "</table>\n",
       "</div>"
      ],
      "text/plain": [
       "     filename  pixel size(mm)  head circumference (mm)          anno_filename\n",
       "0  000_HC.png        0.069136                    44.30  000_HC_Annotation.png\n",
       "1  001_HC.png        0.089659                    56.81  001_HC_Annotation.png\n",
       "2  002_HC.png        0.062033                    68.75  002_HC_Annotation.png\n",
       "3  003_HC.png        0.091291                    69.00  003_HC_Annotation.png\n",
       "4  004_HC.png        0.061240                    59.81  004_HC_Annotation.png"
      ]
     },
     "execution_count": 46,
     "metadata": {},
     "output_type": "execute_result"
    }
   ],
   "source": [
    "train_pixel_sz_HC_df.head()"
   ]
  },
  {
   "cell_type": "code",
   "execution_count": 56,
   "id": "3b3bd2c3",
   "metadata": {},
   "outputs": [
    {
     "name": "stdout",
     "output_type": "stream",
     "text": [
      "No such file: 002_HC_Annotation.png\n",
      "No such file: 011_HC_Annotation.png\n",
      "No such file: 014_3HC_Annotation.png\n",
      "No such file: 014_HC_Annotation.png\n",
      "No such file: 015_HC_Annotation.png\n",
      "No such file: 017_HC_Annotation.png\n",
      "No such file: 020_HC_Annotation.png\n",
      "No such file: 023_HC_Annotation.png\n",
      "No such file: 030_HC_Annotation.png\n",
      "No such file: 032_2HC_Annotation.png\n",
      "No such file: 033_HC_Annotation.png\n",
      "No such file: 034_HC_Annotation.png\n",
      "No such file: 036_HC_Annotation.png\n",
      "No such file: 041_HC_Annotation.png\n",
      "No such file: 043_HC_Annotation.png\n",
      "No such file: 044_HC_Annotation.png\n",
      "No such file: 045_HC_Annotation.png\n",
      "No such file: 047_HC_Annotation.png\n",
      "No such file: 050_2HC_Annotation.png\n",
      "No such file: 055_HC_Annotation.png\n",
      "No such file: 057_HC_Annotation.png\n",
      "No such file: 059_HC_Annotation.png\n",
      "No such file: 061_HC_Annotation.png\n",
      "No such file: 065_HC_Annotation.png\n",
      "No such file: 066_HC_Annotation.png\n",
      "No such file: 070_HC_Annotation.png\n",
      "No such file: 086_HC_Annotation.png\n",
      "No such file: 088_2HC_Annotation.png\n",
      "No such file: 091_HC_Annotation.png\n",
      "No such file: 095_HC_Annotation.png\n",
      "No such file: 100_2HC_Annotation.png\n",
      "No such file: 108_3HC_Annotation.png\n",
      "No such file: 113_HC_Annotation.png\n",
      "No such file: 116_HC_Annotation.png\n",
      "No such file: 121_2HC_Annotation.png\n",
      "No such file: 124_2HC_Annotation.png\n",
      "No such file: 124_HC_Annotation.png\n",
      "No such file: 125_2HC_Annotation.png\n",
      "No such file: 126_2HC_Annotation.png\n",
      "No such file: 127_HC_Annotation.png\n",
      "No such file: 130_HC_Annotation.png\n",
      "No such file: 131_HC_Annotation.png\n",
      "No such file: 133_3HC_Annotation.png\n",
      "No such file: 134_HC_Annotation.png\n",
      "No such file: 138_2HC_Annotation.png\n",
      "No such file: 138_HC_Annotation.png\n",
      "No such file: 141_HC_Annotation.png\n",
      "No such file: 145_HC_Annotation.png\n",
      "No such file: 148_HC_Annotation.png\n",
      "No such file: 155_HC_Annotation.png\n",
      "No such file: 156_2HC_Annotation.png\n",
      "No such file: 157_HC_Annotation.png\n",
      "No such file: 158_HC_Annotation.png\n",
      "No such file: 159_HC_Annotation.png\n",
      "No such file: 163_HC_Annotation.png\n",
      "No such file: 166_HC_Annotation.png\n",
      "No such file: 170_HC_Annotation.png\n",
      "No such file: 174_HC_Annotation.png\n",
      "No such file: 175_HC_Annotation.png\n",
      "No such file: 182_HC_Annotation.png\n",
      "No such file: 184_HC_Annotation.png\n",
      "No such file: 186_HC_Annotation.png\n",
      "No such file: 190_HC_Annotation.png\n",
      "No such file: 195_HC_Annotation.png\n",
      "No such file: 200_HC_Annotation.png\n",
      "No such file: 203_3HC_Annotation.png\n",
      "No such file: 207_HC_Annotation.png\n",
      "No such file: 208_HC_Annotation.png\n",
      "No such file: 211_HC_Annotation.png\n",
      "No such file: 215_HC_Annotation.png\n",
      "No such file: 216_HC_Annotation.png\n",
      "No such file: 218_HC_Annotation.png\n",
      "No such file: 225_HC_Annotation.png\n",
      "No such file: 226_HC_Annotation.png\n",
      "No such file: 227_2HC_Annotation.png\n",
      "No such file: 232_HC_Annotation.png\n",
      "No such file: 235_2HC_Annotation.png\n",
      "No such file: 241_HC_Annotation.png\n",
      "No such file: 244_HC_Annotation.png\n",
      "No such file: 246_HC_Annotation.png\n",
      "No such file: 248_HC_Annotation.png\n",
      "No such file: 249_HC_Annotation.png\n",
      "No such file: 252_HC_Annotation.png\n",
      "No such file: 254_HC_Annotation.png\n",
      "No such file: 255_HC_Annotation.png\n",
      "No such file: 256_HC_Annotation.png\n",
      "No such file: 257_HC_Annotation.png\n",
      "No such file: 262_HC_Annotation.png\n",
      "No such file: 269_HC_Annotation.png\n",
      "No such file: 272_HC_Annotation.png\n",
      "No such file: 273_HC_Annotation.png\n",
      "No such file: 280_HC_Annotation.png\n",
      "No such file: 285_HC_Annotation.png\n",
      "No such file: 286_HC_Annotation.png\n",
      "No such file: 287_HC_Annotation.png\n",
      "No such file: 290_HC_Annotation.png\n",
      "No such file: 291_2HC_Annotation.png\n",
      "No such file: 293_HC_Annotation.png\n",
      "No such file: 295_HC_Annotation.png\n",
      "No such file: 296_HC_Annotation.png\n",
      "No such file: 300_2HC_Annotation.png\n",
      "No such file: 300_HC_Annotation.png\n",
      "No such file: 312_HC_Annotation.png\n",
      "No such file: 313_HC_Annotation.png\n",
      "No such file: 314_HC_Annotation.png\n",
      "No such file: 316_HC_Annotation.png\n",
      "No such file: 318_HC_Annotation.png\n",
      "No such file: 322_HC_Annotation.png\n",
      "No such file: 323_HC_Annotation.png\n",
      "No such file: 324_HC_Annotation.png\n",
      "No such file: 325_HC_Annotation.png\n",
      "No such file: 330_HC_Annotation.png\n",
      "No such file: 334_HC_Annotation.png\n",
      "No such file: 335_HC_Annotation.png\n",
      "No such file: 337_HC_Annotation.png\n",
      "No such file: 339_HC_Annotation.png\n",
      "No such file: 347_HC_Annotation.png\n",
      "No such file: 354_HC_Annotation.png\n",
      "No such file: 356_HC_Annotation.png\n",
      "No such file: 358_HC_Annotation.png\n",
      "No such file: 359_2HC_Annotation.png\n",
      "No such file: 360_2HC_Annotation.png\n",
      "No such file: 363_HC_Annotation.png\n",
      "No such file: 365_HC_Annotation.png\n",
      "No such file: 366_HC_Annotation.png\n",
      "No such file: 369_HC_Annotation.png\n",
      "No such file: 376_HC_Annotation.png\n",
      "No such file: 379_HC_Annotation.png\n",
      "No such file: 381_HC_Annotation.png\n",
      "No such file: 383_HC_Annotation.png\n",
      "No such file: 384_2HC_Annotation.png\n",
      "No such file: 388_HC_Annotation.png\n",
      "No such file: 391_HC_Annotation.png\n",
      "No such file: 402_HC_Annotation.png\n",
      "No such file: 404_HC_Annotation.png\n",
      "No such file: 405_HC_Annotation.png\n",
      "No such file: 408_HC_Annotation.png\n",
      "No such file: 410_HC_Annotation.png\n",
      "No such file: 412_HC_Annotation.png\n",
      "No such file: 420_HC_Annotation.png\n",
      "No such file: 421_HC_Annotation.png\n",
      "No such file: 433_HC_Annotation.png\n",
      "No such file: 436_HC_Annotation.png\n",
      "No such file: 437_2HC_Annotation.png\n",
      "No such file: 438_HC_Annotation.png\n",
      "No such file: 442_HC_Annotation.png\n",
      "No such file: 443_HC_Annotation.png\n",
      "No such file: 447_HC_Annotation.png\n",
      "No such file: 448_HC_Annotation.png\n",
      "No such file: 450_HC_Annotation.png\n",
      "No such file: 453_HC_Annotation.png\n",
      "No such file: 454_HC_Annotation.png\n",
      "No such file: 456_HC_Annotation.png\n",
      "No such file: 459_HC_Annotation.png\n",
      "No such file: 460_HC_Annotation.png\n",
      "No such file: 461_HC_Annotation.png\n",
      "No such file: 463_HC_Annotation.png\n",
      "No such file: 465_HC_Annotation.png\n",
      "No such file: 471_HC_Annotation.png\n",
      "No such file: 473_HC_Annotation.png\n",
      "No such file: 474_HC_Annotation.png\n",
      "No such file: 479_HC_Annotation.png\n",
      "No such file: 481_HC_Annotation.png\n",
      "No such file: 482_2HC_Annotation.png\n",
      "No such file: 482_3HC_Annotation.png\n",
      "No such file: 483_2HC_Annotation.png\n",
      "No such file: 484_HC_Annotation.png\n",
      "No such file: 489_HC_Annotation.png\n",
      "No such file: 491_HC_Annotation.png\n",
      "No such file: 495_4HC_Annotation.png\n",
      "No such file: 495_HC_Annotation.png\n",
      "No such file: 497_HC_Annotation.png\n",
      "No such file: 499_2HC_Annotation.png\n",
      "No such file: 499_HC_Annotation.png\n",
      "No such file: 504_HC_Annotation.png\n",
      "No such file: 505_HC_Annotation.png\n",
      "No such file: 506_HC_Annotation.png\n",
      "No such file: 508_HC_Annotation.png\n",
      "No such file: 510_HC_Annotation.png\n",
      "No such file: 511_HC_Annotation.png\n",
      "No such file: 512_HC_Annotation.png\n",
      "No such file: 514_HC_Annotation.png\n",
      "No such file: 516_HC_Annotation.png\n",
      "No such file: 517_HC_Annotation.png\n",
      "No such file: 522_HC_Annotation.png\n",
      "No such file: 525_HC_Annotation.png\n",
      "No such file: 526_HC_Annotation.png\n",
      "No such file: 527_HC_Annotation.png\n",
      "No such file: 528_HC_Annotation.png\n",
      "No such file: 530_HC_Annotation.png\n",
      "No such file: 531_2HC_Annotation.png\n",
      "No such file: 532_2HC_Annotation.png\n",
      "No such file: 534_HC_Annotation.png\n",
      "No such file: 535_HC_Annotation.png\n",
      "No such file: 536_HC_Annotation.png\n",
      "No such file: 538_HC_Annotation.png\n",
      "No such file: 539_HC_Annotation.png\n",
      "No such file: 542_HC_Annotation.png\n",
      "No such file: 543_HC_Annotation.png\n",
      "No such file: 545_2HC_Annotation.png\n",
      "No such file: 549_HC_Annotation.png\n",
      "No such file: 550_HC_Annotation.png\n",
      "No such file: 554_HC_Annotation.png\n",
      "No such file: 555_HC_Annotation.png\n",
      "No such file: 557_HC_Annotation.png\n",
      "No such file: 559_HC_Annotation.png\n",
      "No such file: 561_2HC_Annotation.png\n",
      "No such file: 561_HC_Annotation.png\n",
      "No such file: 563_HC_Annotation.png\n",
      "No such file: 565_HC_Annotation.png\n",
      "No such file: 571_HC_Annotation.png\n",
      "No such file: 574_2HC_Annotation.png\n",
      "No such file: 576_HC_Annotation.png\n",
      "No such file: 577_HC_Annotation.png\n",
      "No such file: 578_HC_Annotation.png\n",
      "No such file: 583_2HC_Annotation.png\n",
      "No such file: 587_2HC_Annotation.png\n",
      "No such file: 587_HC_Annotation.png\n",
      "No such file: 588_HC_Annotation.png\n",
      "No such file: 593_HC_Annotation.png\n",
      "No such file: 594_HC_Annotation.png\n",
      "No such file: 602_HC_Annotation.png\n",
      "No such file: 605_HC_Annotation.png\n",
      "No such file: 608_HC_Annotation.png\n",
      "No such file: 610_HC_Annotation.png\n",
      "No such file: 612_HC_Annotation.png\n",
      "No such file: 613_2HC_Annotation.png\n",
      "No such file: 614_HC_Annotation.png\n",
      "No such file: 617_2HC_Annotation.png\n",
      "No such file: 618_HC_Annotation.png\n"
     ]
    },
    {
     "name": "stdout",
     "output_type": "stream",
     "text": [
      "No such file: 621_HC_Annotation.png\n",
      "No such file: 622_HC_Annotation.png\n",
      "No such file: 624_HC_Annotation.png\n",
      "No such file: 625_HC_Annotation.png\n",
      "No such file: 631_2HC_Annotation.png\n",
      "No such file: 632_HC_Annotation.png\n",
      "No such file: 639_2HC_Annotation.png\n",
      "No such file: 640_HC_Annotation.png\n",
      "No such file: 642_HC_Annotation.png\n",
      "No such file: 643_HC_Annotation.png\n",
      "No such file: 644_HC_Annotation.png\n",
      "No such file: 653_HC_Annotation.png\n",
      "No such file: 655_HC_Annotation.png\n",
      "No such file: 656_HC_Annotation.png\n",
      "No such file: 657_2HC_Annotation.png\n",
      "No such file: 661_HC_Annotation.png\n",
      "No such file: 664_HC_Annotation.png\n",
      "No such file: 666_HC_Annotation.png\n",
      "No such file: 667_HC_Annotation.png\n",
      "No such file: 669_HC_Annotation.png\n",
      "No such file: 670_HC_Annotation.png\n",
      "No such file: 671_2HC_Annotation.png\n",
      "No such file: 671_3HC_Annotation.png\n",
      "No such file: 675_2HC_Annotation.png\n",
      "No such file: 676_HC_Annotation.png\n",
      "No such file: 681_HC_Annotation.png\n",
      "No such file: 682_HC_Annotation.png\n",
      "No such file: 683_HC_Annotation.png\n",
      "No such file: 686_2HC_Annotation.png\n",
      "No such file: 690_HC_Annotation.png\n",
      "No such file: 691_HC_Annotation.png\n",
      "No such file: 692_2HC_Annotation.png\n",
      "No such file: 697_HC_Annotation.png\n",
      "No such file: 706_HC_Annotation.png\n",
      "No such file: 708_HC_Annotation.png\n",
      "No such file: 710_HC_Annotation.png\n",
      "No such file: 715_HC_Annotation.png\n",
      "No such file: 717_HC_Annotation.png\n",
      "No such file: 719_HC_Annotation.png\n",
      "No such file: 720_2HC_Annotation.png\n",
      "No such file: 722_HC_Annotation.png\n",
      "No such file: 724_HC_Annotation.png\n",
      "No such file: 725_HC_Annotation.png\n",
      "No such file: 731_HC_Annotation.png\n",
      "No such file: 736_2HC_Annotation.png\n",
      "No such file: 736_HC_Annotation.png\n",
      "No such file: 742_HC_Annotation.png\n",
      "No such file: 743_HC_Annotation.png\n",
      "No such file: 746_3HC_Annotation.png\n",
      "No such file: 749_HC_Annotation.png\n",
      "No such file: 754_HC_Annotation.png\n",
      "No such file: 756_2HC_Annotation.png\n",
      "No such file: 758_HC_Annotation.png\n",
      "No such file: 759_HC_Annotation.png\n",
      "No such file: 764_2HC_Annotation.png\n",
      "No such file: 765_HC_Annotation.png\n",
      "No such file: 767_HC_Annotation.png\n",
      "No such file: 768_2HC_Annotation.png\n",
      "No such file: 769_HC_Annotation.png\n",
      "No such file: 770_HC_Annotation.png\n",
      "No such file: 775_HC_Annotation.png\n",
      "No such file: 777_HC_Annotation.png\n",
      "No such file: 778_HC_Annotation.png\n",
      "No such file: 780_HC_Annotation.png\n",
      "No such file: 783_3HC_Annotation.png\n",
      "No such file: 783_4HC_Annotation.png\n",
      "No such file: 787_HC_Annotation.png\n",
      "No such file: 792_HC_Annotation.png\n",
      "No such file: 794_HC_Annotation.png\n",
      "No such file: 796_HC_Annotation.png\n"
     ]
    }
   ],
   "source": [
    "def get_pixel_count(img_data_path, filename):\n",
    "    file_path = os.path.join(img_data_path, filename)\n",
    "    if os.path.exists(file_path):\n",
    "        label = Image.open(file_path)\n",
    "        label = np.array(label)\n",
    "        label = tf.convert_to_tensor(label)\n",
    "        label = tf.cast(label, tf.float32) / 255.0\n",
    "        label = tf.cast(label, tf.int32)\n",
    "        pixel_count = np.sum(label)\n",
    "    else:\n",
    "        print(\"No such file: \" + filename)\n",
    "        pixel_count = np.nan\n",
    "\n",
    "    return pixel_count\n",
    "\n",
    "train_pixel_sz_HC_df['pixel_count'] = train_pixel_sz_HC_df['anno_filename'].apply(lambda x: get_pixel_count(img_data_path, x))\n"
   ]
  },
  {
   "cell_type": "code",
   "execution_count": 59,
   "id": "7f5d2c1c",
   "metadata": {
    "scrolled": true
   },
   "outputs": [
    {
     "data": {
      "text/html": [
       "<div>\n",
       "<style scoped>\n",
       "    .dataframe tbody tr th:only-of-type {\n",
       "        vertical-align: middle;\n",
       "    }\n",
       "\n",
       "    .dataframe tbody tr th {\n",
       "        vertical-align: top;\n",
       "    }\n",
       "\n",
       "    .dataframe thead th {\n",
       "        text-align: right;\n",
       "    }\n",
       "</style>\n",
       "<table border=\"1\" class=\"dataframe\">\n",
       "  <thead>\n",
       "    <tr style=\"text-align: right;\">\n",
       "      <th></th>\n",
       "      <th>filename</th>\n",
       "      <th>pixel size(mm)</th>\n",
       "      <th>head circumference (mm)</th>\n",
       "      <th>anno_filename</th>\n",
       "      <th>pixel_count</th>\n",
       "    </tr>\n",
       "  </thead>\n",
       "  <tbody>\n",
       "    <tr>\n",
       "      <th>0</th>\n",
       "      <td>000_HC.png</td>\n",
       "      <td>0.069136</td>\n",
       "      <td>44.30</td>\n",
       "      <td>000_HC_Annotation.png</td>\n",
       "      <td>1632.0</td>\n",
       "    </tr>\n",
       "    <tr>\n",
       "      <th>1</th>\n",
       "      <td>001_HC.png</td>\n",
       "      <td>0.089659</td>\n",
       "      <td>56.81</td>\n",
       "      <td>001_HC_Annotation.png</td>\n",
       "      <td>1608.0</td>\n",
       "    </tr>\n",
       "    <tr>\n",
       "      <th>2</th>\n",
       "      <td>002_HC.png</td>\n",
       "      <td>0.062033</td>\n",
       "      <td>68.75</td>\n",
       "      <td>002_HC_Annotation.png</td>\n",
       "      <td>NaN</td>\n",
       "    </tr>\n",
       "    <tr>\n",
       "      <th>3</th>\n",
       "      <td>003_HC.png</td>\n",
       "      <td>0.091291</td>\n",
       "      <td>69.00</td>\n",
       "      <td>003_HC_Annotation.png</td>\n",
       "      <td>1924.0</td>\n",
       "    </tr>\n",
       "    <tr>\n",
       "      <th>4</th>\n",
       "      <td>004_HC.png</td>\n",
       "      <td>0.061240</td>\n",
       "      <td>59.81</td>\n",
       "      <td>004_HC_Annotation.png</td>\n",
       "      <td>2496.0</td>\n",
       "    </tr>\n",
       "  </tbody>\n",
       "</table>\n",
       "</div>"
      ],
      "text/plain": [
       "     filename  pixel size(mm)  head circumference (mm)          anno_filename  \\\n",
       "0  000_HC.png        0.069136                    44.30  000_HC_Annotation.png   \n",
       "1  001_HC.png        0.089659                    56.81  001_HC_Annotation.png   \n",
       "2  002_HC.png        0.062033                    68.75  002_HC_Annotation.png   \n",
       "3  003_HC.png        0.091291                    69.00  003_HC_Annotation.png   \n",
       "4  004_HC.png        0.061240                    59.81  004_HC_Annotation.png   \n",
       "\n",
       "   pixel_count  \n",
       "0       1632.0  \n",
       "1       1608.0  \n",
       "2          NaN  \n",
       "3       1924.0  \n",
       "4       2496.0  "
      ]
     },
     "execution_count": 59,
     "metadata": {},
     "output_type": "execute_result"
    }
   ],
   "source": [
    "train_pixel_sz_HC_df.head()"
   ]
  },
  {
   "cell_type": "code",
   "execution_count": 61,
   "id": "e2469810",
   "metadata": {},
   "outputs": [],
   "source": [
    "# Remove rows with missing values\n",
    "cleaned_df = train_pixel_sz_HC_df.dropna()\n"
   ]
  },
  {
   "cell_type": "code",
   "execution_count": 62,
   "id": "768f3326",
   "metadata": {},
   "outputs": [],
   "source": [
    "#Set target\n",
    "target_name ='head circumference (mm)'\n",
    "\n",
    "y = cleaned_df[target_name]\n"
   ]
  },
  {
   "cell_type": "code",
   "execution_count": 90,
   "id": "f3501c28",
   "metadata": {},
   "outputs": [],
   "source": [
    "#Set Input Feature X = [x1,, x2]\n",
    "feature_names = ['pixel_count','pixel size(mm)']\n",
    "X = cleaned_df[feature_names]\n"
   ]
  },
  {
   "cell_type": "code",
   "execution_count": 111,
   "id": "8dbfe39a",
   "metadata": {},
   "outputs": [],
   "source": [
    "# do linear regression mmodel first\n",
    "from sklearn.model_selection import train_test_split\n",
    "\n",
    "X_train1, X_test1, y_train1, y_test1 = train_test_split(X, y, test_size=0.3, random_state=42)\n"
   ]
  },
  {
   "cell_type": "code",
   "execution_count": 112,
   "id": "709f639b",
   "metadata": {},
   "outputs": [
    {
     "data": {
      "text/html": [
       "<style>#sk-container-id-5 {color: black;background-color: white;}#sk-container-id-5 pre{padding: 0;}#sk-container-id-5 div.sk-toggleable {background-color: white;}#sk-container-id-5 label.sk-toggleable__label {cursor: pointer;display: block;width: 100%;margin-bottom: 0;padding: 0.3em;box-sizing: border-box;text-align: center;}#sk-container-id-5 label.sk-toggleable__label-arrow:before {content: \"▸\";float: left;margin-right: 0.25em;color: #696969;}#sk-container-id-5 label.sk-toggleable__label-arrow:hover:before {color: black;}#sk-container-id-5 div.sk-estimator:hover label.sk-toggleable__label-arrow:before {color: black;}#sk-container-id-5 div.sk-toggleable__content {max-height: 0;max-width: 0;overflow: hidden;text-align: left;background-color: #f0f8ff;}#sk-container-id-5 div.sk-toggleable__content pre {margin: 0.2em;color: black;border-radius: 0.25em;background-color: #f0f8ff;}#sk-container-id-5 input.sk-toggleable__control:checked~div.sk-toggleable__content {max-height: 200px;max-width: 100%;overflow: auto;}#sk-container-id-5 input.sk-toggleable__control:checked~label.sk-toggleable__label-arrow:before {content: \"▾\";}#sk-container-id-5 div.sk-estimator input.sk-toggleable__control:checked~label.sk-toggleable__label {background-color: #d4ebff;}#sk-container-id-5 div.sk-label input.sk-toggleable__control:checked~label.sk-toggleable__label {background-color: #d4ebff;}#sk-container-id-5 input.sk-hidden--visually {border: 0;clip: rect(1px 1px 1px 1px);clip: rect(1px, 1px, 1px, 1px);height: 1px;margin: -1px;overflow: hidden;padding: 0;position: absolute;width: 1px;}#sk-container-id-5 div.sk-estimator {font-family: monospace;background-color: #f0f8ff;border: 1px dotted black;border-radius: 0.25em;box-sizing: border-box;margin-bottom: 0.5em;}#sk-container-id-5 div.sk-estimator:hover {background-color: #d4ebff;}#sk-container-id-5 div.sk-parallel-item::after {content: \"\";width: 100%;border-bottom: 1px solid gray;flex-grow: 1;}#sk-container-id-5 div.sk-label:hover label.sk-toggleable__label {background-color: #d4ebff;}#sk-container-id-5 div.sk-serial::before {content: \"\";position: absolute;border-left: 1px solid gray;box-sizing: border-box;top: 0;bottom: 0;left: 50%;z-index: 0;}#sk-container-id-5 div.sk-serial {display: flex;flex-direction: column;align-items: center;background-color: white;padding-right: 0.2em;padding-left: 0.2em;position: relative;}#sk-container-id-5 div.sk-item {position: relative;z-index: 1;}#sk-container-id-5 div.sk-parallel {display: flex;align-items: stretch;justify-content: center;background-color: white;position: relative;}#sk-container-id-5 div.sk-item::before, #sk-container-id-5 div.sk-parallel-item::before {content: \"\";position: absolute;border-left: 1px solid gray;box-sizing: border-box;top: 0;bottom: 0;left: 50%;z-index: -1;}#sk-container-id-5 div.sk-parallel-item {display: flex;flex-direction: column;z-index: 1;position: relative;background-color: white;}#sk-container-id-5 div.sk-parallel-item:first-child::after {align-self: flex-end;width: 50%;}#sk-container-id-5 div.sk-parallel-item:last-child::after {align-self: flex-start;width: 50%;}#sk-container-id-5 div.sk-parallel-item:only-child::after {width: 0;}#sk-container-id-5 div.sk-dashed-wrapped {border: 1px dashed gray;margin: 0 0.4em 0.5em 0.4em;box-sizing: border-box;padding-bottom: 0.4em;background-color: white;}#sk-container-id-5 div.sk-label label {font-family: monospace;font-weight: bold;display: inline-block;line-height: 1.2em;}#sk-container-id-5 div.sk-label-container {text-align: center;}#sk-container-id-5 div.sk-container {/* jupyter's `normalize.less` sets `[hidden] { display: none; }` but bootstrap.min.css set `[hidden] { display: none !important; }` so we also need the `!important` here to be able to override the default hidden behavior on the sphinx rendered scikit-learn.org. See: https://github.com/scikit-learn/scikit-learn/issues/21755 */display: inline-block !important;position: relative;}#sk-container-id-5 div.sk-text-repr-fallback {display: none;}</style><div id=\"sk-container-id-5\" class=\"sk-top-container\"><div class=\"sk-text-repr-fallback\"><pre>LinearRegression()</pre><b>In a Jupyter environment, please rerun this cell to show the HTML representation or trust the notebook. <br />On GitHub, the HTML representation is unable to render, please try loading this page with nbviewer.org.</b></div><div class=\"sk-container\" hidden><div class=\"sk-item\"><div class=\"sk-estimator sk-toggleable\"><input class=\"sk-toggleable__control sk-hidden--visually\" id=\"sk-estimator-id-5\" type=\"checkbox\" checked><label for=\"sk-estimator-id-5\" class=\"sk-toggleable__label sk-toggleable__label-arrow\">LinearRegression</label><div class=\"sk-toggleable__content\"><pre>LinearRegression()</pre></div></div></div></div></div>"
      ],
      "text/plain": [
       "LinearRegression()"
      ]
     },
     "execution_count": 112,
     "metadata": {},
     "output_type": "execute_result"
    }
   ],
   "source": [
    "from sklearn.linear_model import LinearRegression\n",
    "\n",
    "model1 = LinearRegression()\n",
    "model1.fit(X_train1, y_train1)\n"
   ]
  },
  {
   "cell_type": "code",
   "execution_count": 113,
   "id": "43ebda47",
   "metadata": {},
   "outputs": [
    {
     "name": "stdout",
     "output_type": "stream",
     "text": [
      "Mean Squared Error of linear regression :  153.52956956143774 (mm)\n",
      "R-squared Score: 0.9683489078344308\n"
     ]
    }
   ],
   "source": [
    "from sklearn.metrics import mean_squared_error, r2_score\n",
    "\n",
    "# Make predictions on the test data\n",
    "y_pred1 = model1.predict(X_test1)\n",
    "\n",
    "# Calculate evaluation metrics\n",
    "mse1 = mean_squared_error(y_test1, y_pred1)\n",
    "r2_1 = r2_score(y_test1, y_pred1)\n",
    "\n",
    "print(\"Mean Squared Error of linear regression : \", mse1, (\"(mm)\"))\n",
    "print(\"R-squared Score:\", r2_1)\n"
   ]
  },
  {
   "cell_type": "code",
   "execution_count": 114,
   "id": "f09b97f2",
   "metadata": {
    "scrolled": true
   },
   "outputs": [
    {
     "data": {
      "text/plain": [
       "166.21367948492275"
      ]
     },
     "execution_count": 114,
     "metadata": {},
     "output_type": "execute_result"
    }
   ],
   "source": [
    "np.average(y_pred1)"
   ]
  },
  {
   "cell_type": "code",
   "execution_count": 115,
   "id": "96bb50e6",
   "metadata": {
    "scrolled": false
   },
   "outputs": [
    {
     "data": {
      "text/plain": [
       "174.38309309309312"
      ]
     },
     "execution_count": 115,
     "metadata": {},
     "output_type": "execute_result"
    }
   ],
   "source": [
    "train_pixel_sz_HC_df[target_name].mean()"
   ]
  },
  {
   "cell_type": "code",
   "execution_count": 87,
   "id": "8c861c9a",
   "metadata": {
    "scrolled": true
   },
   "outputs": [
    {
     "name": "stdout",
     "output_type": "stream",
     "text": [
      "Intercept: -153.8930737171353\n",
      "Coefficients: [5.48906510e-02 1.08340051e+03]\n",
      "Coefficients: 0.05489065103196005\n",
      "Coefficients: 1083.4005118670234\n"
     ]
    }
   ],
   "source": [
    "print(\"Intercept:\", model1.intercept_)\n",
    "print(\"Coefficients:\", model1.coef_)\n",
    "\n",
    "print(\"Coefficients:\", model1.coef_[0])\n",
    "print(\"Coefficients:\", model1.coef_[1])\n",
    "\n"
   ]
  },
  {
   "cell_type": "code",
   "execution_count": null,
   "id": "70919361",
   "metadata": {},
   "outputs": [],
   "source": [
    "### what do yu think ?"
   ]
  },
  {
   "cell_type": "code",
   "execution_count": 91,
   "id": "af54a6ff",
   "metadata": {
    "scrolled": true
   },
   "outputs": [
    {
     "name": "stdout",
     "output_type": "stream",
     "text": [
      "['pixel_count', 'pixel size(mm)']\n"
     ]
    }
   ],
   "source": [
    "print(feature_names)"
   ]
  },
  {
   "cell_type": "code",
   "execution_count": null,
   "id": "76ae8c10",
   "metadata": {},
   "outputs": [],
   "source": [
    "# regress model 2"
   ]
  },
  {
   "cell_type": "code",
   "execution_count": 78,
   "id": "31b15a2a",
   "metadata": {},
   "outputs": [],
   "source": [
    "from sklearn.ensemble import RandomForestRegressor\n",
    "from sklearn.metrics import mean_absolute_error\n",
    "from sklearn.model_selection import train_test_split"
   ]
  },
  {
   "cell_type": "code",
   "execution_count": 96,
   "id": "4e10bdd4",
   "metadata": {},
   "outputs": [
    {
     "name": "stdout",
     "output_type": "stream",
     "text": [
      "Validation MAE for Random Forest Model: 4\n"
     ]
    }
   ],
   "source": [
    "# Split into validation and training data\n",
    "#Train Random forest model on train_x train_y\n",
    "train_X, val_X, train_y, val_y = train_test_split(X, y, random_state=1)\n",
    "\n",
    "# Define a random forest model\n",
    "rf_model = RandomForestRegressor(random_state=1)\n",
    "rf_model.fit(train_X, train_y)\n",
    "rf_val_predictions = rf_model.predict(val_X)\n",
    "rf_val_mae = mean_absolute_error(rf_val_predictions, val_y)\n",
    "\n",
    "print(\"Validation MAE for Random Forest Model: {:,.0f}\".format(rf_val_mae))"
   ]
  },
  {
   "cell_type": "code",
   "execution_count": 80,
   "id": "6b6a568b",
   "metadata": {},
   "outputs": [
    {
     "data": {
      "text/html": [
       "<style>#sk-container-id-3 {color: black;background-color: white;}#sk-container-id-3 pre{padding: 0;}#sk-container-id-3 div.sk-toggleable {background-color: white;}#sk-container-id-3 label.sk-toggleable__label {cursor: pointer;display: block;width: 100%;margin-bottom: 0;padding: 0.3em;box-sizing: border-box;text-align: center;}#sk-container-id-3 label.sk-toggleable__label-arrow:before {content: \"▸\";float: left;margin-right: 0.25em;color: #696969;}#sk-container-id-3 label.sk-toggleable__label-arrow:hover:before {color: black;}#sk-container-id-3 div.sk-estimator:hover label.sk-toggleable__label-arrow:before {color: black;}#sk-container-id-3 div.sk-toggleable__content {max-height: 0;max-width: 0;overflow: hidden;text-align: left;background-color: #f0f8ff;}#sk-container-id-3 div.sk-toggleable__content pre {margin: 0.2em;color: black;border-radius: 0.25em;background-color: #f0f8ff;}#sk-container-id-3 input.sk-toggleable__control:checked~div.sk-toggleable__content {max-height: 200px;max-width: 100%;overflow: auto;}#sk-container-id-3 input.sk-toggleable__control:checked~label.sk-toggleable__label-arrow:before {content: \"▾\";}#sk-container-id-3 div.sk-estimator input.sk-toggleable__control:checked~label.sk-toggleable__label {background-color: #d4ebff;}#sk-container-id-3 div.sk-label input.sk-toggleable__control:checked~label.sk-toggleable__label {background-color: #d4ebff;}#sk-container-id-3 input.sk-hidden--visually {border: 0;clip: rect(1px 1px 1px 1px);clip: rect(1px, 1px, 1px, 1px);height: 1px;margin: -1px;overflow: hidden;padding: 0;position: absolute;width: 1px;}#sk-container-id-3 div.sk-estimator {font-family: monospace;background-color: #f0f8ff;border: 1px dotted black;border-radius: 0.25em;box-sizing: border-box;margin-bottom: 0.5em;}#sk-container-id-3 div.sk-estimator:hover {background-color: #d4ebff;}#sk-container-id-3 div.sk-parallel-item::after {content: \"\";width: 100%;border-bottom: 1px solid gray;flex-grow: 1;}#sk-container-id-3 div.sk-label:hover label.sk-toggleable__label {background-color: #d4ebff;}#sk-container-id-3 div.sk-serial::before {content: \"\";position: absolute;border-left: 1px solid gray;box-sizing: border-box;top: 0;bottom: 0;left: 50%;z-index: 0;}#sk-container-id-3 div.sk-serial {display: flex;flex-direction: column;align-items: center;background-color: white;padding-right: 0.2em;padding-left: 0.2em;position: relative;}#sk-container-id-3 div.sk-item {position: relative;z-index: 1;}#sk-container-id-3 div.sk-parallel {display: flex;align-items: stretch;justify-content: center;background-color: white;position: relative;}#sk-container-id-3 div.sk-item::before, #sk-container-id-3 div.sk-parallel-item::before {content: \"\";position: absolute;border-left: 1px solid gray;box-sizing: border-box;top: 0;bottom: 0;left: 50%;z-index: -1;}#sk-container-id-3 div.sk-parallel-item {display: flex;flex-direction: column;z-index: 1;position: relative;background-color: white;}#sk-container-id-3 div.sk-parallel-item:first-child::after {align-self: flex-end;width: 50%;}#sk-container-id-3 div.sk-parallel-item:last-child::after {align-self: flex-start;width: 50%;}#sk-container-id-3 div.sk-parallel-item:only-child::after {width: 0;}#sk-container-id-3 div.sk-dashed-wrapped {border: 1px dashed gray;margin: 0 0.4em 0.5em 0.4em;box-sizing: border-box;padding-bottom: 0.4em;background-color: white;}#sk-container-id-3 div.sk-label label {font-family: monospace;font-weight: bold;display: inline-block;line-height: 1.2em;}#sk-container-id-3 div.sk-label-container {text-align: center;}#sk-container-id-3 div.sk-container {/* jupyter's `normalize.less` sets `[hidden] { display: none; }` but bootstrap.min.css set `[hidden] { display: none !important; }` so we also need the `!important` here to be able to override the default hidden behavior on the sphinx rendered scikit-learn.org. See: https://github.com/scikit-learn/scikit-learn/issues/21755 */display: inline-block !important;position: relative;}#sk-container-id-3 div.sk-text-repr-fallback {display: none;}</style><div id=\"sk-container-id-3\" class=\"sk-top-container\"><div class=\"sk-text-repr-fallback\"><pre>RandomForestRegressor(random_state=1)</pre><b>In a Jupyter environment, please rerun this cell to show the HTML representation or trust the notebook. <br />On GitHub, the HTML representation is unable to render, please try loading this page with nbviewer.org.</b></div><div class=\"sk-container\" hidden><div class=\"sk-item\"><div class=\"sk-estimator sk-toggleable\"><input class=\"sk-toggleable__control sk-hidden--visually\" id=\"sk-estimator-id-3\" type=\"checkbox\" checked><label for=\"sk-estimator-id-3\" class=\"sk-toggleable__label sk-toggleable__label-arrow\">RandomForestRegressor</label><div class=\"sk-toggleable__content\"><pre>RandomForestRegressor(random_state=1)</pre></div></div></div></div></div>"
      ],
      "text/plain": [
       "RandomForestRegressor(random_state=1)"
      ]
     },
     "execution_count": 80,
     "metadata": {},
     "output_type": "execute_result"
    }
   ],
   "source": [
    "# To improve accuracy, create a new Random Forest model which I will train on all training data\n",
    "rf_model_on_full_data = RandomForestRegressor(random_state=1)\n",
    "\n",
    "# fit rf_model_on_full_data on all data from the training data\n",
    "rf_model_on_full_data.fit(X, y)"
   ]
  },
  {
   "cell_type": "code",
   "execution_count": 117,
   "id": "d97dd7c7",
   "metadata": {},
   "outputs": [],
   "source": [
    "rf_model_on_full_data.feature_importances_\n",
    "feature_importance = rf_model_on_full_data.feature_importances_"
   ]
  },
  {
   "cell_type": "code",
   "execution_count": 118,
   "id": "604d4e0d",
   "metadata": {},
   "outputs": [
    {
     "data": {
      "image/png": "[encoded data removed]",
      "text/plain": [
       "<Figure size 640x480 with 1 Axes>"
      ]
     },
     "metadata": {},
     "output_type": "display_data"
    }
   ],
   "source": [
    "plt.bar(feature_names, feature_importance)\n",
    "plt.xlabel('Features')\n",
    "plt.ylabel('Importance')\n",
    "plt.title('Feature Importance in Random Forest(rf_model_on_full_data)')\n",
    "plt.xticks(rotation='vertical')\n",
    "plt.show()"
   ]
  },
  {
   "cell_type": "code",
   "execution_count": null,
   "id": "cffe9af3",
   "metadata": {},
   "outputs": [],
   "source": [
    "#prediction with "
   ]
  },
  {
   "cell_type": "code",
   "execution_count": 123,
   "id": "14e1abe0",
   "metadata": {},
   "outputs": [
    {
     "name": "stdout",
     "output_type": "stream",
     "text": [
      "Predicted Head Circum with linear regression [32445.48672881 37879.94344786]\n",
      "Predicted Head Circum with random tree regression [240.2776 240.2776]\n"
     ]
    }
   ],
   "source": [
    "# prediction on new data\n",
    "new_data = pd.DataFrame({'pixel_count': [500, 600], 'pixel size(mm)': [30, 35]})\n",
    "prediction1 = model1.predict(new_data)\n",
    "prediction2 = rf_model.predict(new_data)\n",
    "\n",
    "print(\"Predicted Head Circum with linear regression\", prediction1)\n",
    "print(\"Predicted Head Circum with random tree regression\", prediction2)"
   ]
  },
  {
   "cell_type": "code",
   "execution_count": 127,
   "id": "89e1f060",
   "metadata": {},
   "outputs": [],
   "source": [
    "val_img_data_path = 'G:/.shortcut-targets-by-id/10wVB-YsfTmmpZyUo8jBH1cDOkVWVx5N1/T1 Project/Data/Training-Splitted/val/Annotation/'"
   ]
  },
  {
   "cell_type": "code",
   "execution_count": 122,
   "id": "b58adb28",
   "metadata": {},
   "outputs": [
    {
     "data": {
      "text/plain": [
       "True"
      ]
     },
     "execution_count": 122,
     "metadata": {},
     "output_type": "execute_result"
    }
   ],
   "source": [
    "test_pixel_sz_HC_file = local_data_path_to + 'test_set_pixel_size.csv'\n",
    "os.path.exists(test_pixel_sz_HC_file )"
   ]
  },
  {
   "cell_type": "code",
   "execution_count": 124,
   "id": "689a7bfb",
   "metadata": {},
   "outputs": [
    {
     "data": {
      "text/html": [
       "<div>\n",
       "<style scoped>\n",
       "    .dataframe tbody tr th:only-of-type {\n",
       "        vertical-align: middle;\n",
       "    }\n",
       "\n",
       "    .dataframe tbody tr th {\n",
       "        vertical-align: top;\n",
       "    }\n",
       "\n",
       "    .dataframe thead th {\n",
       "        text-align: right;\n",
       "    }\n",
       "</style>\n",
       "<table border=\"1\" class=\"dataframe\">\n",
       "  <thead>\n",
       "    <tr style=\"text-align: right;\">\n",
       "      <th></th>\n",
       "      <th>filename</th>\n",
       "      <th>pixel size(mm)</th>\n",
       "    </tr>\n",
       "  </thead>\n",
       "  <tbody>\n",
       "    <tr>\n",
       "      <th>0</th>\n",
       "      <td>000_HC.png</td>\n",
       "      <td>0.235857</td>\n",
       "    </tr>\n",
       "    <tr>\n",
       "      <th>1</th>\n",
       "      <td>001_HC.png</td>\n",
       "      <td>0.067973</td>\n",
       "    </tr>\n",
       "    <tr>\n",
       "      <th>2</th>\n",
       "      <td>002_HC.png</td>\n",
       "      <td>0.165202</td>\n",
       "    </tr>\n",
       "    <tr>\n",
       "      <th>3</th>\n",
       "      <td>003_HC.png</td>\n",
       "      <td>0.096674</td>\n",
       "    </tr>\n",
       "    <tr>\n",
       "      <th>4</th>\n",
       "      <td>004_HC.png</td>\n",
       "      <td>0.202203</td>\n",
       "    </tr>\n",
       "  </tbody>\n",
       "</table>\n",
       "</div>"
      ],
      "text/plain": [
       "     filename  pixel size(mm)\n",
       "0  000_HC.png        0.235857\n",
       "1  001_HC.png        0.067973\n",
       "2  002_HC.png        0.165202\n",
       "3  003_HC.png        0.096674\n",
       "4  004_HC.png        0.202203"
      ]
     },
     "execution_count": 124,
     "metadata": {},
     "output_type": "execute_result"
    }
   ],
   "source": [
    "test_pixel_sz_HC_df = pd.read_csv(test_pixel_sz_HC_file)\n",
    "test_pixel_sz_HC_df.head()"
   ]
  },
  {
   "cell_type": "code",
   "execution_count": 120,
   "id": "f4039fc6",
   "metadata": {},
   "outputs": [],
   "source": [
    "def get_pixel_count2(img_data_path, filename):\n",
    "    file_path = os.path.join(img_data_path, filename)\n",
    "    if os.path.exists(file_path):\n",
    "        label = Image.open(file_path)\n",
    "        label = np.array(label)\n",
    "        label = tf.convert_to_tensor(label)\n",
    "        label = tf.cast(label, tf.float32) / 255.0\n",
    "        label = tf.cast(label, tf.int32)\n",
    "        pixel_count = np.sum(label)\n",
    "    else:\n",
    "        print(\"No such file: \" + filename)\n",
    "        pixel_count = np.nan\n",
    "\n",
    "    return pixel_count\n"
   ]
  },
  {
   "cell_type": "code",
   "execution_count": 129,
   "id": "e16754a6",
   "metadata": {},
   "outputs": [],
   "source": [
    "test_pixel_sz_HC_df['anno_filename'] = test_pixel_sz_HC_df['filename'].apply(lambda x: update_filename(x))"
   ]
  },
  {
   "cell_type": "code",
   "execution_count": 130,
   "id": "c4148011",
   "metadata": {},
   "outputs": [
    {
     "name": "stdout",
     "output_type": "stream",
     "text": [
      "No such file: 000_HC_Annotation.png\n",
      "No such file: 001_HC_Annotation.png\n",
      "No such file: 003_HC_Annotation.png\n",
      "No such file: 004_HC_Annotation.png\n",
      "No such file: 005_HC_Annotation.png\n",
      "No such file: 006_HC_Annotation.png\n",
      "No such file: 007_HC_Annotation.png\n",
      "No such file: 008_HC_Annotation.png\n",
      "No such file: 009_HC_Annotation.png\n",
      "No such file: 010_HC_Annotation.png\n",
      "No such file: 012_HC_Annotation.png\n",
      "No such file: 013_HC_Annotation.png\n",
      "No such file: 016_HC_Annotation.png\n",
      "No such file: 018_HC_Annotation.png\n",
      "No such file: 019_HC_Annotation.png\n",
      "No such file: 021_HC_Annotation.png\n",
      "No such file: 022_HC_Annotation.png\n",
      "No such file: 024_HC_Annotation.png\n",
      "No such file: 025_HC_Annotation.png\n",
      "No such file: 026_HC_Annotation.png\n",
      "No such file: 027_HC_Annotation.png\n",
      "No such file: 028_HC_Annotation.png\n",
      "No such file: 029_HC_Annotation.png\n",
      "No such file: 031_HC_Annotation.png\n",
      "No such file: 032_HC_Annotation.png\n",
      "No such file: 035_HC_Annotation.png\n",
      "No such file: 037_HC_Annotation.png\n",
      "No such file: 038_HC_Annotation.png\n",
      "No such file: 039_HC_Annotation.png\n",
      "No such file: 040_HC_Annotation.png\n",
      "No such file: 042_HC_Annotation.png\n",
      "No such file: 046_HC_Annotation.png\n",
      "No such file: 048_HC_Annotation.png\n",
      "No such file: 049_HC_Annotation.png\n",
      "No such file: 050_HC_Annotation.png\n",
      "No such file: 051_HC_Annotation.png\n",
      "No such file: 052_HC_Annotation.png\n",
      "No such file: 053_HC_Annotation.png\n",
      "No such file: 054_HC_Annotation.png\n",
      "No such file: 056_HC_Annotation.png\n",
      "No such file: 058_HC_Annotation.png\n",
      "No such file: 060_HC_Annotation.png\n",
      "No such file: 062_HC_Annotation.png\n",
      "No such file: 063_HC_Annotation.png\n",
      "No such file: 064_HC_Annotation.png\n",
      "No such file: 067_HC_Annotation.png\n",
      "No such file: 068_HC_Annotation.png\n",
      "No such file: 069_HC_Annotation.png\n",
      "No such file: 071_HC_Annotation.png\n",
      "No such file: 072_HC_Annotation.png\n",
      "No such file: 073_HC_Annotation.png\n",
      "No such file: 074_HC_Annotation.png\n",
      "No such file: 075_HC_Annotation.png\n",
      "No such file: 076_HC_Annotation.png\n",
      "No such file: 077_HC_Annotation.png\n",
      "No such file: 078_HC_Annotation.png\n",
      "No such file: 079_HC_Annotation.png\n",
      "No such file: 080_HC_Annotation.png\n",
      "No such file: 081_HC_Annotation.png\n",
      "No such file: 082_HC_Annotation.png\n",
      "No such file: 083_HC_Annotation.png\n",
      "No such file: 084_HC_Annotation.png\n",
      "No such file: 085_HC_Annotation.png\n",
      "No such file: 087_HC_Annotation.png\n",
      "No such file: 088_HC_Annotation.png\n",
      "No such file: 089_HC_Annotation.png\n",
      "No such file: 090_HC_Annotation.png\n",
      "No such file: 092_HC_Annotation.png\n",
      "No such file: 093_HC_Annotation.png\n",
      "No such file: 094_HC_Annotation.png\n",
      "No such file: 096_HC_Annotation.png\n",
      "No such file: 097_HC_Annotation.png\n",
      "No such file: 098_HC_Annotation.png\n",
      "No such file: 099_HC_Annotation.png\n",
      "No such file: 100_HC_Annotation.png\n",
      "No such file: 101_HC_Annotation.png\n",
      "No such file: 102_HC_Annotation.png\n",
      "No such file: 103_HC_Annotation.png\n",
      "No such file: 104_HC_Annotation.png\n",
      "No such file: 105_HC_Annotation.png\n",
      "No such file: 106_HC_Annotation.png\n",
      "No such file: 107_HC_Annotation.png\n",
      "No such file: 108_HC_Annotation.png\n",
      "No such file: 109_HC_Annotation.png\n",
      "No such file: 110_HC_Annotation.png\n",
      "No such file: 111_HC_Annotation.png\n",
      "No such file: 112_HC_Annotation.png\n",
      "No such file: 114_HC_Annotation.png\n",
      "No such file: 115_HC_Annotation.png\n",
      "No such file: 117_HC_Annotation.png\n",
      "No such file: 118_HC_Annotation.png\n",
      "No such file: 119_HC_Annotation.png\n",
      "No such file: 120_HC_Annotation.png\n",
      "No such file: 121_HC_Annotation.png\n",
      "No such file: 122_HC_Annotation.png\n",
      "No such file: 123_HC_Annotation.png\n",
      "No such file: 125_HC_Annotation.png\n",
      "No such file: 126_HC_Annotation.png\n",
      "No such file: 128_HC_Annotation.png\n",
      "No such file: 129_HC_Annotation.png\n",
      "No such file: 132_HC_Annotation.png\n",
      "No such file: 133_HC_Annotation.png\n",
      "No such file: 135_HC_Annotation.png\n",
      "No such file: 136_HC_Annotation.png\n",
      "No such file: 137_HC_Annotation.png\n",
      "No such file: 139_HC_Annotation.png\n",
      "No such file: 140_HC_Annotation.png\n",
      "No such file: 142_HC_Annotation.png\n",
      "No such file: 143_HC_Annotation.png\n",
      "No such file: 144_HC_Annotation.png\n",
      "No such file: 146_HC_Annotation.png\n",
      "No such file: 147_HC_Annotation.png\n",
      "No such file: 149_HC_Annotation.png\n",
      "No such file: 150_HC_Annotation.png\n",
      "No such file: 151_HC_Annotation.png\n",
      "No such file: 152_HC_Annotation.png\n",
      "No such file: 153_HC_Annotation.png\n",
      "No such file: 154_HC_Annotation.png\n",
      "No such file: 156_HC_Annotation.png\n",
      "No such file: 160_HC_Annotation.png\n",
      "No such file: 161_HC_Annotation.png\n",
      "No such file: 162_HC_Annotation.png\n",
      "No such file: 164_HC_Annotation.png\n",
      "No such file: 165_HC_Annotation.png\n",
      "No such file: 167_HC_Annotation.png\n",
      "No such file: 168_HC_Annotation.png\n",
      "No such file: 169_HC_Annotation.png\n",
      "No such file: 171_HC_Annotation.png\n",
      "No such file: 172_HC_Annotation.png\n",
      "No such file: 173_HC_Annotation.png\n",
      "No such file: 176_HC_Annotation.png\n",
      "No such file: 177_HC_Annotation.png\n",
      "No such file: 178_HC_Annotation.png\n",
      "No such file: 179_HC_Annotation.png\n",
      "No such file: 180_HC_Annotation.png\n",
      "No such file: 181_HC_Annotation.png\n",
      "No such file: 183_HC_Annotation.png\n",
      "No such file: 185_HC_Annotation.png\n",
      "No such file: 187_HC_Annotation.png\n",
      "No such file: 188_HC_Annotation.png\n",
      "No such file: 189_HC_Annotation.png\n",
      "No such file: 191_HC_Annotation.png\n",
      "No such file: 192_HC_Annotation.png\n",
      "No such file: 193_HC_Annotation.png\n",
      "No such file: 194_HC_Annotation.png\n",
      "No such file: 196_HC_Annotation.png\n",
      "No such file: 197_HC_Annotation.png\n",
      "No such file: 198_HC_Annotation.png\n",
      "No such file: 199_HC_Annotation.png\n",
      "No such file: 201_HC_Annotation.png\n",
      "No such file: 202_HC_Annotation.png\n",
      "No such file: 203_HC_Annotation.png\n",
      "No such file: 204_HC_Annotation.png\n",
      "No such file: 205_HC_Annotation.png\n",
      "No such file: 206_HC_Annotation.png\n",
      "No such file: 209_HC_Annotation.png\n",
      "No such file: 210_HC_Annotation.png\n",
      "No such file: 212_HC_Annotation.png\n",
      "No such file: 213_HC_Annotation.png\n",
      "No such file: 214_HC_Annotation.png\n",
      "No such file: 217_HC_Annotation.png\n",
      "No such file: 219_HC_Annotation.png\n",
      "No such file: 220_HC_Annotation.png\n",
      "No such file: 221_HC_Annotation.png\n",
      "No such file: 222_HC_Annotation.png\n",
      "No such file: 223_HC_Annotation.png\n",
      "No such file: 224_HC_Annotation.png\n",
      "No such file: 227_HC_Annotation.png\n",
      "No such file: 228_HC_Annotation.png\n",
      "No such file: 229_HC_Annotation.png\n",
      "No such file: 230_HC_Annotation.png\n",
      "No such file: 231_HC_Annotation.png\n",
      "No such file: 233_HC_Annotation.png\n",
      "No such file: 234_HC_Annotation.png\n",
      "No such file: 235_HC_Annotation.png\n",
      "No such file: 236_HC_Annotation.png\n",
      "No such file: 237_HC_Annotation.png\n",
      "No such file: 238_HC_Annotation.png\n",
      "No such file: 239_HC_Annotation.png\n",
      "No such file: 240_HC_Annotation.png\n",
      "No such file: 242_HC_Annotation.png\n",
      "No such file: 243_HC_Annotation.png\n",
      "No such file: 245_HC_Annotation.png\n",
      "No such file: 247_HC_Annotation.png\n",
      "No such file: 250_HC_Annotation.png\n",
      "No such file: 251_HC_Annotation.png\n",
      "No such file: 253_HC_Annotation.png\n",
      "No such file: 258_HC_Annotation.png\n",
      "No such file: 259_HC_Annotation.png\n",
      "No such file: 260_HC_Annotation.png\n",
      "No such file: 261_HC_Annotation.png\n",
      "No such file: 263_HC_Annotation.png\n",
      "No such file: 264_HC_Annotation.png\n",
      "No such file: 265_HC_Annotation.png\n",
      "No such file: 266_HC_Annotation.png\n",
      "No such file: 267_HC_Annotation.png\n",
      "No such file: 268_HC_Annotation.png\n",
      "No such file: 270_HC_Annotation.png\n",
      "No such file: 271_HC_Annotation.png\n",
      "No such file: 274_HC_Annotation.png\n",
      "No such file: 275_HC_Annotation.png\n",
      "No such file: 276_HC_Annotation.png\n",
      "No such file: 277_HC_Annotation.png\n",
      "No such file: 278_HC_Annotation.png\n",
      "No such file: 279_HC_Annotation.png\n",
      "No such file: 281_HC_Annotation.png\n",
      "No such file: 282_HC_Annotation.png\n",
      "No such file: 283_HC_Annotation.png\n",
      "No such file: 284_HC_Annotation.png\n",
      "No such file: 288_HC_Annotation.png\n",
      "No such file: 289_HC_Annotation.png\n",
      "No such file: 291_HC_Annotation.png\n",
      "No such file: 292_HC_Annotation.png\n",
      "No such file: 294_HC_Annotation.png\n",
      "No such file: 297_HC_Annotation.png\n",
      "No such file: 298_HC_Annotation.png\n",
      "No such file: 299_HC_Annotation.png\n",
      "No such file: 301_HC_Annotation.png\n",
      "No such file: 302_HC_Annotation.png\n",
      "No such file: 303_HC_Annotation.png\n",
      "No such file: 304_HC_Annotation.png\n",
      "No such file: 305_HC_Annotation.png\n",
      "No such file: 306_HC_Annotation.png\n",
      "No such file: 307_HC_Annotation.png\n",
      "No such file: 308_HC_Annotation.png\n",
      "No such file: 309_HC_Annotation.png\n",
      "No such file: 310_HC_Annotation.png\n",
      "No such file: 311_HC_Annotation.png\n",
      "No such file: 315_HC_Annotation.png\n",
      "No such file: 317_HC_Annotation.png\n",
      "No such file: 319_HC_Annotation.png\n",
      "No such file: 320_HC_Annotation.png\n",
      "No such file: 321_HC_Annotation.png\n",
      "No such file: 326_HC_Annotation.png\n",
      "No such file: 327_HC_Annotation.png\n",
      "No such file: 328_HC_Annotation.png\n",
      "No such file: 329_HC_Annotation.png\n",
      "No such file: 331_HC_Annotation.png\n",
      "No such file: 332_HC_Annotation.png\n",
      "No such file: 333_HC_Annotation.png\n"
     ]
    }
   ],
   "source": [
    "test_pixel_sz_HC_df['pixel_count'] = test_pixel_sz_HC_df['anno_filename'].apply(lambda x: get_pixel_count(val_img_data_path, x))\n"
   ]
  },
  {
   "cell_type": "code",
   "execution_count": 132,
   "id": "4efb036c",
   "metadata": {},
   "outputs": [],
   "source": [
    "cleaned_test_df=test_pixel_sz_HC_df.dropna()"
   ]
  },
  {
   "cell_type": "code",
   "execution_count": 134,
   "id": "a668ed5a",
   "metadata": {},
   "outputs": [
    {
     "data": {
      "text/html": [
       "<div>\n",
       "<style scoped>\n",
       "    .dataframe tbody tr th:only-of-type {\n",
       "        vertical-align: middle;\n",
       "    }\n",
       "\n",
       "    .dataframe tbody tr th {\n",
       "        vertical-align: top;\n",
       "    }\n",
       "\n",
       "    .dataframe thead th {\n",
       "        text-align: right;\n",
       "    }\n",
       "</style>\n",
       "<table border=\"1\" class=\"dataframe\">\n",
       "  <thead>\n",
       "    <tr style=\"text-align: right;\">\n",
       "      <th></th>\n",
       "      <th>pixel_count</th>\n",
       "      <th>pixel size(mm)</th>\n",
       "    </tr>\n",
       "  </thead>\n",
       "  <tbody>\n",
       "    <tr>\n",
       "      <th>2</th>\n",
       "      <td>2820.0</td>\n",
       "      <td>0.165202</td>\n",
       "    </tr>\n",
       "    <tr>\n",
       "      <th>11</th>\n",
       "      <td>3208.0</td>\n",
       "      <td>0.142794</td>\n",
       "    </tr>\n",
       "    <tr>\n",
       "      <th>14</th>\n",
       "      <td>2044.0</td>\n",
       "      <td>0.132663</td>\n",
       "    </tr>\n",
       "    <tr>\n",
       "      <th>15</th>\n",
       "      <td>2928.0</td>\n",
       "      <td>0.235724</td>\n",
       "    </tr>\n",
       "    <tr>\n",
       "      <th>17</th>\n",
       "      <td>2228.0</td>\n",
       "      <td>0.128554</td>\n",
       "    </tr>\n",
       "  </tbody>\n",
       "</table>\n",
       "</div>"
      ],
      "text/plain": [
       "    pixel_count  pixel size(mm)\n",
       "2        2820.0        0.165202\n",
       "11       3208.0        0.142794\n",
       "14       2044.0        0.132663\n",
       "15       2928.0        0.235724\n",
       "17       2228.0        0.128554"
      ]
     },
     "execution_count": 134,
     "metadata": {},
     "output_type": "execute_result"
    }
   ],
   "source": [
    "cleaned_test_df[feature_names].head()"
   ]
  },
  {
   "cell_type": "code",
   "execution_count": 135,
   "id": "774c5c13",
   "metadata": {},
   "outputs": [],
   "source": [
    "new_test_data = cleaned_test_df[feature_names].head()\n"
   ]
  },
  {
   "cell_type": "code",
   "execution_count": 136,
   "id": "c8545fc4",
   "metadata": {},
   "outputs": [
    {
     "name": "stdout",
     "output_type": "stream",
     "text": [
      "[179.76208483 176.91005656 101.47394992 262.31180292 107.19853042]\n"
     ]
    }
   ],
   "source": [
    "prediction1 = model1.predict(new_test_data)  #linear regression model .  prediction unit = mm ?\n",
    "print(prediction1)"
   ]
  },
  {
   "cell_type": "code",
   "execution_count": 138,
   "id": "1cbb168d",
   "metadata": {},
   "outputs": [
    {
     "name": "stdout",
     "output_type": "stream",
     "text": [
      "[181.9931 180.8971  98.7757 272.2664 109.1821]\n"
     ]
    }
   ],
   "source": [
    "prediction2 = rf_model.predict(new_test_data) #random tree regression is known better in avoid overfitting. \n",
    "print(prediction2)"
   ]
  },
  {
   "cell_type": "code",
   "execution_count": null,
   "id": "fd39adb6",
   "metadata": {},
   "outputs": [],
   "source": []
  }
 ],
 "metadata": {
  "kernelspec": {
   "display_name": "Python 3 (ipykernel)",
   "language": "python",
   "name": "python3"
  },
  "language_info": {
   "codemirror_mode": {
    "name": "ipython",
    "version": 3
   },
   "file_extension": ".py",
   "mimetype": "text/x-python",
   "name": "python",
   "nbconvert_exporter": "python",
   "pygments_lexer": "ipython3",
   "version": "3.9.6"
  }
 },
 "nbformat": 4,
 "nbformat_minor": 5
}
