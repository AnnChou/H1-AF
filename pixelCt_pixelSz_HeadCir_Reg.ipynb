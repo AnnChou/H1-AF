{
 "cells": [
  {
   "cell_type": "code",
   "execution_count": 1,
   "id": "c52bc859",
   "metadata": {},
   "outputs": [],
   "source": [
    "import os\n",
    "from glob import glob\n",
    "from PIL import Image\n",
    "import pandas as pd\n",
    "import numpy as np\n",
    "import matplotlib.pyplot as plt\n",
    "import tensorflow as tf\n",
    "from sklearn.model_selection import train_test_split\n",
    "from scipy.stats import pearsonr\n",
    "\n"
   ]
  },
  {
   "cell_type": "code",
   "execution_count": 2,
   "id": "54504bad",
   "metadata": {},
   "outputs": [
    {
     "data": {
      "text/plain": [
       "True"
      ]
     },
     "execution_count": 2,
     "metadata": {},
     "output_type": "execute_result"
    }
   ],
   "source": [
    "data_path_to = 'G:/.shortcut-targets-by-id/10wVB-YsfTmmpZyUo8jBH1cDOkVWVx5N1/T1 Project/Data/Training-Splitted/'\n",
    "os.path.exists(data_path_to)"
   ]
  },
  {
   "cell_type": "code",
   "execution_count": 3,
   "id": "ff83198d",
   "metadata": {},
   "outputs": [
    {
     "data": {
      "text/plain": [
       "True"
      ]
     },
     "execution_count": 3,
     "metadata": {},
     "output_type": "execute_result"
    }
   ],
   "source": [
    "local_data_path_to=\"Data/Training-Splitted/\"\n",
    "os.path.exists(local_data_path_to)"
   ]
  },
  {
   "cell_type": "code",
   "execution_count": 4,
   "id": "79e4943e",
   "metadata": {},
   "outputs": [],
   "source": [
    "img_data_path = 'G:/.shortcut-targets-by-id/10wVB-YsfTmmpZyUo8jBH1cDOkVWVx5N1/T1 Project/Data/Training-Splitted/train/Annotation/'\n",
    "files = sorted(os.listdir(img_data_path))\n",
    "#print(files)\n",
    "\n",
    "\n",
    "    "
   ]
  },
  {
   "cell_type": "code",
   "execution_count": 5,
   "id": "5086f520",
   "metadata": {},
   "outputs": [],
   "source": [
    "pixel_count=[]\n",
    "for f in files:\n",
    "    label = Image.open(img_data_path+f)\n",
    "    label = np.array(label)\n",
    "    label = tf.convert_to_tensor(label)\n",
    "    label = tf.cast(label, tf.float32) / 255.0\n",
    "    label = tf.cast(label, tf.int32)\n",
    "    pixel_count.append(np.sum(label))\n"
   ]
  },
  {
   "cell_type": "code",
   "execution_count": 6,
   "id": "071a7169",
   "metadata": {
    "scrolled": true
   },
   "outputs": [
    {
     "name": "stdout",
     "output_type": "stream",
     "text": [
      "[1632, 1608, 1924, 2496, 1536, 2628, 2628, 1464, 2032, 1308, 2320, 2288, 1812, 2712, 2032, 2748, 2224, 2744, 1644, 1624, 2884, 1736, 3376, 1452, 1768, 2412, 1516, 1688, 1876, 1888, 2732, 2344, 1696, 2076, 2092, 2172, 3016, 2836, 2208, 3292, 2388, 2576, 2576, 1612, 2912, 2960, 2080, 1800, 3300, 2760, 2300, 2088, 3044, 2564, 1624, 2316, 1552, 2956, 2832, 3024, 1860, 3576, 3508, 2860, 1452, 2840, 3108, 2832, 2288, 2212, 2092, 3172, 2180, 3524, 2200, 1424, 1604, 3680, 3452, 2664, 1856, 3084, 2644, 2420, 2976, 2608, 3112, 2992, 1508, 1500, 2696, 2536, 2536, 2140, 2920, 3308, 3100, 2900, 2080, 3404, 2756, 2628, 3168, 3000, 2100, 2116, 3628, 1432, 3468, 2080, 1592, 1836, 1880, 1924, 1788, 3016, 3336, 2036, 2320, 3264, 3472, 3560, 3400, 2340, 1936, 1732, 2600, 2672, 2772, 2468, 2920, 3536, 2168, 3324, 1468, 2912, 2476, 2388, 2364, 2648, 2736, 3084, 2660, 3136, 3384, 1704, 2032, 2628, 2992, 2968, 3188, 2256, 2964, 3076, 3232, 3192, 3080, 3076, 3060, 3148, 3016, 2544, 1508, 3420, 2784, 3336, 2352, 3812, 2900, 2680, 3176, 3268, 1684, 2120, 2724, 4120, 2740, 2564, 2020, 2456, 3328, 3864, 2096, 3964, 3580, 3580, 3564, 4136, 3376, 2784, 3088, 2264, 3352, 3768, 3496, 2612, 3448, 3784, 4112, 3552, 3676, 4012, 3548, 3592, 3524, 3592, 3528, 4304, 2848, 3496, 3448, 3824, 3528, 3160, 3508, 2664, 4372, 4336, 4136, 2316, 1888, 3224, 3108, 3568, 3424, 3632, 2536, 4028, 3336, 2896, 3296, 2408, 2408, 3920, 3848, 3916, 3756, 2752, 3668, 3664, 3000, 3836, 3512, 3612, 3520, 3688, 3904, 3964, 3452, 3032, 4004, 2844, 3200, 3232, 3268, 3564, 3620, 3452, 3168, 3480, 3908, 4148, 3228, 1896, 4000, 3300, 3124, 2976, 4256, 4064, 3112, 2892, 3236, 2956, 2876, 2964, 2932, 3088, 3672, 3548, 3348, 3112, 3572, 3928, 3776, 3560, 3056, 3372, 2412, 2192, 3976, 3120, 3964, 4028, 3816, 3176, 4420, 4376, 3972, 3376, 3116, 3496, 3976, 3692, 2992, 3356, 3348, 3248, 3560, 3664, 3532, 3948, 3188, 3936, 4516, 2960, 3684, 3028, 3028, 4040, 4016, 3184, 2916, 3540, 3592, 2868, 2804, 2776, 3876, 3156, 3456, 3188, 3024, 3240, 3208, 3228, 3228, 3148, 3448, 3220, 2756, 3988, 3868, 3024, 3820, 3768, 3436, 3264, 3292, 4088, 4100, 3676, 3060, 3060, 3060, 4248, 3972, 3740, 4220, 2644, 3756, 3048, 3496, 3212, 3384, 3716, 3364, 3352, 3492, 3240, 3888, 3968, 3260, 4172, 3840, 3112, 3172, 3464, 3464, 3276, 3108, 3412, 3948, 3216, 3624, 3532, 3608, 3604, 3176, 3684, 4052, 3912, 3484, 3648, 3812, 3876, 3868, 3896, 3900, 3292, 4060, 3428, 2180, 2192, 3764, 3376, 3300, 4000, 3680, 3072, 3064, 3708, 3332, 3184, 2676, 3476, 3928, 3888, 3656, 3660, 3476, 2204, 3740, 3904, 3200, 3316, 3684, 3396, 3128, 3264, 3768, 4152, 4176, 3900, 3676, 3396, 3592, 3876, 3876, 3644, 3624, 3668, 1908, 3936, 3880, 3640, 3584, 3476, 2604, 3544, 3024, 3756, 2912, 2964, 4024, 3288, 3240, 3240, 3756, 4272, 3412, 2700, 3064, 3852, 4056, 2624, 3340, 3260, 3728, 3232, 3232, 3224, 2976, 3860, 3684, 4300, 3472, 3704, 3300, 4244, 3088, 3092, 4128, 4280, 4048, 3516, 3272, 3184, 3392, 3736, 3040, 2856, 3708, 3968, 3872, 3900, 3932, 3384, 4340, 3680, 3648, 3584, 3768, 2792, 3392, 2292, 3544, 3072, 3520, 3820, 3080, 2340, 4168, 3212, 3868, 3588, 2728, 3876, 3616, 4184, 3404, 3416, 3968, 3752, 3420, 3848, 4364, 3324, 2732, 1980, 3468, 3868, 3868, 4164, 2256, 3396, 4036, 3700, 3324, 2668, 4312, 3912, 3460, 3056, 2220, 3884, 4160, 3888, 2564, 3572, 3848, 3620, 2560, 3124, 2572, 2572, 1116, 2168, 2104, 3368, 2448, 3504, 2776, 3704, 3724, 4028, 2424, 2424, 3644, 3472, 3400, 4064, 3520, 2108, 2780, 4084, 3684, 2808, 3384, 1720, 3952, 3588, 1884, 1800, 2992, 2720, 2488, 1912, 3596, 3596, 3592, 2596, 3148, 2792, 2780, 4408, 2296, 3332, 3756, 2856, 4240, 3020, 4348, 2956, 2940, 4220, 3704, 2228, 3540, 3540, 4252, 2572, 2620, 4224, 4300, 2596, 2388, 3628, 3604, 2624, 3592, 3684, 3692, 3484, 3144, 3908, 2764, 2764, 2972, 3684, 3712, 4044, 3808, 4124, 3752, 3348, 2720, 3452, 3804, 3624, 2988, 4240, 2960, 2968, 3012, 3344, 3584, 4188, 3388, 3852, 3404, 4052, 3508, 2548, 2756, 3136, 3596, 3624, 2568, 3772, 3152, 2872, 3748, 3436, 3932, 3148, 3704, 2704, 2764, 3616, 4020, 3756, 3008, 3648, 3352, 3228, 3232, 3388, 3116, 2248, 2320, 3436, 2996, 3800, 2592, 3248, 3452, 3720, 3696, 3704, 3044, 3044, 2672, 2956, 3152, 3844, 4328, 3704, 3700, 3532, 3044, 3880, 3152, 3464, 2820, 3964, 4152, 2860, 3264]\n"
     ]
    }
   ],
   "source": [
    "print(pixel_count)"
   ]
  },
  {
   "cell_type": "code",
   "execution_count": 7,
   "id": "e2cc002f",
   "metadata": {
    "scrolled": true
   },
   "outputs": [
    {
     "data": {
      "text/plain": [
       "True"
      ]
     },
     "execution_count": 7,
     "metadata": {},
     "output_type": "execute_result"
    }
   ],
   "source": [
    "#train_pixel_sz_HC_file = local_data_path_to + 'training_set_pixel_size_and_HC.csv'\n",
    "#os.path.exists(train_pixel_sz_HC_file)"
   ]
  },
  {
   "cell_type": "code",
   "execution_count": 58,
   "id": "ea5475bf",
   "metadata": {},
   "outputs": [
    {
     "data": {
      "text/plain": [
       "True"
      ]
     },
     "execution_count": 58,
     "metadata": {},
     "output_type": "execute_result"
    }
   ],
   "source": [
    "train_pixel_sz_HC_file = local_data_path_to + 'train_split_pixel_size_and_HC.csv'\n",
    "os.path.exists(train_pixel_sz_HC_file)"
   ]
  },
  {
   "cell_type": "code",
   "execution_count": 61,
   "id": "928b9d3d",
   "metadata": {
    "scrolled": true
   },
   "outputs": [
    {
     "data": {
      "text/html": [
       "<div>\n",
       "<style scoped>\n",
       "    .dataframe tbody tr th:only-of-type {\n",
       "        vertical-align: middle;\n",
       "    }\n",
       "\n",
       "    .dataframe tbody tr th {\n",
       "        vertical-align: top;\n",
       "    }\n",
       "\n",
       "    .dataframe thead th {\n",
       "        text-align: right;\n",
       "    }\n",
       "</style>\n",
       "<table border=\"1\" class=\"dataframe\">\n",
       "  <thead>\n",
       "    <tr style=\"text-align: right;\">\n",
       "      <th></th>\n",
       "      <th>Unnamed: 0</th>\n",
       "      <th>filename</th>\n",
       "      <th>pixel size(mm)</th>\n",
       "      <th>head circumference (mm)</th>\n",
       "    </tr>\n",
       "  </thead>\n",
       "  <tbody>\n",
       "    <tr>\n",
       "      <th>0</th>\n",
       "      <td>0</td>\n",
       "      <td>000_HC.png</td>\n",
       "      <td>0.069136</td>\n",
       "      <td>44.30</td>\n",
       "    </tr>\n",
       "    <tr>\n",
       "      <th>1</th>\n",
       "      <td>1</td>\n",
       "      <td>001_HC.png</td>\n",
       "      <td>0.089659</td>\n",
       "      <td>56.81</td>\n",
       "    </tr>\n",
       "    <tr>\n",
       "      <th>2</th>\n",
       "      <td>2</td>\n",
       "      <td>003_HC.png</td>\n",
       "      <td>0.091291</td>\n",
       "      <td>69.00</td>\n",
       "    </tr>\n",
       "    <tr>\n",
       "      <th>3</th>\n",
       "      <td>3</td>\n",
       "      <td>004_HC.png</td>\n",
       "      <td>0.061240</td>\n",
       "      <td>59.81</td>\n",
       "    </tr>\n",
       "    <tr>\n",
       "      <th>4</th>\n",
       "      <td>4</td>\n",
       "      <td>005_HC.png</td>\n",
       "      <td>0.115814</td>\n",
       "      <td>69.80</td>\n",
       "    </tr>\n",
       "  </tbody>\n",
       "</table>\n",
       "</div>"
      ],
      "text/plain": [
       "   Unnamed: 0    filename  pixel size(mm)  head circumference (mm)\n",
       "0           0  000_HC.png        0.069136                    44.30\n",
       "1           1  001_HC.png        0.089659                    56.81\n",
       "2           2  003_HC.png        0.091291                    69.00\n",
       "3           3  004_HC.png        0.061240                    59.81\n",
       "4           4  005_HC.png        0.115814                    69.80"
      ]
     },
     "execution_count": 61,
     "metadata": {},
     "output_type": "execute_result"
    }
   ],
   "source": [
    "train_pixel_sz_HC_df = pd.read_csv(train_pixel_sz_HC_file)\n",
    "train_pixel_sz_HC_df.head()"
   ]
  },
  {
   "cell_type": "code",
   "execution_count": 60,
   "id": "992b5751",
   "metadata": {},
   "outputs": [
    {
     "data": {
      "text/html": [
       "<div>\n",
       "<style scoped>\n",
       "    .dataframe tbody tr th:only-of-type {\n",
       "        vertical-align: middle;\n",
       "    }\n",
       "\n",
       "    .dataframe tbody tr th {\n",
       "        vertical-align: top;\n",
       "    }\n",
       "\n",
       "    .dataframe thead th {\n",
       "        text-align: right;\n",
       "    }\n",
       "</style>\n",
       "<table border=\"1\" class=\"dataframe\">\n",
       "  <thead>\n",
       "    <tr style=\"text-align: right;\">\n",
       "      <th></th>\n",
       "      <th>pixel size(mm)</th>\n",
       "      <th>head circumference (mm)</th>\n",
       "      <th>anno_filename</th>\n",
       "    </tr>\n",
       "  </thead>\n",
       "  <tbody>\n",
       "    <tr>\n",
       "      <th>0</th>\n",
       "      <td>0.069136</td>\n",
       "      <td>44.30</td>\n",
       "      <td>000_HC_Annotation.png</td>\n",
       "    </tr>\n",
       "    <tr>\n",
       "      <th>1</th>\n",
       "      <td>0.089659</td>\n",
       "      <td>56.81</td>\n",
       "      <td>001_HC_Annotation.png</td>\n",
       "    </tr>\n",
       "    <tr>\n",
       "      <th>2</th>\n",
       "      <td>0.091291</td>\n",
       "      <td>69.00</td>\n",
       "      <td>003_HC_Annotation.png</td>\n",
       "    </tr>\n",
       "    <tr>\n",
       "      <th>3</th>\n",
       "      <td>0.061240</td>\n",
       "      <td>59.81</td>\n",
       "      <td>004_HC_Annotation.png</td>\n",
       "    </tr>\n",
       "    <tr>\n",
       "      <th>4</th>\n",
       "      <td>0.115814</td>\n",
       "      <td>69.80</td>\n",
       "      <td>005_HC_Annotation.png</td>\n",
       "    </tr>\n",
       "  </tbody>\n",
       "</table>\n",
       "</div>"
      ],
      "text/plain": [
       "   pixel size(mm)  head circumference (mm)          anno_filename\n",
       "0        0.069136                    44.30  000_HC_Annotation.png\n",
       "1        0.089659                    56.81  001_HC_Annotation.png\n",
       "2        0.091291                    69.00  003_HC_Annotation.png\n",
       "3        0.061240                    59.81  004_HC_Annotation.png\n",
       "4        0.115814                    69.80  005_HC_Annotation.png"
      ]
     },
     "execution_count": 60,
     "metadata": {},
     "output_type": "execute_result"
    }
   ],
   "source": [
    "#train_pixel_sz_HC_df = train_pixel_sz_HC_df.iloc[:, -3:]\n",
    "#train_pixel_sz_HC_df.head()"
   ]
  },
  {
   "cell_type": "code",
   "execution_count": 62,
   "id": "45817abf",
   "metadata": {},
   "outputs": [],
   "source": [
    "# Define a function to update the filename\n",
    "def update_filename(filename):\n",
    "    return filename.replace(\".png\", \"_Annotation.png\")\n",
    "\n",
    "# Apply the function to create a new column with updat filenames\n",
    "train_pixel_sz_HC_df['anno_filename'] = train_pixel_sz_HC_df['filename'].apply(lambda x: update_filename(x))\n"
   ]
  },
  {
   "cell_type": "code",
   "execution_count": 63,
   "id": "a68a38aa",
   "metadata": {
    "scrolled": false
   },
   "outputs": [
    {
     "data": {
      "text/html": [
       "<div>\n",
       "<style scoped>\n",
       "    .dataframe tbody tr th:only-of-type {\n",
       "        vertical-align: middle;\n",
       "    }\n",
       "\n",
       "    .dataframe tbody tr th {\n",
       "        vertical-align: top;\n",
       "    }\n",
       "\n",
       "    .dataframe thead th {\n",
       "        text-align: right;\n",
       "    }\n",
       "</style>\n",
       "<table border=\"1\" class=\"dataframe\">\n",
       "  <thead>\n",
       "    <tr style=\"text-align: right;\">\n",
       "      <th></th>\n",
       "      <th>Unnamed: 0</th>\n",
       "      <th>filename</th>\n",
       "      <th>pixel size(mm)</th>\n",
       "      <th>head circumference (mm)</th>\n",
       "      <th>anno_filename</th>\n",
       "    </tr>\n",
       "  </thead>\n",
       "  <tbody>\n",
       "    <tr>\n",
       "      <th>0</th>\n",
       "      <td>0</td>\n",
       "      <td>000_HC.png</td>\n",
       "      <td>0.069136</td>\n",
       "      <td>44.30</td>\n",
       "      <td>000_HC_Annotation.png</td>\n",
       "    </tr>\n",
       "    <tr>\n",
       "      <th>1</th>\n",
       "      <td>1</td>\n",
       "      <td>001_HC.png</td>\n",
       "      <td>0.089659</td>\n",
       "      <td>56.81</td>\n",
       "      <td>001_HC_Annotation.png</td>\n",
       "    </tr>\n",
       "    <tr>\n",
       "      <th>2</th>\n",
       "      <td>2</td>\n",
       "      <td>003_HC.png</td>\n",
       "      <td>0.091291</td>\n",
       "      <td>69.00</td>\n",
       "      <td>003_HC_Annotation.png</td>\n",
       "    </tr>\n",
       "    <tr>\n",
       "      <th>3</th>\n",
       "      <td>3</td>\n",
       "      <td>004_HC.png</td>\n",
       "      <td>0.061240</td>\n",
       "      <td>59.81</td>\n",
       "      <td>004_HC_Annotation.png</td>\n",
       "    </tr>\n",
       "    <tr>\n",
       "      <th>4</th>\n",
       "      <td>4</td>\n",
       "      <td>005_HC.png</td>\n",
       "      <td>0.115814</td>\n",
       "      <td>69.80</td>\n",
       "      <td>005_HC_Annotation.png</td>\n",
       "    </tr>\n",
       "  </tbody>\n",
       "</table>\n",
       "</div>"
      ],
      "text/plain": [
       "   Unnamed: 0    filename  pixel size(mm)  head circumference (mm)  \\\n",
       "0           0  000_HC.png        0.069136                    44.30   \n",
       "1           1  001_HC.png        0.089659                    56.81   \n",
       "2           2  003_HC.png        0.091291                    69.00   \n",
       "3           3  004_HC.png        0.061240                    59.81   \n",
       "4           4  005_HC.png        0.115814                    69.80   \n",
       "\n",
       "           anno_filename  \n",
       "0  000_HC_Annotation.png  \n",
       "1  001_HC_Annotation.png  \n",
       "2  003_HC_Annotation.png  \n",
       "3  004_HC_Annotation.png  \n",
       "4  005_HC_Annotation.png  "
      ]
     },
     "execution_count": 63,
     "metadata": {},
     "output_type": "execute_result"
    }
   ],
   "source": [
    "train_pixel_sz_HC_df.head()"
   ]
  },
  {
   "cell_type": "code",
   "execution_count": 64,
   "id": "3b3bd2c3",
   "metadata": {},
   "outputs": [],
   "source": [
    "def get_pixel_count(img_data_path, filename):\n",
    "    file_path = os.path.join(img_data_path, filename)\n",
    "    if os.path.exists(file_path):\n",
    "        label = Image.open(file_path)\n",
    "        label = np.array(label)\n",
    "        label = tf.convert_to_tensor(label)\n",
    "        label = tf.cast(label, tf.float32) / 255.0\n",
    "        label = tf.cast(label, tf.int32)\n",
    "        pixel_count = np.sum(label)\n",
    "    else:\n",
    "        print(\"No such file: \" + filename)\n",
    "        pixel_count = np.nan\n",
    "\n",
    "    return pixel_count\n",
    "\n",
    "train_pixel_sz_HC_df['pixel_count'] = train_pixel_sz_HC_df['anno_filename'].apply(lambda x: get_pixel_count(img_data_path, x))\n"
   ]
  },
  {
   "cell_type": "code",
   "execution_count": 65,
   "id": "7f5d2c1c",
   "metadata": {
    "scrolled": true
   },
   "outputs": [
    {
     "data": {
      "text/html": [
       "<div>\n",
       "<style scoped>\n",
       "    .dataframe tbody tr th:only-of-type {\n",
       "        vertical-align: middle;\n",
       "    }\n",
       "\n",
       "    .dataframe tbody tr th {\n",
       "        vertical-align: top;\n",
       "    }\n",
       "\n",
       "    .dataframe thead th {\n",
       "        text-align: right;\n",
       "    }\n",
       "</style>\n",
       "<table border=\"1\" class=\"dataframe\">\n",
       "  <thead>\n",
       "    <tr style=\"text-align: right;\">\n",
       "      <th></th>\n",
       "      <th>Unnamed: 0</th>\n",
       "      <th>filename</th>\n",
       "      <th>pixel size(mm)</th>\n",
       "      <th>head circumference (mm)</th>\n",
       "      <th>anno_filename</th>\n",
       "      <th>pixel_count</th>\n",
       "    </tr>\n",
       "  </thead>\n",
       "  <tbody>\n",
       "    <tr>\n",
       "      <th>0</th>\n",
       "      <td>0</td>\n",
       "      <td>000_HC.png</td>\n",
       "      <td>0.069136</td>\n",
       "      <td>44.30</td>\n",
       "      <td>000_HC_Annotation.png</td>\n",
       "      <td>1632</td>\n",
       "    </tr>\n",
       "    <tr>\n",
       "      <th>1</th>\n",
       "      <td>1</td>\n",
       "      <td>001_HC.png</td>\n",
       "      <td>0.089659</td>\n",
       "      <td>56.81</td>\n",
       "      <td>001_HC_Annotation.png</td>\n",
       "      <td>1608</td>\n",
       "    </tr>\n",
       "    <tr>\n",
       "      <th>2</th>\n",
       "      <td>2</td>\n",
       "      <td>003_HC.png</td>\n",
       "      <td>0.091291</td>\n",
       "      <td>69.00</td>\n",
       "      <td>003_HC_Annotation.png</td>\n",
       "      <td>1924</td>\n",
       "    </tr>\n",
       "    <tr>\n",
       "      <th>3</th>\n",
       "      <td>3</td>\n",
       "      <td>004_HC.png</td>\n",
       "      <td>0.061240</td>\n",
       "      <td>59.81</td>\n",
       "      <td>004_HC_Annotation.png</td>\n",
       "      <td>2496</td>\n",
       "    </tr>\n",
       "    <tr>\n",
       "      <th>4</th>\n",
       "      <td>4</td>\n",
       "      <td>005_HC.png</td>\n",
       "      <td>0.115814</td>\n",
       "      <td>69.80</td>\n",
       "      <td>005_HC_Annotation.png</td>\n",
       "      <td>1536</td>\n",
       "    </tr>\n",
       "  </tbody>\n",
       "</table>\n",
       "</div>"
      ],
      "text/plain": [
       "   Unnamed: 0    filename  pixel size(mm)  head circumference (mm)  \\\n",
       "0           0  000_HC.png        0.069136                    44.30   \n",
       "1           1  001_HC.png        0.089659                    56.81   \n",
       "2           2  003_HC.png        0.091291                    69.00   \n",
       "3           3  004_HC.png        0.061240                    59.81   \n",
       "4           4  005_HC.png        0.115814                    69.80   \n",
       "\n",
       "           anno_filename  pixel_count  \n",
       "0  000_HC_Annotation.png         1632  \n",
       "1  001_HC_Annotation.png         1608  \n",
       "2  003_HC_Annotation.png         1924  \n",
       "3  004_HC_Annotation.png         2496  \n",
       "4  005_HC_Annotation.png         1536  "
      ]
     },
     "execution_count": 65,
     "metadata": {},
     "output_type": "execute_result"
    }
   ],
   "source": [
    "train_pixel_sz_HC_df.head()"
   ]
  },
  {
   "cell_type": "code",
   "execution_count": 69,
   "id": "e2469810",
   "metadata": {},
   "outputs": [],
   "source": [
    "# Remove rows with missing values\n",
    "# cleaned_df = train_pixel_sz_HC_df.dropna()  # no need to do it anymore\n",
    "train_pixel_sz_HC_df = train_pixel_sz_HC_df.dropna()  # just in case"
   ]
  },
  {
   "cell_type": "code",
   "execution_count": 67,
   "id": "768f3326",
   "metadata": {},
   "outputs": [],
   "source": [
    "#Set target\n",
    "target_name ='head circumference (mm)'\n",
    "\n",
    "#y = cleaned_df[target_name]\n",
    "y = train_pixel_sz_HC_df[target_name]"
   ]
  },
  {
   "cell_type": "code",
   "execution_count": 68,
   "id": "f3501c28",
   "metadata": {},
   "outputs": [],
   "source": [
    "#Set Input Feature X = [x1,, x2]\n",
    "feature_names = ['pixel_count','pixel size(mm)']\n",
    "#X = cleaned_df[feature_names]\n",
    "X = train_pixel_sz_HC_df[feature_names]"
   ]
  },
  {
   "cell_type": "code",
   "execution_count": 70,
   "id": "8dbfe39a",
   "metadata": {},
   "outputs": [],
   "source": [
    "# do linear regression mmodel first\n",
    "from sklearn.model_selection import train_test_split\n",
    "\n",
    "X_train1, X_test1, y_train1, y_test1 = train_test_split(X, y, test_size=0.3, random_state=42)\n"
   ]
  },
  {
   "cell_type": "code",
   "execution_count": 71,
   "id": "709f639b",
   "metadata": {},
   "outputs": [
    {
     "data": {
      "text/html": [
       "<style>#sk-container-id-3 {color: black;background-color: white;}#sk-container-id-3 pre{padding: 0;}#sk-container-id-3 div.sk-toggleable {background-color: white;}#sk-container-id-3 label.sk-toggleable__label {cursor: pointer;display: block;width: 100%;margin-bottom: 0;padding: 0.3em;box-sizing: border-box;text-align: center;}#sk-container-id-3 label.sk-toggleable__label-arrow:before {content: \"▸\";float: left;margin-right: 0.25em;color: #696969;}#sk-container-id-3 label.sk-toggleable__label-arrow:hover:before {color: black;}#sk-container-id-3 div.sk-estimator:hover label.sk-toggleable__label-arrow:before {color: black;}#sk-container-id-3 div.sk-toggleable__content {max-height: 0;max-width: 0;overflow: hidden;text-align: left;background-color: #f0f8ff;}#sk-container-id-3 div.sk-toggleable__content pre {margin: 0.2em;color: black;border-radius: 0.25em;background-color: #f0f8ff;}#sk-container-id-3 input.sk-toggleable__control:checked~div.sk-toggleable__content {max-height: 200px;max-width: 100%;overflow: auto;}#sk-container-id-3 input.sk-toggleable__control:checked~label.sk-toggleable__label-arrow:before {content: \"▾\";}#sk-container-id-3 div.sk-estimator input.sk-toggleable__control:checked~label.sk-toggleable__label {background-color: #d4ebff;}#sk-container-id-3 div.sk-label input.sk-toggleable__control:checked~label.sk-toggleable__label {background-color: #d4ebff;}#sk-container-id-3 input.sk-hidden--visually {border: 0;clip: rect(1px 1px 1px 1px);clip: rect(1px, 1px, 1px, 1px);height: 1px;margin: -1px;overflow: hidden;padding: 0;position: absolute;width: 1px;}#sk-container-id-3 div.sk-estimator {font-family: monospace;background-color: #f0f8ff;border: 1px dotted black;border-radius: 0.25em;box-sizing: border-box;margin-bottom: 0.5em;}#sk-container-id-3 div.sk-estimator:hover {background-color: #d4ebff;}#sk-container-id-3 div.sk-parallel-item::after {content: \"\";width: 100%;border-bottom: 1px solid gray;flex-grow: 1;}#sk-container-id-3 div.sk-label:hover label.sk-toggleable__label {background-color: #d4ebff;}#sk-container-id-3 div.sk-serial::before {content: \"\";position: absolute;border-left: 1px solid gray;box-sizing: border-box;top: 0;bottom: 0;left: 50%;z-index: 0;}#sk-container-id-3 div.sk-serial {display: flex;flex-direction: column;align-items: center;background-color: white;padding-right: 0.2em;padding-left: 0.2em;position: relative;}#sk-container-id-3 div.sk-item {position: relative;z-index: 1;}#sk-container-id-3 div.sk-parallel {display: flex;align-items: stretch;justify-content: center;background-color: white;position: relative;}#sk-container-id-3 div.sk-item::before, #sk-container-id-3 div.sk-parallel-item::before {content: \"\";position: absolute;border-left: 1px solid gray;box-sizing: border-box;top: 0;bottom: 0;left: 50%;z-index: -1;}#sk-container-id-3 div.sk-parallel-item {display: flex;flex-direction: column;z-index: 1;position: relative;background-color: white;}#sk-container-id-3 div.sk-parallel-item:first-child::after {align-self: flex-end;width: 50%;}#sk-container-id-3 div.sk-parallel-item:last-child::after {align-self: flex-start;width: 50%;}#sk-container-id-3 div.sk-parallel-item:only-child::after {width: 0;}#sk-container-id-3 div.sk-dashed-wrapped {border: 1px dashed gray;margin: 0 0.4em 0.5em 0.4em;box-sizing: border-box;padding-bottom: 0.4em;background-color: white;}#sk-container-id-3 div.sk-label label {font-family: monospace;font-weight: bold;display: inline-block;line-height: 1.2em;}#sk-container-id-3 div.sk-label-container {text-align: center;}#sk-container-id-3 div.sk-container {/* jupyter's `normalize.less` sets `[hidden] { display: none; }` but bootstrap.min.css set `[hidden] { display: none !important; }` so we also need the `!important` here to be able to override the default hidden behavior on the sphinx rendered scikit-learn.org. See: https://github.com/scikit-learn/scikit-learn/issues/21755 */display: inline-block !important;position: relative;}#sk-container-id-3 div.sk-text-repr-fallback {display: none;}</style><div id=\"sk-container-id-3\" class=\"sk-top-container\"><div class=\"sk-text-repr-fallback\"><pre>LinearRegression()</pre><b>In a Jupyter environment, please rerun this cell to show the HTML representation or trust the notebook. <br />On GitHub, the HTML representation is unable to render, please try loading this page with nbviewer.org.</b></div><div class=\"sk-container\" hidden><div class=\"sk-item\"><div class=\"sk-estimator sk-toggleable\"><input class=\"sk-toggleable__control sk-hidden--visually\" id=\"sk-estimator-id-3\" type=\"checkbox\" checked><label for=\"sk-estimator-id-3\" class=\"sk-toggleable__label sk-toggleable__label-arrow\">LinearRegression</label><div class=\"sk-toggleable__content\"><pre>LinearRegression()</pre></div></div></div></div></div>"
      ],
      "text/plain": [
       "LinearRegression()"
      ]
     },
     "execution_count": 71,
     "metadata": {},
     "output_type": "execute_result"
    }
   ],
   "source": [
    "from sklearn.linear_model import LinearRegression\n",
    "\n",
    "model1 = LinearRegression()\n",
    "model1.fit(X_train1, y_train1)\n"
   ]
  },
  {
   "cell_type": "code",
   "execution_count": 72,
   "id": "43ebda47",
   "metadata": {},
   "outputs": [
    {
     "name": "stdout",
     "output_type": "stream",
     "text": [
      "Mean Squared Error of linear regression :  153.5295696326789 (mm)\n",
      "R-squared Score: 0.968348907819744\n"
     ]
    }
   ],
   "source": [
    "# evul linear reg model\n",
    "from sklearn.metrics import mean_squared_error, r2_score\n",
    "\n",
    "# Make predictions on the test data\n",
    "y_pred1 = model1.predict(X_test1)\n",
    "\n",
    "# Calculate evaluation metrics\n",
    "mse1 = mean_squared_error(y_test1, y_pred1)\n",
    "r2_1 = r2_score(y_test1, y_pred1)\n",
    "\n",
    "print(\"Mean Squared Error of linear regression : \", mse1, (\"(mm)\"))\n",
    "print(\"R-squared Score:\", r2_1)\n"
   ]
  },
  {
   "cell_type": "code",
   "execution_count": 73,
   "id": "f09b97f2",
   "metadata": {
    "scrolled": true
   },
   "outputs": [
    {
     "data": {
      "text/plain": [
       "166.2136794702675"
      ]
     },
     "execution_count": 73,
     "metadata": {},
     "output_type": "execute_result"
    }
   ],
   "source": [
    "np.average(y_pred1)"
   ]
  },
  {
   "cell_type": "code",
   "execution_count": 74,
   "id": "96bb50e6",
   "metadata": {
    "scrolled": false
   },
   "outputs": [
    {
     "data": {
      "text/plain": [
       "172.83649499284695"
      ]
     },
     "execution_count": 74,
     "metadata": {},
     "output_type": "execute_result"
    }
   ],
   "source": [
    "train_pixel_sz_HC_df[target_name].mean()"
   ]
  },
  {
   "cell_type": "code",
   "execution_count": 75,
   "id": "8c861c9a",
   "metadata": {
    "scrolled": true
   },
   "outputs": [
    {
     "name": "stdout",
     "output_type": "stream",
     "text": [
      "Intercept: -155.7179204698763\n",
      "Coefficients: [5.53566495e-02 1.08578421e+03]\n",
      "Coefficients: 0.05535664951972703\n",
      "Coefficients: 1085.7842110830757\n",
      "y = 0.05535664951972703 *  pixel_count + 1085.7842110830757 * pixel size(mm)\n"
     ]
    }
   ],
   "source": [
    "## this is train model linear regression using train set\n",
    "print(\"Intercept:\", model1.intercept_)\n",
    "print(\"Coefficients:\", model1.coef_)\n",
    "\n",
    "print(\"Coefficients:\", model1.coef_[0])\n",
    "print(\"Coefficients:\", model1.coef_[1])\n",
    "\n",
    "formula = \"y = \" + str(model1.coef_[0]) + \" *  \" + feature_names[0] + \" + \" + str(model1.coef_[1]) + \" * \" + feature_names[1]\n",
    "print(formula)\n"
   ]
  },
  {
   "cell_type": "code",
   "execution_count": 23,
   "id": "70919361",
   "metadata": {},
   "outputs": [],
   "source": [
    "### what do yu think ?"
   ]
  },
  {
   "cell_type": "code",
   "execution_count": 76,
   "id": "af54a6ff",
   "metadata": {
    "scrolled": false
   },
   "outputs": [
    {
     "name": "stdout",
     "output_type": "stream",
     "text": [
      "['pixel_count', 'pixel size(mm)']\n"
     ]
    }
   ],
   "source": [
    "print(feature_names)"
   ]
  },
  {
   "cell_type": "code",
   "execution_count": 25,
   "id": "76ae8c10",
   "metadata": {},
   "outputs": [],
   "source": [
    "# Train regress model 2: random forest regressor #####"
   ]
  },
  {
   "cell_type": "code",
   "execution_count": 77,
   "id": "31b15a2a",
   "metadata": {},
   "outputs": [],
   "source": [
    "from sklearn.ensemble import RandomForestRegressor\n",
    "from sklearn.metrics import mean_absolute_error\n",
    "from sklearn.model_selection import train_test_split"
   ]
  },
  {
   "cell_type": "code",
   "execution_count": 152,
   "id": "4e10bdd4",
   "metadata": {},
   "outputs": [
    {
     "ename": "ValueError",
     "evalue": "Found input variables with inconsistent numbers of samples: [699, 300]",
     "output_type": "error",
     "traceback": [
      "\u001b[1;31m---------------------------------------------------------------------------\u001b[0m",
      "\u001b[1;31mValueError\u001b[0m                                Traceback (most recent call last)",
      "Cell \u001b[1;32mIn[152], line 3\u001b[0m\n\u001b[0;32m      1\u001b[0m \u001b[38;5;66;03m# Split into validation and training data\u001b[39;00m\n\u001b[0;32m      2\u001b[0m \u001b[38;5;66;03m#Train Random forest model on train_x train_y\u001b[39;00m\n\u001b[1;32m----> 3\u001b[0m train_X, val_X, train_y, val_y \u001b[38;5;241m=\u001b[39m \u001b[43mtrain_test_split\u001b[49m\u001b[43m(\u001b[49m\u001b[43mX\u001b[49m\u001b[43m,\u001b[49m\u001b[43m \u001b[49m\u001b[43my\u001b[49m\u001b[43m,\u001b[49m\u001b[43m \u001b[49m\u001b[43mrandom_state\u001b[49m\u001b[38;5;241;43m=\u001b[39;49m\u001b[38;5;241;43m1\u001b[39;49m\u001b[43m)\u001b[49m\n\u001b[0;32m      5\u001b[0m \u001b[38;5;66;03m# Define a random forest model\u001b[39;00m\n\u001b[0;32m      6\u001b[0m rf_model \u001b[38;5;241m=\u001b[39m RandomForestRegressor(random_state\u001b[38;5;241m=\u001b[39m\u001b[38;5;241m1\u001b[39m)\n",
      "File \u001b[1;32m~\\.conda\\envs\\unet-py39\\lib\\site-packages\\sklearn\\model_selection\\_split.py:2559\u001b[0m, in \u001b[0;36mtrain_test_split\u001b[1;34m(test_size, train_size, random_state, shuffle, stratify, *arrays)\u001b[0m\n\u001b[0;32m   2556\u001b[0m \u001b[38;5;28;01mif\u001b[39;00m n_arrays \u001b[38;5;241m==\u001b[39m \u001b[38;5;241m0\u001b[39m:\n\u001b[0;32m   2557\u001b[0m     \u001b[38;5;28;01mraise\u001b[39;00m \u001b[38;5;167;01mValueError\u001b[39;00m(\u001b[38;5;124m\"\u001b[39m\u001b[38;5;124mAt least one array required as input\u001b[39m\u001b[38;5;124m\"\u001b[39m)\n\u001b[1;32m-> 2559\u001b[0m arrays \u001b[38;5;241m=\u001b[39m \u001b[43mindexable\u001b[49m\u001b[43m(\u001b[49m\u001b[38;5;241;43m*\u001b[39;49m\u001b[43marrays\u001b[49m\u001b[43m)\u001b[49m\n\u001b[0;32m   2561\u001b[0m n_samples \u001b[38;5;241m=\u001b[39m _num_samples(arrays[\u001b[38;5;241m0\u001b[39m])\n\u001b[0;32m   2562\u001b[0m n_train, n_test \u001b[38;5;241m=\u001b[39m _validate_shuffle_split(\n\u001b[0;32m   2563\u001b[0m     n_samples, test_size, train_size, default_test_size\u001b[38;5;241m=\u001b[39m\u001b[38;5;241m0.25\u001b[39m\n\u001b[0;32m   2564\u001b[0m )\n",
      "File \u001b[1;32m~\\.conda\\envs\\unet-py39\\lib\\site-packages\\sklearn\\utils\\validation.py:443\u001b[0m, in \u001b[0;36mindexable\u001b[1;34m(*iterables)\u001b[0m\n\u001b[0;32m    424\u001b[0m \u001b[38;5;124;03m\"\"\"Make arrays indexable for cross-validation.\u001b[39;00m\n\u001b[0;32m    425\u001b[0m \n\u001b[0;32m    426\u001b[0m \u001b[38;5;124;03mChecks consistent length, passes through None, and ensures that everything\u001b[39;00m\n\u001b[1;32m   (...)\u001b[0m\n\u001b[0;32m    439\u001b[0m \u001b[38;5;124;03m    sparse matrix, or dataframe) or `None`.\u001b[39;00m\n\u001b[0;32m    440\u001b[0m \u001b[38;5;124;03m\"\"\"\u001b[39;00m\n\u001b[0;32m    442\u001b[0m result \u001b[38;5;241m=\u001b[39m [_make_indexable(X) \u001b[38;5;28;01mfor\u001b[39;00m X \u001b[38;5;129;01min\u001b[39;00m iterables]\n\u001b[1;32m--> 443\u001b[0m \u001b[43mcheck_consistent_length\u001b[49m\u001b[43m(\u001b[49m\u001b[38;5;241;43m*\u001b[39;49m\u001b[43mresult\u001b[49m\u001b[43m)\u001b[49m\n\u001b[0;32m    444\u001b[0m \u001b[38;5;28;01mreturn\u001b[39;00m result\n",
      "File \u001b[1;32m~\\.conda\\envs\\unet-py39\\lib\\site-packages\\sklearn\\utils\\validation.py:397\u001b[0m, in \u001b[0;36mcheck_consistent_length\u001b[1;34m(*arrays)\u001b[0m\n\u001b[0;32m    395\u001b[0m uniques \u001b[38;5;241m=\u001b[39m np\u001b[38;5;241m.\u001b[39munique(lengths)\n\u001b[0;32m    396\u001b[0m \u001b[38;5;28;01mif\u001b[39;00m \u001b[38;5;28mlen\u001b[39m(uniques) \u001b[38;5;241m>\u001b[39m \u001b[38;5;241m1\u001b[39m:\n\u001b[1;32m--> 397\u001b[0m     \u001b[38;5;28;01mraise\u001b[39;00m \u001b[38;5;167;01mValueError\u001b[39;00m(\n\u001b[0;32m    398\u001b[0m         \u001b[38;5;124m\"\u001b[39m\u001b[38;5;124mFound input variables with inconsistent numbers of samples: \u001b[39m\u001b[38;5;132;01m%r\u001b[39;00m\u001b[38;5;124m\"\u001b[39m\n\u001b[0;32m    399\u001b[0m         \u001b[38;5;241m%\u001b[39m [\u001b[38;5;28mint\u001b[39m(l) \u001b[38;5;28;01mfor\u001b[39;00m l \u001b[38;5;129;01min\u001b[39;00m lengths]\n\u001b[0;32m    400\u001b[0m     )\n",
      "\u001b[1;31mValueError\u001b[0m: Found input variables with inconsistent numbers of samples: [699, 300]"
     ]
    }
   ],
   "source": [
    "# Split into validation and training data\n",
    "#Train Random forest model on train_x train_y\n",
    "train_X, val_X, train_y, val_y = train_test_split(X, y, random_state=1)\n",
    "\n",
    "# Define a random forest model\n",
    "rf_model = RandomForestRegressor(random_state=1)\n",
    "rf_model.fit(train_X, train_y)\n",
    "rf_val_predictions_0 = rf_model.predict(val_X)\n",
    "rf_val_mae = mean_absolute_error(rf_val_predictions, val_y)\n",
    "\n",
    "rf_val_mae"
   ]
  },
  {
   "cell_type": "code",
   "execution_count": 80,
   "id": "6b6a568b",
   "metadata": {},
   "outputs": [
    {
     "data": {
      "text/html": [
       "<style>#sk-container-id-5 {color: black;background-color: white;}#sk-container-id-5 pre{padding: 0;}#sk-container-id-5 div.sk-toggleable {background-color: white;}#sk-container-id-5 label.sk-toggleable__label {cursor: pointer;display: block;width: 100%;margin-bottom: 0;padding: 0.3em;box-sizing: border-box;text-align: center;}#sk-container-id-5 label.sk-toggleable__label-arrow:before {content: \"▸\";float: left;margin-right: 0.25em;color: #696969;}#sk-container-id-5 label.sk-toggleable__label-arrow:hover:before {color: black;}#sk-container-id-5 div.sk-estimator:hover label.sk-toggleable__label-arrow:before {color: black;}#sk-container-id-5 div.sk-toggleable__content {max-height: 0;max-width: 0;overflow: hidden;text-align: left;background-color: #f0f8ff;}#sk-container-id-5 div.sk-toggleable__content pre {margin: 0.2em;color: black;border-radius: 0.25em;background-color: #f0f8ff;}#sk-container-id-5 input.sk-toggleable__control:checked~div.sk-toggleable__content {max-height: 200px;max-width: 100%;overflow: auto;}#sk-container-id-5 input.sk-toggleable__control:checked~label.sk-toggleable__label-arrow:before {content: \"▾\";}#sk-container-id-5 div.sk-estimator input.sk-toggleable__control:checked~label.sk-toggleable__label {background-color: #d4ebff;}#sk-container-id-5 div.sk-label input.sk-toggleable__control:checked~label.sk-toggleable__label {background-color: #d4ebff;}#sk-container-id-5 input.sk-hidden--visually {border: 0;clip: rect(1px 1px 1px 1px);clip: rect(1px, 1px, 1px, 1px);height: 1px;margin: -1px;overflow: hidden;padding: 0;position: absolute;width: 1px;}#sk-container-id-5 div.sk-estimator {font-family: monospace;background-color: #f0f8ff;border: 1px dotted black;border-radius: 0.25em;box-sizing: border-box;margin-bottom: 0.5em;}#sk-container-id-5 div.sk-estimator:hover {background-color: #d4ebff;}#sk-container-id-5 div.sk-parallel-item::after {content: \"\";width: 100%;border-bottom: 1px solid gray;flex-grow: 1;}#sk-container-id-5 div.sk-label:hover label.sk-toggleable__label {background-color: #d4ebff;}#sk-container-id-5 div.sk-serial::before {content: \"\";position: absolute;border-left: 1px solid gray;box-sizing: border-box;top: 0;bottom: 0;left: 50%;z-index: 0;}#sk-container-id-5 div.sk-serial {display: flex;flex-direction: column;align-items: center;background-color: white;padding-right: 0.2em;padding-left: 0.2em;position: relative;}#sk-container-id-5 div.sk-item {position: relative;z-index: 1;}#sk-container-id-5 div.sk-parallel {display: flex;align-items: stretch;justify-content: center;background-color: white;position: relative;}#sk-container-id-5 div.sk-item::before, #sk-container-id-5 div.sk-parallel-item::before {content: \"\";position: absolute;border-left: 1px solid gray;box-sizing: border-box;top: 0;bottom: 0;left: 50%;z-index: -1;}#sk-container-id-5 div.sk-parallel-item {display: flex;flex-direction: column;z-index: 1;position: relative;background-color: white;}#sk-container-id-5 div.sk-parallel-item:first-child::after {align-self: flex-end;width: 50%;}#sk-container-id-5 div.sk-parallel-item:last-child::after {align-self: flex-start;width: 50%;}#sk-container-id-5 div.sk-parallel-item:only-child::after {width: 0;}#sk-container-id-5 div.sk-dashed-wrapped {border: 1px dashed gray;margin: 0 0.4em 0.5em 0.4em;box-sizing: border-box;padding-bottom: 0.4em;background-color: white;}#sk-container-id-5 div.sk-label label {font-family: monospace;font-weight: bold;display: inline-block;line-height: 1.2em;}#sk-container-id-5 div.sk-label-container {text-align: center;}#sk-container-id-5 div.sk-container {/* jupyter's `normalize.less` sets `[hidden] { display: none; }` but bootstrap.min.css set `[hidden] { display: none !important; }` so we also need the `!important` here to be able to override the default hidden behavior on the sphinx rendered scikit-learn.org. See: https://github.com/scikit-learn/scikit-learn/issues/21755 */display: inline-block !important;position: relative;}#sk-container-id-5 div.sk-text-repr-fallback {display: none;}</style><div id=\"sk-container-id-5\" class=\"sk-top-container\"><div class=\"sk-text-repr-fallback\"><pre>RandomForestRegressor(random_state=1)</pre><b>In a Jupyter environment, please rerun this cell to show the HTML representation or trust the notebook. <br />On GitHub, the HTML representation is unable to render, please try loading this page with nbviewer.org.</b></div><div class=\"sk-container\" hidden><div class=\"sk-item\"><div class=\"sk-estimator sk-toggleable\"><input class=\"sk-toggleable__control sk-hidden--visually\" id=\"sk-estimator-id-5\" type=\"checkbox\" checked><label for=\"sk-estimator-id-5\" class=\"sk-toggleable__label sk-toggleable__label-arrow\">RandomForestRegressor</label><div class=\"sk-toggleable__content\"><pre>RandomForestRegressor(random_state=1)</pre></div></div></div></div></div>"
      ],
      "text/plain": [
       "RandomForestRegressor(random_state=1)"
      ]
     },
     "execution_count": 80,
     "metadata": {},
     "output_type": "execute_result"
    }
   ],
   "source": [
    "# To improve accuracy, create a new Random Forest model which I will train on all training data\n",
    "rf_model_on_full_train_data = RandomForestRegressor(random_state=1)\n",
    "\n",
    "# fit rf_model_on_full_data on all data from the training data\n",
    "rf_model_on_full_train_data.fit(X, y)\n"
   ]
  },
  {
   "cell_type": "code",
   "execution_count": 83,
   "id": "c4a03bc7",
   "metadata": {},
   "outputs": [
    {
     "data": {
      "text/plain": [
       "1.430364571428559"
      ]
     },
     "execution_count": 83,
     "metadata": {},
     "output_type": "execute_result"
    }
   ],
   "source": [
    "rf_val_predictions = rf_model_on_full_train_data.predict(val_X)\n",
    "rf_val_mae = mean_absolute_error(rf_val_predictions, val_y)\n",
    "\n",
    "rf_val_mae"
   ]
  },
  {
   "cell_type": "code",
   "execution_count": 85,
   "id": "d97dd7c7",
   "metadata": {},
   "outputs": [],
   "source": [
    "rf_model_on_full_train_data.feature_importances_\n",
    "feature_importance = rf_model_on_full_train_data.feature_importances_"
   ]
  },
  {
   "cell_type": "code",
   "execution_count": 86,
   "id": "604d4e0d",
   "metadata": {},
   "outputs": [
    {
     "data": {
      "image/png": "[encoded data removed]",
      "text/plain": [
       "<Figure size 640x480 with 1 Axes>"
      ]
     },
     "metadata": {},
     "output_type": "display_data"
    }
   ],
   "source": [
    "plt.bar(feature_names, feature_importance)\n",
    "plt.xlabel('Features')\n",
    "plt.ylabel('Importance')\n",
    "plt.title('Feature Importance in Random Forest(rf_model_on_full_train_data)')\n",
    "plt.xticks(rotation='vertical')\n",
    "plt.show()"
   ]
  },
  {
   "cell_type": "code",
   "execution_count": 31,
   "id": "cffe9af3",
   "metadata": {},
   "outputs": [],
   "source": [
    "#----prediction with ----"
   ]
  },
  {
   "cell_type": "code",
   "execution_count": 88,
   "id": "14e1abe0",
   "metadata": {},
   "outputs": [
    {
     "name": "stdout",
     "output_type": "stream",
     "text": [
      "Predicted Head Circum with linear regression [32528.52171106 38012.799416  ]\n",
      "Predicted Head Circum with random tree regression [223.2374 323.1298]\n"
     ]
    }
   ],
   "source": [
    "# prediction on made-up data\n",
    "#new_data = pd.DataFrame({'pixel_count': [2000, 3000], 'pixel size(mm)': [30, 35]})\n",
    "#prediction1 = model1.predict(new_data)\n",
    "#prediction2 = rf_model_on_full_train_data.predict(new_data)\n",
    "\n",
    "#print(\"Predicted Head Circum with linear regression\", prediction1)\n",
    "#print(\"Predicted Head Circum with random tree regression\", prediction2)"
   ]
  },
  {
   "cell_type": "code",
   "execution_count": 33,
   "id": "89e1f060",
   "metadata": {},
   "outputs": [],
   "source": [
    "# continue to \"validate\"\n",
    "val_img_data_path = 'G:/.shortcut-targets-by-id/10wVB-YsfTmmpZyUo8jBH1cDOkVWVx5N1/T1 Project/Data/Training-Splitted/val/Annotation/'"
   ]
  },
  {
   "cell_type": "code",
   "execution_count": 89,
   "id": "b58adb28",
   "metadata": {},
   "outputs": [],
   "source": [
    "# note to self - val + test are together.\n",
    "#test_pixel_sz_HC_file = local_data_path_to + 'test_set_pixel_size.csv'\n",
    "#os.path.exists(test_pixel_sz_HC_file )"
   ]
  },
  {
   "cell_type": "code",
   "execution_count": 90,
   "id": "a96ce9d7",
   "metadata": {},
   "outputs": [
    {
     "data": {
      "text/plain": [
       "True"
      ]
     },
     "execution_count": 90,
     "metadata": {},
     "output_type": "execute_result"
    }
   ],
   "source": [
    "val_pixel_sz_HC_file = local_data_path_to + 'val_split_pixel_size_and_HC.csv'\n",
    "os.path.exists(test_pixel_sz_HC_file )"
   ]
  },
  {
   "cell_type": "code",
   "execution_count": 91,
   "id": "689a7bfb",
   "metadata": {},
   "outputs": [
    {
     "data": {
      "text/html": [
       "<div>\n",
       "<style scoped>\n",
       "    .dataframe tbody tr th:only-of-type {\n",
       "        vertical-align: middle;\n",
       "    }\n",
       "\n",
       "    .dataframe tbody tr th {\n",
       "        vertical-align: top;\n",
       "    }\n",
       "\n",
       "    .dataframe thead th {\n",
       "        text-align: right;\n",
       "    }\n",
       "</style>\n",
       "<table border=\"1\" class=\"dataframe\">\n",
       "  <thead>\n",
       "    <tr style=\"text-align: right;\">\n",
       "      <th></th>\n",
       "      <th>Unnamed: 0</th>\n",
       "      <th>filename</th>\n",
       "      <th>pixel size(mm)</th>\n",
       "      <th>head circumference (mm)</th>\n",
       "    </tr>\n",
       "  </thead>\n",
       "  <tbody>\n",
       "    <tr>\n",
       "      <th>0</th>\n",
       "      <td>2</td>\n",
       "      <td>002_HC.png</td>\n",
       "      <td>0.062033</td>\n",
       "      <td>68.75</td>\n",
       "    </tr>\n",
       "    <tr>\n",
       "      <th>1</th>\n",
       "      <td>12</td>\n",
       "      <td>011_HC.png</td>\n",
       "      <td>0.055484</td>\n",
       "      <td>69.90</td>\n",
       "    </tr>\n",
       "    <tr>\n",
       "      <th>2</th>\n",
       "      <td>16</td>\n",
       "      <td>014_3HC.png</td>\n",
       "      <td>0.077308</td>\n",
       "      <td>60.26</td>\n",
       "    </tr>\n",
       "    <tr>\n",
       "      <th>3</th>\n",
       "      <td>17</td>\n",
       "      <td>014_HC.png</td>\n",
       "      <td>0.078906</td>\n",
       "      <td>63.34</td>\n",
       "    </tr>\n",
       "    <tr>\n",
       "      <th>4</th>\n",
       "      <td>18</td>\n",
       "      <td>015_HC.png</td>\n",
       "      <td>0.060416</td>\n",
       "      <td>69.30</td>\n",
       "    </tr>\n",
       "  </tbody>\n",
       "</table>\n",
       "</div>"
      ],
      "text/plain": [
       "   Unnamed: 0     filename  pixel size(mm)  head circumference (mm)\n",
       "0           2   002_HC.png        0.062033                    68.75\n",
       "1          12   011_HC.png        0.055484                    69.90\n",
       "2          16  014_3HC.png        0.077308                    60.26\n",
       "3          17   014_HC.png        0.078906                    63.34\n",
       "4          18   015_HC.png        0.060416                    69.30"
      ]
     },
     "execution_count": 91,
     "metadata": {},
     "output_type": "execute_result"
    }
   ],
   "source": [
    "# continue to \"validate\"\n",
    "val_pixel_sz_HC_df = pd.read_csv(test_pixel_sz_HC_file)\n",
    "val_pixel_sz_HC_df.head()"
   ]
  },
  {
   "cell_type": "code",
   "execution_count": 36,
   "id": "f4039fc6",
   "metadata": {},
   "outputs": [],
   "source": [
    "def get_pixel_count2(img_data_path, filename):\n",
    "    file_path = os.path.join(img_data_path, filename)\n",
    "    if os.path.exists(file_path):\n",
    "        label = Image.open(file_path)\n",
    "        label = np.array(label)\n",
    "        label = tf.convert_to_tensor(label)\n",
    "        label = tf.cast(label, tf.float32) / 255.0\n",
    "        label = tf.cast(label, tf.int32)\n",
    "        pixel_count = np.sum(label)\n",
    "    else:\n",
    "        print(\"No such file: \" + filename)\n",
    "        pixel_count = np.nan\n",
    "\n",
    "    return pixel_count\n"
   ]
  },
  {
   "cell_type": "code",
   "execution_count": 92,
   "id": "e16754a6",
   "metadata": {},
   "outputs": [],
   "source": [
    "# continue to \"validate\"\n",
    "val_pixel_sz_HC_df['anno_filename'] = val_pixel_sz_HC_df['filename'].apply(lambda x: update_filename(x))"
   ]
  },
  {
   "cell_type": "code",
   "execution_count": 93,
   "id": "c4148011",
   "metadata": {},
   "outputs": [],
   "source": [
    "# continue to \"validate\"  apply pixel count on \"val img data\"\n",
    "val_pixel_sz_HC_df['pixel_count'] = val_pixel_sz_HC_df['anno_filename'].apply(lambda x: get_pixel_count(val_img_data_path, x))\n"
   ]
  },
  {
   "cell_type": "code",
   "execution_count": 100,
   "id": "4efb036c",
   "metadata": {
    "scrolled": true
   },
   "outputs": [],
   "source": [
    "# continue to \"validate\"\n",
    "val_pixel_sz_HC_df=val_pixel_sz_HC_df.dropna()  #just in case"
   ]
  },
  {
   "cell_type": "code",
   "execution_count": 95,
   "id": "a668ed5a",
   "metadata": {
    "scrolled": false
   },
   "outputs": [
    {
     "data": {
      "text/html": [
       "<div>\n",
       "<style scoped>\n",
       "    .dataframe tbody tr th:only-of-type {\n",
       "        vertical-align: middle;\n",
       "    }\n",
       "\n",
       "    .dataframe tbody tr th {\n",
       "        vertical-align: top;\n",
       "    }\n",
       "\n",
       "    .dataframe thead th {\n",
       "        text-align: right;\n",
       "    }\n",
       "</style>\n",
       "<table border=\"1\" class=\"dataframe\">\n",
       "  <thead>\n",
       "    <tr style=\"text-align: right;\">\n",
       "      <th></th>\n",
       "      <th>pixel_count</th>\n",
       "      <th>pixel size(mm)</th>\n",
       "    </tr>\n",
       "  </thead>\n",
       "  <tbody>\n",
       "    <tr>\n",
       "      <th>0</th>\n",
       "      <td>2820</td>\n",
       "      <td>0.062033</td>\n",
       "    </tr>\n",
       "    <tr>\n",
       "      <th>1</th>\n",
       "      <td>3208</td>\n",
       "      <td>0.055484</td>\n",
       "    </tr>\n",
       "    <tr>\n",
       "      <th>2</th>\n",
       "      <td>1980</td>\n",
       "      <td>0.077308</td>\n",
       "    </tr>\n",
       "    <tr>\n",
       "      <th>3</th>\n",
       "      <td>2044</td>\n",
       "      <td>0.078906</td>\n",
       "    </tr>\n",
       "    <tr>\n",
       "      <th>4</th>\n",
       "      <td>2928</td>\n",
       "      <td>0.060416</td>\n",
       "    </tr>\n",
       "  </tbody>\n",
       "</table>\n",
       "</div>"
      ],
      "text/plain": [
       "   pixel_count  pixel size(mm)\n",
       "0         2820        0.062033\n",
       "1         3208        0.055484\n",
       "2         1980        0.077308\n",
       "3         2044        0.078906\n",
       "4         2928        0.060416"
      ]
     },
     "execution_count": 95,
     "metadata": {},
     "output_type": "execute_result"
    }
   ],
   "source": [
    "# continue to \"validate\"\n",
    "val_pixel_sz_HC_df[feature_names].head()"
   ]
  },
  {
   "cell_type": "code",
   "execution_count": 101,
   "id": "bbc862df",
   "metadata": {},
   "outputs": [
    {
     "name": "stdout",
     "output_type": "stream",
     "text": [
      "['pixel_count', 'pixel size(mm)']\n"
     ]
    }
   ],
   "source": [
    "print(feature_names)"
   ]
  },
  {
   "cell_type": "code",
   "execution_count": 103,
   "id": "f7572247",
   "metadata": {},
   "outputs": [
    {
     "data": {
      "text/html": [
       "<div>\n",
       "<style scoped>\n",
       "    .dataframe tbody tr th:only-of-type {\n",
       "        vertical-align: middle;\n",
       "    }\n",
       "\n",
       "    .dataframe tbody tr th {\n",
       "        vertical-align: top;\n",
       "    }\n",
       "\n",
       "    .dataframe thead th {\n",
       "        text-align: right;\n",
       "    }\n",
       "</style>\n",
       "<table border=\"1\" class=\"dataframe\">\n",
       "  <thead>\n",
       "    <tr style=\"text-align: right;\">\n",
       "      <th></th>\n",
       "      <th>pixel_count</th>\n",
       "      <th>pixel size(mm)</th>\n",
       "    </tr>\n",
       "  </thead>\n",
       "  <tbody>\n",
       "    <tr>\n",
       "      <th>0</th>\n",
       "      <td>2820</td>\n",
       "      <td>0.062033</td>\n",
       "    </tr>\n",
       "    <tr>\n",
       "      <th>1</th>\n",
       "      <td>3208</td>\n",
       "      <td>0.055484</td>\n",
       "    </tr>\n",
       "    <tr>\n",
       "      <th>2</th>\n",
       "      <td>1980</td>\n",
       "      <td>0.077308</td>\n",
       "    </tr>\n",
       "    <tr>\n",
       "      <th>3</th>\n",
       "      <td>2044</td>\n",
       "      <td>0.078906</td>\n",
       "    </tr>\n",
       "    <tr>\n",
       "      <th>4</th>\n",
       "      <td>2928</td>\n",
       "      <td>0.060416</td>\n",
       "    </tr>\n",
       "    <tr>\n",
       "      <th>...</th>\n",
       "      <td>...</td>\n",
       "      <td>...</td>\n",
       "    </tr>\n",
       "    <tr>\n",
       "      <th>295</th>\n",
       "      <td>3296</td>\n",
       "      <td>0.246141</td>\n",
       "    </tr>\n",
       "    <tr>\n",
       "      <th>296</th>\n",
       "      <td>3932</td>\n",
       "      <td>0.202475</td>\n",
       "    </tr>\n",
       "    <tr>\n",
       "      <th>297</th>\n",
       "      <td>3616</td>\n",
       "      <td>0.210600</td>\n",
       "    </tr>\n",
       "    <tr>\n",
       "      <th>298</th>\n",
       "      <td>4328</td>\n",
       "      <td>0.181221</td>\n",
       "    </tr>\n",
       "    <tr>\n",
       "      <th>299</th>\n",
       "      <td>3316</td>\n",
       "      <td>0.257187</td>\n",
       "    </tr>\n",
       "  </tbody>\n",
       "</table>\n",
       "<p>300 rows × 2 columns</p>\n",
       "</div>"
      ],
      "text/plain": [
       "     pixel_count  pixel size(mm)\n",
       "0           2820        0.062033\n",
       "1           3208        0.055484\n",
       "2           1980        0.077308\n",
       "3           2044        0.078906\n",
       "4           2928        0.060416\n",
       "..           ...             ...\n",
       "295         3296        0.246141\n",
       "296         3932        0.202475\n",
       "297         3616        0.210600\n",
       "298         4328        0.181221\n",
       "299         3316        0.257187\n",
       "\n",
       "[300 rows x 2 columns]"
      ]
     },
     "execution_count": 103,
     "metadata": {},
     "output_type": "execute_result"
    }
   ],
   "source": [
    "X_val = val_pixel_sz_HC_df[feature_names]\n",
    "X_val"
   ]
  },
  {
   "cell_type": "code",
   "execution_count": 107,
   "id": "0dcd8992",
   "metadata": {},
   "outputs": [
    {
     "data": {
      "text/plain": [
       "array([ 67.74180865,  82.10999917,  37.82771695,  43.10623047,\n",
       "        71.96462893,  66.49927666,  79.91661833,  51.96789659,\n",
       "        70.340089  ,  40.30981604,  59.60994934,  56.26144693,\n",
       "        59.04900009,  68.81715215,  71.20452335,  53.80159602,\n",
       "        91.62609728,  59.87129569,  68.63401111,  75.46468321,\n",
       "       101.16132799,  67.12033518,  53.34361992,  63.78076191,\n",
       "        77.1447305 ,  54.99073077,  59.99803467,  86.36917586,\n",
       "        93.74180217,  84.44994042,  74.72696171,  70.37882591,\n",
       "        76.15101972,  68.44420293,  94.16820296, 109.39921768,\n",
       "       104.13940644,  97.06511984, 110.7533769 ,  84.89045983,\n",
       "        88.03224087, 104.36005001, 105.91819344,  89.33130784,\n",
       "       138.02258659, 141.41607883, 101.78275244,  91.33007742,\n",
       "        92.21984237, 112.38276106, 110.45013909, 101.60365968,\n",
       "       109.31491578, 116.78803797, 108.63778375, 137.49662198,\n",
       "       119.01229109, 114.03316528, 140.42383429, 156.88576154,\n",
       "       139.74156661, 136.01149164, 156.83849207, 160.50441761,\n",
       "       165.04394966, 146.80303134, 163.89515395, 168.01054286,\n",
       "       164.53688065, 151.8332909 , 178.70772231, 171.35687541,\n",
       "       170.35329556, 168.91871069, 178.79220797, 175.06372768,\n",
       "       166.29282418, 159.81677474, 170.78346038, 173.3298246 ,\n",
       "       183.86120178, 182.52334272, 172.02498676, 171.20951088,\n",
       "       167.46486996, 177.92917592, 167.39609875, 186.540094  ,\n",
       "       174.39146141, 174.33050975, 167.57251426, 183.41530721,\n",
       "       185.02766383, 172.83705057, 174.37273932, 172.07491365,\n",
       "       177.29540476, 169.59474762, 186.02857934, 200.86136362,\n",
       "       180.60761212, 187.66532241, 173.41917884, 181.4965156 ,\n",
       "       168.60804466, 174.40032964, 176.83905879, 171.41343736,\n",
       "       191.53588732, 166.04243755, 181.53660872, 173.73475234,\n",
       "       173.4148282 , 174.28576601, 180.92959464, 183.09132368,\n",
       "       172.71896012, 184.31442078, 177.24236964, 168.16225351,\n",
       "       184.73925186, 185.36604414, 180.37776554, 170.8123046 ,\n",
       "       178.68175078, 179.47313067, 182.86666814, 173.42300333,\n",
       "       167.23377754, 168.47675734, 160.88659366, 181.14033732,\n",
       "       176.84940244, 179.98735707, 212.79380432, 175.55172328,\n",
       "       192.53727316, 176.26545041, 170.65996617, 177.63720483,\n",
       "       180.81196874, 177.8278159 , 193.07427941, 172.93697239,\n",
       "       169.10284114, 174.49611345, 178.94146323, 175.37421267,\n",
       "       186.04025089, 177.99580072, 184.22477065, 172.71448878,\n",
       "       183.29885298, 173.67305021, 169.20215601, 178.48891704,\n",
       "       168.52443711, 168.30421944, 199.35241103, 173.68198313,\n",
       "       172.64760827, 187.27370465, 181.6019153 , 170.78037087,\n",
       "       179.39256909, 170.52607233, 184.32106008, 175.3059875 ,\n",
       "       180.75308332, 193.80467046, 207.77841567, 170.30952381,\n",
       "       175.85745855, 176.37130884, 173.96360516, 193.64400098,\n",
       "       180.13520885, 172.42812541, 192.28265034, 182.33663335,\n",
       "       196.90703416, 179.46348438, 173.72301691, 181.50136164,\n",
       "       183.3994991 , 177.39861959, 178.91032637, 190.04693958,\n",
       "       181.52189517, 174.08981861, 172.36122246, 180.76432879,\n",
       "       186.04717412, 180.32249849, 196.53071809, 189.11381003,\n",
       "       182.99022388, 175.75603275, 190.03029497, 179.91933665,\n",
       "       172.40013642, 154.46274854, 187.08086729, 195.76361969,\n",
       "       177.92610559, 193.7456425 , 184.39519371, 174.21697236,\n",
       "       183.41237334, 198.63222014, 175.31187752, 177.14836569,\n",
       "       175.04712044, 176.38503668, 193.63336255, 178.14317169,\n",
       "       168.2903785 , 177.49343263, 171.87086884, 184.89480674,\n",
       "       189.22904042, 178.36515014, 185.80855271, 186.55286274,\n",
       "       215.55063604, 182.63065757, 170.00290476, 196.24575476,\n",
       "       193.19304305, 192.58111416, 199.0021175 , 188.40565316,\n",
       "       191.71529156, 192.89426401, 226.01140035, 210.19009872,\n",
       "       239.37498332, 183.80978991, 207.07591851, 224.85601036,\n",
       "       204.75521772, 238.06247858, 187.49636064, 217.32921642,\n",
       "       224.57712091, 216.79695269, 226.32798395, 223.50310879,\n",
       "       223.70680713, 232.74842108, 221.24145773, 231.15705005,\n",
       "       230.94174919, 226.71789416, 216.16428108, 224.0601529 ,\n",
       "       225.31558294, 231.35034652, 246.10199487, 244.38793038,\n",
       "       246.85808938, 248.5075753 , 299.61202966, 264.93566812,\n",
       "       274.20210535, 262.99167534, 274.07174311, 253.38313193,\n",
       "       279.95774331, 257.86878365, 270.23064737, 261.15059847,\n",
       "       267.29114105, 266.37056243, 271.1597919 , 265.56558364,\n",
       "       277.71496914, 273.33957729, 283.4365999 , 300.83214563,\n",
       "       340.08281699, 259.07868667, 313.02254284, 268.65107156,\n",
       "       262.34111054, 274.67219046, 277.94575693, 289.36900062,\n",
       "       283.60327655, 315.17967785, 280.70197228, 272.60224465,\n",
       "       281.88993684, 279.94708108, 322.07039263, 293.99337115,\n",
       "       281.78900595, 273.11796048, 280.63214766, 307.09449239])"
      ]
     },
     "execution_count": 107,
     "metadata": {},
     "output_type": "execute_result"
    }
   ],
   "source": [
    "# linear regression model prediction\n",
    "y_pred_w_LR = model1.predict(X_val)\n",
    "y_pred_w_LR"
   ]
  },
  {
   "cell_type": "code",
   "execution_count": 110,
   "id": "1209b3ec",
   "metadata": {},
   "outputs": [
    {
     "name": "stdout",
     "output_type": "stream",
     "text": [
      "head circumference (mm)\n"
     ]
    }
   ],
   "source": [
    "print(target_name)"
   ]
  },
  {
   "cell_type": "code",
   "execution_count": 117,
   "id": "60dcf2c4",
   "metadata": {},
   "outputs": [
    {
     "data": {
      "text/plain": [
       "0       68.75\n",
       "1       69.90\n",
       "2       60.26\n",
       "3       63.34\n",
       "4       69.30\n",
       "        ...  \n",
       "295    320.00\n",
       "296    324.60\n",
       "297    299.17\n",
       "298    308.50\n",
       "299    335.00\n",
       "Name: head circumference (mm), Length: 300, dtype: float64"
      ]
     },
     "execution_count": 117,
     "metadata": {},
     "output_type": "execute_result"
    }
   ],
   "source": [
    "y_val = val_pixel_sz_HC_df[target_name]\n",
    "y_val"
   ]
  },
  {
   "cell_type": "code",
   "execution_count": 121,
   "id": "4daaf7e2",
   "metadata": {},
   "outputs": [
    {
     "name": "stdout",
     "output_type": "stream",
     "text": [
      "Linear regression model: y = 0.05535664951972703 *  pixel_count + 1085.7842110830757 * pixel size(mm)\n",
      "Correlation coefficient: 0.9805093083523606\n",
      "p-value: 1.1939178069055383e-212\n"
     ]
    }
   ],
   "source": [
    "from scipy.stats import pearsonr\n",
    "\n",
    "# Calculate the correlation coefficient and p-value\n",
    "correlation, p_value = pearsonr(y_val, y_pred_w_LR)\n",
    "\n",
    "print(\"Linear regression model: \" + formula)\n",
    "print(\"Correlation coefficient:\", correlation)\n",
    "print(\"p-value:\", p_value)\n"
   ]
  },
  {
   "cell_type": "code",
   "execution_count": 131,
   "id": "1cbb168d",
   "metadata": {},
   "outputs": [],
   "source": [
    "val_pixel_sz_HC_df[\"predicted HC from LM\"] = y_pred_w_LR"
   ]
  },
  {
   "cell_type": "code",
   "execution_count": 132,
   "id": "5bdae9f5",
   "metadata": {},
   "outputs": [
    {
     "data": {
      "text/html": [
       "<div>\n",
       "<style scoped>\n",
       "    .dataframe tbody tr th:only-of-type {\n",
       "        vertical-align: middle;\n",
       "    }\n",
       "\n",
       "    .dataframe tbody tr th {\n",
       "        vertical-align: top;\n",
       "    }\n",
       "\n",
       "    .dataframe thead th {\n",
       "        text-align: right;\n",
       "    }\n",
       "</style>\n",
       "<table border=\"1\" class=\"dataframe\">\n",
       "  <thead>\n",
       "    <tr style=\"text-align: right;\">\n",
       "      <th></th>\n",
       "      <th>Unnamed: 0</th>\n",
       "      <th>filename</th>\n",
       "      <th>pixel size(mm)</th>\n",
       "      <th>head circumference (mm)</th>\n",
       "      <th>anno_filename</th>\n",
       "      <th>pixel_count</th>\n",
       "      <th>predicted HC from LM</th>\n",
       "    </tr>\n",
       "  </thead>\n",
       "  <tbody>\n",
       "    <tr>\n",
       "      <th>0</th>\n",
       "      <td>2</td>\n",
       "      <td>002_HC.png</td>\n",
       "      <td>0.062033</td>\n",
       "      <td>68.75</td>\n",
       "      <td>002_HC_Annotation.png</td>\n",
       "      <td>2820</td>\n",
       "      <td>67.741809</td>\n",
       "    </tr>\n",
       "    <tr>\n",
       "      <th>1</th>\n",
       "      <td>12</td>\n",
       "      <td>011_HC.png</td>\n",
       "      <td>0.055484</td>\n",
       "      <td>69.90</td>\n",
       "      <td>011_HC_Annotation.png</td>\n",
       "      <td>3208</td>\n",
       "      <td>82.109999</td>\n",
       "    </tr>\n",
       "    <tr>\n",
       "      <th>2</th>\n",
       "      <td>16</td>\n",
       "      <td>014_3HC.png</td>\n",
       "      <td>0.077308</td>\n",
       "      <td>60.26</td>\n",
       "      <td>014_3HC_Annotation.png</td>\n",
       "      <td>1980</td>\n",
       "      <td>37.827717</td>\n",
       "    </tr>\n",
       "    <tr>\n",
       "      <th>3</th>\n",
       "      <td>17</td>\n",
       "      <td>014_HC.png</td>\n",
       "      <td>0.078906</td>\n",
       "      <td>63.34</td>\n",
       "      <td>014_HC_Annotation.png</td>\n",
       "      <td>2044</td>\n",
       "      <td>43.106230</td>\n",
       "    </tr>\n",
       "    <tr>\n",
       "      <th>4</th>\n",
       "      <td>18</td>\n",
       "      <td>015_HC.png</td>\n",
       "      <td>0.060416</td>\n",
       "      <td>69.30</td>\n",
       "      <td>015_HC_Annotation.png</td>\n",
       "      <td>2928</td>\n",
       "      <td>71.964629</td>\n",
       "    </tr>\n",
       "  </tbody>\n",
       "</table>\n",
       "</div>"
      ],
      "text/plain": [
       "   Unnamed: 0     filename  pixel size(mm)  head circumference (mm)  \\\n",
       "0           2   002_HC.png        0.062033                    68.75   \n",
       "1          12   011_HC.png        0.055484                    69.90   \n",
       "2          16  014_3HC.png        0.077308                    60.26   \n",
       "3          17   014_HC.png        0.078906                    63.34   \n",
       "4          18   015_HC.png        0.060416                    69.30   \n",
       "\n",
       "            anno_filename  pixel_count  predicted HC from LM  \n",
       "0   002_HC_Annotation.png         2820             67.741809  \n",
       "1   011_HC_Annotation.png         3208             82.109999  \n",
       "2  014_3HC_Annotation.png         1980             37.827717  \n",
       "3   014_HC_Annotation.png         2044             43.106230  \n",
       "4   015_HC_Annotation.png         2928             71.964629  "
      ]
     },
     "execution_count": 132,
     "metadata": {},
     "output_type": "execute_result"
    }
   ],
   "source": [
    "# after lapply annotated filename and pixel count function\n",
    "val_pixel_sz_HC_df.head()"
   ]
  },
  {
   "cell_type": "code",
   "execution_count": 169,
   "id": "fd39adb6",
   "metadata": {},
   "outputs": [
    {
     "data": {
      "image/png": "[encoded data removed]",
      "text/plain": [
       "<Figure size 1000x500 with 2 Axes>"
      ]
     },
     "metadata": {},
     "output_type": "display_data"
    }
   ],
   "source": [
    "import numpy as np\n",
    "import matplotlib.pyplot as plt\n",
    "\n",
    "# Convert pixel_count and pixel_size to arrays\n",
    "pixel_count = np.array(val_pixel_sz_HC_df[\"pixel_count\"])\n",
    "pixel_size = np.array(val_pixel_sz_HC_df[\"pixel size(mm)\"])\n",
    "\n",
    "# Compute the corresponding y values based on the equation\n",
    "y = 0.05535664951972703 * pixel_count + 1085.7842110830757 * pixel_size\n",
    "\n",
    "# Create a figure with two subplots\n",
    "fig, (ax1, ax2) = plt.subplots(1, 2, figsize=(10, 5))\n",
    "\n",
    "# Plot the pixel count subplot\n",
    "ax1.scatter(pixel_count, y, color='red', label='Pixel Count')\n",
    "ax1.set_xlabel('Pixel Count')\n",
    "ax1.set_ylabel('Y = Head Circumference')\n",
    "ax1.set_title('Regression Plot (Pixel Count)')\n",
    "# ax1.text(0.5, 0.9, 'y = 0.05535664954711476 * pixel_count + 1085.7842108179545 * pixel_size',\n",
    "#         transform=ax1.transAxes, fontsize=10, verticalalignment='top')\n",
    "\n",
    "# Plot the pixel size subplot\n",
    "ax2.scatter(pixel_size, y, color='green', label='Pixel Size')\n",
    "ax2.set_xlabel('Pixel Size (mm)')\n",
    "ax2.set_ylabel('Y = Head Circumference')\n",
    "ax2.set_title('Regression Plot (Pixel Size)')\n",
    "# ax2.text(0.5, 0.9, 'y = 0.05535664954711476 * pixel_count + 1085.7842108179545 * pixel_size',\n",
    "#        transform=ax2.transAxes, fontsize=10, verticalalignment='top')\n",
    "\n",
    "# Add a legend to the subplots\n",
    "ax1.legend()\n",
    "ax2.legend()\n",
    "\n",
    "# Adjust the spacing between subplots \n",
    "plt.tight_layout()\n",
    "\n",
    "# Show the plots\n",
    "plt.show()\n",
    "\n",
    "\n",
    "\n",
    "\n"
   ]
  },
  {
   "cell_type": "code",
   "execution_count": 137,
   "id": "78bba19f",
   "metadata": {},
   "outputs": [
    {
     "data": {
      "text/html": [
       "<div>\n",
       "<style scoped>\n",
       "    .dataframe tbody tr th:only-of-type {\n",
       "        vertical-align: middle;\n",
       "    }\n",
       "\n",
       "    .dataframe tbody tr th {\n",
       "        vertical-align: top;\n",
       "    }\n",
       "\n",
       "    .dataframe thead th {\n",
       "        text-align: right;\n",
       "    }\n",
       "</style>\n",
       "<table border=\"1\" class=\"dataframe\">\n",
       "  <thead>\n",
       "    <tr style=\"text-align: right;\">\n",
       "      <th></th>\n",
       "      <th>pixel_count</th>\n",
       "      <th>pixel size(mm)</th>\n",
       "    </tr>\n",
       "  </thead>\n",
       "  <tbody>\n",
       "    <tr>\n",
       "      <th>0</th>\n",
       "      <td>2820</td>\n",
       "      <td>0.062033</td>\n",
       "    </tr>\n",
       "    <tr>\n",
       "      <th>1</th>\n",
       "      <td>3208</td>\n",
       "      <td>0.055484</td>\n",
       "    </tr>\n",
       "    <tr>\n",
       "      <th>2</th>\n",
       "      <td>1980</td>\n",
       "      <td>0.077308</td>\n",
       "    </tr>\n",
       "    <tr>\n",
       "      <th>3</th>\n",
       "      <td>2044</td>\n",
       "      <td>0.078906</td>\n",
       "    </tr>\n",
       "    <tr>\n",
       "      <th>4</th>\n",
       "      <td>2928</td>\n",
       "      <td>0.060416</td>\n",
       "    </tr>\n",
       "    <tr>\n",
       "      <th>...</th>\n",
       "      <td>...</td>\n",
       "      <td>...</td>\n",
       "    </tr>\n",
       "    <tr>\n",
       "      <th>295</th>\n",
       "      <td>3296</td>\n",
       "      <td>0.246141</td>\n",
       "    </tr>\n",
       "    <tr>\n",
       "      <th>296</th>\n",
       "      <td>3932</td>\n",
       "      <td>0.202475</td>\n",
       "    </tr>\n",
       "    <tr>\n",
       "      <th>297</th>\n",
       "      <td>3616</td>\n",
       "      <td>0.210600</td>\n",
       "    </tr>\n",
       "    <tr>\n",
       "      <th>298</th>\n",
       "      <td>4328</td>\n",
       "      <td>0.181221</td>\n",
       "    </tr>\n",
       "    <tr>\n",
       "      <th>299</th>\n",
       "      <td>3316</td>\n",
       "      <td>0.257187</td>\n",
       "    </tr>\n",
       "  </tbody>\n",
       "</table>\n",
       "<p>300 rows × 2 columns</p>\n",
       "</div>"
      ],
      "text/plain": [
       "     pixel_count  pixel size(mm)\n",
       "0           2820        0.062033\n",
       "1           3208        0.055484\n",
       "2           1980        0.077308\n",
       "3           2044        0.078906\n",
       "4           2928        0.060416\n",
       "..           ...             ...\n",
       "295         3296        0.246141\n",
       "296         3932        0.202475\n",
       "297         3616        0.210600\n",
       "298         4328        0.181221\n",
       "299         3316        0.257187\n",
       "\n",
       "[300 rows x 2 columns]"
      ]
     },
     "execution_count": 137,
     "metadata": {},
     "output_type": "execute_result"
    }
   ],
   "source": [
    "X_val\n",
    "\n"
   ]
  },
  {
   "cell_type": "code",
   "execution_count": 139,
   "id": "afac4b87",
   "metadata": {},
   "outputs": [],
   "source": [
    "y_pred2_w_RF = rf_model_on_full_train_data.predict(X_val)\n",
    "\n",
    "val_pixel_sz_HC_df[\"predicted HC from RF\"] = y_pred2_w_RF"
   ]
  },
  {
   "cell_type": "code",
   "execution_count": 140,
   "id": "f9f3208b",
   "metadata": {},
   "outputs": [
    {
     "data": {
      "text/html": [
       "<div>\n",
       "<style scoped>\n",
       "    .dataframe tbody tr th:only-of-type {\n",
       "        vertical-align: middle;\n",
       "    }\n",
       "\n",
       "    .dataframe tbody tr th {\n",
       "        vertical-align: top;\n",
       "    }\n",
       "\n",
       "    .dataframe thead th {\n",
       "        text-align: right;\n",
       "    }\n",
       "</style>\n",
       "<table border=\"1\" class=\"dataframe\">\n",
       "  <thead>\n",
       "    <tr style=\"text-align: right;\">\n",
       "      <th></th>\n",
       "      <th>Unnamed: 0</th>\n",
       "      <th>filename</th>\n",
       "      <th>pixel size(mm)</th>\n",
       "      <th>head circumference (mm)</th>\n",
       "      <th>anno_filename</th>\n",
       "      <th>pixel_count</th>\n",
       "      <th>predicted HC from LM</th>\n",
       "      <th>predicted HC from RF</th>\n",
       "    </tr>\n",
       "  </thead>\n",
       "  <tbody>\n",
       "    <tr>\n",
       "      <th>0</th>\n",
       "      <td>2</td>\n",
       "      <td>002_HC.png</td>\n",
       "      <td>0.062033</td>\n",
       "      <td>68.75</td>\n",
       "      <td>002_HC_Annotation.png</td>\n",
       "      <td>2820</td>\n",
       "      <td>67.741809</td>\n",
       "      <td>69.6586</td>\n",
       "    </tr>\n",
       "    <tr>\n",
       "      <th>1</th>\n",
       "      <td>12</td>\n",
       "      <td>011_HC.png</td>\n",
       "      <td>0.055484</td>\n",
       "      <td>69.90</td>\n",
       "      <td>011_HC_Annotation.png</td>\n",
       "      <td>3208</td>\n",
       "      <td>82.109999</td>\n",
       "      <td>73.4191</td>\n",
       "    </tr>\n",
       "    <tr>\n",
       "      <th>2</th>\n",
       "      <td>16</td>\n",
       "      <td>014_3HC.png</td>\n",
       "      <td>0.077308</td>\n",
       "      <td>60.26</td>\n",
       "      <td>014_3HC_Annotation.png</td>\n",
       "      <td>1980</td>\n",
       "      <td>37.827717</td>\n",
       "      <td>63.2613</td>\n",
       "    </tr>\n",
       "    <tr>\n",
       "      <th>3</th>\n",
       "      <td>17</td>\n",
       "      <td>014_HC.png</td>\n",
       "      <td>0.078906</td>\n",
       "      <td>63.34</td>\n",
       "      <td>014_HC_Annotation.png</td>\n",
       "      <td>2044</td>\n",
       "      <td>43.106230</td>\n",
       "      <td>64.0114</td>\n",
       "    </tr>\n",
       "    <tr>\n",
       "      <th>4</th>\n",
       "      <td>18</td>\n",
       "      <td>015_HC.png</td>\n",
       "      <td>0.060416</td>\n",
       "      <td>69.30</td>\n",
       "      <td>015_HC_Annotation.png</td>\n",
       "      <td>2928</td>\n",
       "      <td>71.964629</td>\n",
       "      <td>69.9327</td>\n",
       "    </tr>\n",
       "    <tr>\n",
       "      <th>...</th>\n",
       "      <td>...</td>\n",
       "      <td>...</td>\n",
       "      <td>...</td>\n",
       "      <td>...</td>\n",
       "      <td>...</td>\n",
       "      <td>...</td>\n",
       "      <td>...</td>\n",
       "      <td>...</td>\n",
       "    </tr>\n",
       "    <tr>\n",
       "      <th>295</th>\n",
       "      <td>970</td>\n",
       "      <td>783_4HC.png</td>\n",
       "      <td>0.246141</td>\n",
       "      <td>320.00</td>\n",
       "      <td>783_4HC_Annotation.png</td>\n",
       "      <td>3296</td>\n",
       "      <td>293.993371</td>\n",
       "      <td>320.2547</td>\n",
       "    </tr>\n",
       "    <tr>\n",
       "      <th>296</th>\n",
       "      <td>976</td>\n",
       "      <td>787_HC.png</td>\n",
       "      <td>0.202475</td>\n",
       "      <td>324.60</td>\n",
       "      <td>787_HC_Annotation.png</td>\n",
       "      <td>3932</td>\n",
       "      <td>281.789006</td>\n",
       "      <td>309.5710</td>\n",
       "    </tr>\n",
       "    <tr>\n",
       "      <th>297</th>\n",
       "      <td>982</td>\n",
       "      <td>792_HC.png</td>\n",
       "      <td>0.210600</td>\n",
       "      <td>299.17</td>\n",
       "      <td>792_HC_Annotation.png</td>\n",
       "      <td>3616</td>\n",
       "      <td>273.117960</td>\n",
       "      <td>287.8599</td>\n",
       "    </tr>\n",
       "    <tr>\n",
       "      <th>298</th>\n",
       "      <td>985</td>\n",
       "      <td>794_HC.png</td>\n",
       "      <td>0.181221</td>\n",
       "      <td>308.50</td>\n",
       "      <td>794_HC_Annotation.png</td>\n",
       "      <td>4328</td>\n",
       "      <td>280.632148</td>\n",
       "      <td>284.3334</td>\n",
       "    </tr>\n",
       "    <tr>\n",
       "      <th>299</th>\n",
       "      <td>989</td>\n",
       "      <td>796_HC.png</td>\n",
       "      <td>0.257187</td>\n",
       "      <td>335.00</td>\n",
       "      <td>796_HC_Annotation.png</td>\n",
       "      <td>3316</td>\n",
       "      <td>307.094492</td>\n",
       "      <td>325.8391</td>\n",
       "    </tr>\n",
       "  </tbody>\n",
       "</table>\n",
       "<p>300 rows × 8 columns</p>\n",
       "</div>"
      ],
      "text/plain": [
       "     Unnamed: 0     filename  pixel size(mm)  head circumference (mm)  \\\n",
       "0             2   002_HC.png        0.062033                    68.75   \n",
       "1            12   011_HC.png        0.055484                    69.90   \n",
       "2            16  014_3HC.png        0.077308                    60.26   \n",
       "3            17   014_HC.png        0.078906                    63.34   \n",
       "4            18   015_HC.png        0.060416                    69.30   \n",
       "..          ...          ...             ...                      ...   \n",
       "295         970  783_4HC.png        0.246141                   320.00   \n",
       "296         976   787_HC.png        0.202475                   324.60   \n",
       "297         982   792_HC.png        0.210600                   299.17   \n",
       "298         985   794_HC.png        0.181221                   308.50   \n",
       "299         989   796_HC.png        0.257187                   335.00   \n",
       "\n",
       "              anno_filename  pixel_count  predicted HC from LM  \\\n",
       "0     002_HC_Annotation.png         2820             67.741809   \n",
       "1     011_HC_Annotation.png         3208             82.109999   \n",
       "2    014_3HC_Annotation.png         1980             37.827717   \n",
       "3     014_HC_Annotation.png         2044             43.106230   \n",
       "4     015_HC_Annotation.png         2928             71.964629   \n",
       "..                      ...          ...                   ...   \n",
       "295  783_4HC_Annotation.png         3296            293.993371   \n",
       "296   787_HC_Annotation.png         3932            281.789006   \n",
       "297   792_HC_Annotation.png         3616            273.117960   \n",
       "298   794_HC_Annotation.png         4328            280.632148   \n",
       "299   796_HC_Annotation.png         3316            307.094492   \n",
       "\n",
       "     predicted HC from RF  \n",
       "0                 69.6586  \n",
       "1                 73.4191  \n",
       "2                 63.2613  \n",
       "3                 64.0114  \n",
       "4                 69.9327  \n",
       "..                    ...  \n",
       "295              320.2547  \n",
       "296              309.5710  \n",
       "297              287.8599  \n",
       "298              284.3334  \n",
       "299              325.8391  \n",
       "\n",
       "[300 rows x 8 columns]"
      ]
     },
     "execution_count": 140,
     "metadata": {},
     "output_type": "execute_result"
    }
   ],
   "source": [
    "val_pixel_sz_HC_df"
   ]
  },
  {
   "cell_type": "code",
   "execution_count": 143,
   "id": "49641c67",
   "metadata": {},
   "outputs": [
    {
     "data": {
      "text/plain": [
       "0       68.75\n",
       "1       69.90\n",
       "2       60.26\n",
       "3       63.34\n",
       "4       69.30\n",
       "        ...  \n",
       "295    320.00\n",
       "296    324.60\n",
       "297    299.17\n",
       "298    308.50\n",
       "299    335.00\n",
       "Name: head circumference (mm), Length: 300, dtype: float64"
      ]
     },
     "execution_count": 143,
     "metadata": {},
     "output_type": "execute_result"
    }
   ],
   "source": [
    "y_val\n"
   ]
  },
  {
   "cell_type": "code",
   "execution_count": 154,
   "id": "aca9ed76",
   "metadata": {},
   "outputs": [
    {
     "name": "stdout",
     "output_type": "stream",
     "text": [
      "Linear regression model: y = 0.05535664951972703 *  pixel_count + 1085.7842110830757 * pixel size(mm)\n",
      "Correlation coefficient: 0.9805093083523606\n",
      "p-value: 1.1939178069055383e-212\n",
      "MAE: 153.5295696326789\n",
      " \n",
      "random tree regression model: \n",
      "Correlation coefficient: 0.9968396344016947\n",
      "p-value: 0.0\n",
      "MAE: 1.430364571428559\n",
      "  \n",
      "Best Model based on correlation:\n",
      "Model: Random Forest\n",
      "Correlation Coefficient: 0.9968396344016947\n",
      "p-value: 0.0\n"
     ]
    }
   ],
   "source": [
    "# Calculate the correlation coefficient and p-value  # linear regression\n",
    "correlation_lr, p_value_lr = pearsonr(y_val, y_pred_w_LR)\n",
    "\n",
    "print(\"Linear regression model: \" + formula)\n",
    "print(\"Correlation coefficient:\", correlation_lr)\n",
    "print(\"p-value:\", p_value_lr)\n",
    "print(\"MAE:\", mse1)\n",
    "\n",
    "print(\" \")\n",
    "correlation_rf, p_value_rf = pearsonr(y_val, y_pred2_w_RF)\n",
    "\n",
    "print(\"random tree regression model: \" )\n",
    "print(\"Correlation coefficient:\", correlation_rf)\n",
    "np.set_printoptions(precision=8)\n",
    "print(\"p-value:\", p_value_rf)\n",
    "print(\"MAE:\", rf_val_mae)\n",
    "\n",
    "\n",
    "# p-value = 0 that is reject null hypothesis-- the \n",
    "# Compare the models\n",
    "if abs(correlation_lr) > abs(correlation_rf):\n",
    "    best_model = \"Linear Regression\"\n",
    "    best_correlation = correlation_lr\n",
    "    best_p_value = p_value_lr\n",
    "else:\n",
    "    best_model = \"Random Forest\"\n",
    "    best_correlation = correlation_rf\n",
    "    best_p_value = p_value_rf\n",
    "\n",
    "print(\"  \")\n",
    "print(\"Best Model based on correlation:\")\n",
    "print(\"Model:\", best_model)\n",
    "print(\"Correlation Coefficient:\", best_correlation)\n",
    "print(\"p-value:\", best_p_value)"
   ]
  },
  {
   "cell_type": "code",
   "execution_count": 170,
   "id": "041b0c07",
   "metadata": {},
   "outputs": [
    {
     "data": {
      "image/png": "[encoded data removed]",
      "text/plain": [
       "<Figure size 1000x500 with 2 Axes>"
      ]
     },
     "metadata": {},
     "output_type": "display_data"
    }
   ],
   "source": [
    "import matplotlib.pyplot as plt\n",
    "\n",
    "# Get the feature values for plotting\n",
    "pixel_count = val_pixel_sz_HC_df['pixel_count']\n",
    "pixel_size = val_pixel_sz_HC_df['pixel size(mm)']\n",
    "\n",
    "\n",
    "# Create a figure with two subplots\n",
    "fig, axs = plt.subplots(1, 2, figsize=(10, 5))\n",
    "\n",
    "# Plot pixel_count vs y_pred_rf\n",
    "axs[0].scatter(pixel_count, y_pred2_w_RF, color='red', label='Predicted Values')\n",
    "axs[0].set_xlabel('Pixel Count')\n",
    "axs[0].set_ylabel('Y = Predicted HC')\n",
    "axs[0].set_title('Pixel Count vs Predicted HC (RF model)')\n",
    "\n",
    "# Plot pixel_size vs y_pred_rf\n",
    "axs[1].scatter(pixel_size, y_pred2_w_RF, color='blue', label='Predicted Values')\n",
    "axs[1].set_xlabel('Pixel Size (mm)')\n",
    "axs[1].set_ylabel('Y = Predicted HC')\n",
    "axs[1].set_title('Pixel Size vs Predicted HC (RF model)')\n",
    "\n",
    "\n",
    "# Adjust spacing between subplots\n",
    "plt.tight_layout()\n",
    "\n",
    "# Show the plot\n",
    "plt.show()\n",
    "\n"
   ]
  },
  {
   "cell_type": "code",
   "execution_count": 166,
   "id": "f8c57bd4",
   "metadata": {},
   "outputs": [],
   "source": [
    "import joblib\n",
    "\n",
    "# Assuming rf_model_on_full_data is your trained Random Forest model\n",
    "# ...\n",
    "\n",
    "# Specify the filename and path for saving the model\n",
    "model_filename = 'Output\\pixelCt_pixelSz_toHeadCir_rfReg.joblib'\n",
    "\n"
   ]
  },
  {
   "cell_type": "code",
   "execution_count": 172,
   "id": "e4a94969",
   "metadata": {},
   "outputs": [
    {
     "data": {
      "text/plain": [
       "['Output\\\\pixelCt_pixelSz_toHeadCir_rfReg.joblib']"
      ]
     },
     "execution_count": 172,
     "metadata": {},
     "output_type": "execute_result"
    }
   ],
   "source": [
    "# Save the model to a file\n",
    "joblib.dump(rf_model_on_full_train_data, model_filename)"
   ]
  },
  {
   "cell_type": "code",
   "execution_count": 174,
   "id": "51fbc423",
   "metadata": {},
   "outputs": [],
   "source": [
    "#import joblib\n",
    "\n",
    "# Load the trained Random Forest model\n",
    "#loaded_model = joblib.load('rf_model_on_full_data.joblib')\n",
    "\n",
    "# Define a mapping function that uses the loaded model for predictions\n",
    "def mapping_function(input_data):\n",
    "    # Perform any necessary data preprocessing on input_data\n",
    "    # ...\n",
    "\n",
    "    # Make predictions using the loaded model\n",
    "    predictions = loaded_model.predict(input_data)\n",
    "\n",
    "    # Return the predictions\n",
    "    return predictions"
   ]
  },
  {
   "cell_type": "code",
   "execution_count": null,
   "id": "2c5bfaf0",
   "metadata": {},
   "outputs": [],
   "source": []
  }
 ],
 "metadata": {
  "kernelspec": {
   "display_name": "Python 3 (ipykernel)",
   "language": "python",
   "name": "python3"
  },
  "language_info": {
   "codemirror_mode": {
    "name": "ipython",
    "version": 3
   },
   "file_extension": ".py",
   "mimetype": "text/x-python",
   "name": "python",
   "nbconvert_exporter": "python",
   "pygments_lexer": "ipython3",
   "version": "3.9.6"
  }
 },
 "nbformat": 4,
 "nbformat_minor": 5
}
