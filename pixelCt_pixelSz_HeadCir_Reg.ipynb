{
 "cells": [
  {
   "cell_type": "code",
   "execution_count": 2,
   "id": "c52bc859",
   "metadata": {},
   "outputs": [],
   "source": [
    "import os\n",
    "from glob import glob\n",
    "from PIL import Image\n",
    "import pandas as pd\n",
    "import numpy as np\n",
    "import matplotlib.pyplot as plt\n",
    "import tensorflow as tf\n",
    "from sklearn.model_selection import train_test_split\n",
    "from scipy.stats import pearsonr\n",
    "\n"
   ]
  },
  {
   "cell_type": "code",
   "execution_count": 2,
   "id": "54504bad",
   "metadata": {},
   "outputs": [
    {
     "data": {
      "text/plain": [
       "True"
      ]
     },
     "execution_count": 2,
     "metadata": {},
     "output_type": "execute_result"
    }
   ],
   "source": [
    "data_path_to = 'G:/.shortcut-targets-by-id/10wVB-YsfTmmpZyUo8jBH1cDOkVWVx5N1/T1 Project/Data/Training-Splitted/'\n",
    "os.path.exists(data_path_to)"
   ]
  },
  {
   "cell_type": "code",
   "execution_count": 3,
   "id": "ff83198d",
   "metadata": {},
   "outputs": [
    {
     "data": {
      "text/plain": [
       "True"
      ]
     },
     "execution_count": 3,
     "metadata": {},
     "output_type": "execute_result"
    }
   ],
   "source": [
    "local_data_path_to=\"Data/Training-Splitted/\"\n",
    "os.path.exists(local_data_path_to)"
   ]
  },
  {
   "cell_type": "code",
   "execution_count": 4,
   "id": "79e4943e",
   "metadata": {},
   "outputs": [],
   "source": [
    "img_data_path = 'G:/.shortcut-targets-by-id/10wVB-YsfTmmpZyUo8jBH1cDOkVWVx5N1/T1 Project/Data/Training-Splitted/train/Annotation/'\n",
    "files = sorted(os.listdir(img_data_path))\n",
    "#print(files)\n",
    "\n",
    "\n",
    "    "
   ]
  },
  {
   "cell_type": "code",
   "execution_count": 5,
   "id": "5086f520",
   "metadata": {},
   "outputs": [],
   "source": [
    "pixel_count=[]\n",
    "for f in files:\n",
    "    label = Image.open(img_data_path+f)\n",
    "    label = np.array(label)\n",
    "    label = tf.convert_to_tensor(label)\n",
    "    label = tf.cast(label, tf.float32) / 255.0\n",
    "    label = tf.cast(label, tf.int32)\n",
    "    pixel_count.append(np.sum(label))\n"
   ]
  },
  {
   "cell_type": "code",
   "execution_count": 6,
   "id": "071a7169",
   "metadata": {
    "scrolled": true
   },
   "outputs": [
    {
     "name": "stdout",
     "output_type": "stream",
     "text": [
      "[1632, 1608, 1924, 2496, 1536, 2628, 2628, 1464, 2032, 1308, 2320, 2288, 1812, 2712, 2032, 2748, 2224, 2744, 1644, 1624, 2884, 1736, 3376, 1452, 1768, 2412, 1516, 1688, 1876, 1888, 2732, 2344, 1696, 2076, 2092, 2172, 3016, 2836, 2208, 3292, 2388, 2576, 2576, 1612, 2912, 2960, 2080, 1800, 3300, 2760, 2300, 2088, 3044, 2564, 1624, 2316, 1552, 2956, 2832, 3024, 1860, 3576, 3508, 2860, 1452, 2840, 3108, 2832, 2288, 2212, 2092, 3172, 2180, 3524, 2200, 1424, 1604, 3680, 3452, 2664, 1856, 3084, 2644, 2420, 2976, 2608, 3112, 2992, 1508, 1500, 2696, 2536, 2536, 2140, 2920, 3308, 3100, 2900, 2080, 3404, 2756, 2628, 3168, 3000, 2100, 2116, 3628, 1432, 3468, 2080, 1592, 1836, 1880, 1924, 1788, 3016, 3336, 2036, 2320, 3264, 3472, 3560, 3400, 2340, 1936, 1732, 2600, 2672, 2772, 2468, 2920, 3536, 2168, 3324, 1468, 2912, 2476, 2388, 2364, 2648, 2736, 3084, 2660, 3136, 3384, 1704, 2032, 2628, 2992, 2968, 3188, 2256, 2964, 3076, 3232, 3192, 3080, 3076, 3060, 3148, 3016, 2544, 1508, 3420, 2784, 3336, 2352, 3812, 2900, 2680, 3176, 3268, 1684, 2120, 2724, 4120, 2740, 2564, 2020, 2456, 3328, 3864, 2096, 3964, 3580, 3580, 3564, 4136, 3376, 2784, 3088, 2264, 3352, 3768, 3496, 2612, 3448, 3784, 4112, 3552, 3676, 4012, 3548, 3592, 3524, 3592, 3528, 4304, 2848, 3496, 3448, 3824, 3528, 3160, 3508, 2664, 4372, 4336, 4136, 2316, 1888, 3224, 3108, 3568, 3424, 3632, 2536, 4028, 3336, 2896, 3296, 2408, 2408, 3920, 3848, 3916, 3756, 2752, 3668, 3664, 3000, 3836, 3512, 3612, 3520, 3688, 3904, 3964, 3452, 3032, 4004, 2844, 3200, 3232, 3268, 3564, 3620, 3452, 3168, 3480, 3908, 4148, 3228, 1896, 4000, 3300, 3124, 2976, 4256, 4064, 3112, 2892, 3236, 2956, 2876, 2964, 2932, 3088, 3672, 3548, 3348, 3112, 3572, 3928, 3776, 3560, 3056, 3372, 2412, 2192, 3976, 3120, 3964, 4028, 3816, 3176, 4420, 4376, 3972, 3376, 3116, 3496, 3976, 3692, 2992, 3356, 3348, 3248, 3560, 3664, 3532, 3948, 3188, 3936, 4516, 2960, 3684, 3028, 3028, 4040, 4016, 3184, 2916, 3540, 3592, 2868, 2804, 2776, 3876, 3156, 3456, 3188, 3024, 3240, 3208, 3228, 3228, 3148, 3448, 3220, 2756, 3988, 3868, 3024, 3820, 3768, 3436, 3264, 3292, 4088, 4100, 3676, 3060, 3060, 3060, 4248, 3972, 3740, 4220, 2644, 3756, 3048, 3496, 3212, 3384, 3716, 3364, 3352, 3492, 3240, 3888, 3968, 3260, 4172, 3840, 3112, 3172, 3464, 3464, 3276, 3108, 3412, 3948, 3216, 3624, 3532, 3608, 3604, 3176, 3684, 4052, 3912, 3484, 3648, 3812, 3876, 3868, 3896, 3900, 3292, 4060, 3428, 2180, 2192, 3764, 3376, 3300, 4000, 3680, 3072, 3064, 3708, 3332, 3184, 2676, 3476, 3928, 3888, 3656, 3660, 3476, 2204, 3740, 3904, 3200, 3316, 3684, 3396, 3128, 3264, 3768, 4152, 4176, 3900, 3676, 3396, 3592, 3876, 3876, 3644, 3624, 3668, 1908, 3936, 3880, 3640, 3584, 3476, 2604, 3544, 3024, 3756, 2912, 2964, 4024, 3288, 3240, 3240, 3756, 4272, 3412, 2700, 3064, 3852, 4056, 2624, 3340, 3260, 3728, 3232, 3232, 3224, 2976, 3860, 3684, 4300, 3472, 3704, 3300, 4244, 3088, 3092, 4128, 4280, 4048, 3516, 3272, 3184, 3392, 3736, 3040, 2856, 3708, 3968, 3872, 3900, 3932, 3384, 4340, 3680, 3648, 3584, 3768, 2792, 3392, 2292, 3544, 3072, 3520, 3820, 3080, 2340, 4168, 3212, 3868, 3588, 2728, 3876, 3616, 4184, 3404, 3416, 3968, 3752, 3420, 3848, 4364, 3324, 2732, 1980, 3468, 3868, 3868, 4164, 2256, 3396, 4036, 3700, 3324, 2668, 4312, 3912, 3460, 3056, 2220, 3884, 4160, 3888, 2564, 3572, 3848, 3620, 2560, 3124, 2572, 2572, 1116, 2168, 2104, 3368, 2448, 3504, 2776, 3704, 3724, 4028, 2424, 2424, 3644, 3472, 3400, 4064, 3520, 2108, 2780, 4084, 3684, 2808, 3384, 1720, 3952, 3588, 1884, 1800, 2992, 2720, 2488, 1912, 3596, 3596, 3592, 2596, 3148, 2792, 2780, 4408, 2296, 3332, 3756, 2856, 4240, 3020, 4348, 2956, 2940, 4220, 3704, 2228, 3540, 3540, 4252, 2572, 2620, 4224, 4300, 2596, 2388, 3628, 3604, 2624, 3592, 3684, 3692, 3484, 3144, 3908, 2764, 2764, 2972, 3684, 3712, 4044, 3808, 4124, 3752, 3348, 2720, 3452, 3804, 3624, 2988, 4240, 2960, 2968, 3012, 3344, 3584, 4188, 3388, 3852, 3404, 4052, 3508, 2548, 2756, 3136, 3596, 3624, 2568, 3772, 3152, 2872, 3748, 3436, 3932, 3148, 3704, 2704, 2764, 3616, 4020, 3756, 3008, 3648, 3352, 3228, 3232, 3388, 3116, 2248, 2320, 3436, 2996, 3800, 2592, 3248, 3452, 3720, 3696, 3704, 3044, 3044, 2672, 2956, 3152, 3844, 4328, 3704, 3700, 3532, 3044, 3880, 3152, 3464, 2820, 3964, 4152, 2860, 3264]\n"
     ]
    }
   ],
   "source": [
    "print(pixel_count)"
   ]
  },
  {
   "cell_type": "code",
   "execution_count": 7,
   "id": "e2cc002f",
   "metadata": {
    "scrolled": true
   },
   "outputs": [],
   "source": [
    "#train_pixel_sz_HC_file = local_data_path_to + 'training_set_pixel_size_and_HC.csv'\n",
    "#os.path.exists(train_pixel_sz_HC_file)"
   ]
  },
  {
   "cell_type": "code",
   "execution_count": 8,
   "id": "bf92c98d",
   "metadata": {},
   "outputs": [
    {
     "data": {
      "text/plain": [
       "True"
      ]
     },
     "execution_count": 8,
     "metadata": {},
     "output_type": "execute_result"
    }
   ],
   "source": [
    "train_pixel_sz_HC_file = local_data_path_to + 'train_split_pixel_size_and_HC.csv'\n",
    "os.path.exists(train_pixel_sz_HC_file)"
   ]
  },
  {
   "cell_type": "code",
   "execution_count": 9,
   "id": "928b9d3d",
   "metadata": {
    "scrolled": true
   },
   "outputs": [
    {
     "data": {
      "text/html": [
       "<div>\n",
       "<style scoped>\n",
       "    .dataframe tbody tr th:only-of-type {\n",
       "        vertical-align: middle;\n",
       "    }\n",
       "\n",
       "    .dataframe tbody tr th {\n",
       "        vertical-align: top;\n",
       "    }\n",
       "\n",
       "    .dataframe thead th {\n",
       "        text-align: right;\n",
       "    }\n",
       "</style>\n",
       "<table border=\"1\" class=\"dataframe\">\n",
       "  <thead>\n",
       "    <tr style=\"text-align: right;\">\n",
       "      <th></th>\n",
       "      <th>Unnamed: 0</th>\n",
       "      <th>filename</th>\n",
       "      <th>pixel size(mm)</th>\n",
       "      <th>head circumference (mm)</th>\n",
       "    </tr>\n",
       "  </thead>\n",
       "  <tbody>\n",
       "    <tr>\n",
       "      <th>0</th>\n",
       "      <td>0</td>\n",
       "      <td>000_HC.png</td>\n",
       "      <td>0.069136</td>\n",
       "      <td>44.30</td>\n",
       "    </tr>\n",
       "    <tr>\n",
       "      <th>1</th>\n",
       "      <td>1</td>\n",
       "      <td>001_HC.png</td>\n",
       "      <td>0.089659</td>\n",
       "      <td>56.81</td>\n",
       "    </tr>\n",
       "    <tr>\n",
       "      <th>2</th>\n",
       "      <td>2</td>\n",
       "      <td>003_HC.png</td>\n",
       "      <td>0.091291</td>\n",
       "      <td>69.00</td>\n",
       "    </tr>\n",
       "    <tr>\n",
       "      <th>3</th>\n",
       "      <td>3</td>\n",
       "      <td>004_HC.png</td>\n",
       "      <td>0.061240</td>\n",
       "      <td>59.81</td>\n",
       "    </tr>\n",
       "    <tr>\n",
       "      <th>4</th>\n",
       "      <td>4</td>\n",
       "      <td>005_HC.png</td>\n",
       "      <td>0.115814</td>\n",
       "      <td>69.80</td>\n",
       "    </tr>\n",
       "  </tbody>\n",
       "</table>\n",
       "</div>"
      ],
      "text/plain": [
       "   Unnamed: 0    filename  pixel size(mm)  head circumference (mm)\n",
       "0           0  000_HC.png        0.069136                    44.30\n",
       "1           1  001_HC.png        0.089659                    56.81\n",
       "2           2  003_HC.png        0.091291                    69.00\n",
       "3           3  004_HC.png        0.061240                    59.81\n",
       "4           4  005_HC.png        0.115814                    69.80"
      ]
     },
     "execution_count": 9,
     "metadata": {},
     "output_type": "execute_result"
    }
   ],
   "source": [
    "train_pixel_sz_HC_df = pd.read_csv(train_pixel_sz_HC_file)\n",
    "train_pixel_sz_HC_df.head()"
   ]
  },
  {
   "cell_type": "code",
   "execution_count": 10,
   "id": "992b5751",
   "metadata": {},
   "outputs": [],
   "source": [
    "#train_pixel_sz_HC_df = train_pixel_sz_HC_df.iloc[:, -3:]\n",
    "#train_pixel_sz_HC_df.head()"
   ]
  },
  {
   "cell_type": "code",
   "execution_count": 11,
   "id": "45817abf",
   "metadata": {},
   "outputs": [],
   "source": [
    "# Define a function to update the filename\n",
    "def update_filename(filename):\n",
    "    return filename.replace(\".png\", \"_Annotation.png\")\n",
    "\n",
    "# Apply the function to create a new column with updat filenames\n",
    "train_pixel_sz_HC_df['anno_filename'] = train_pixel_sz_HC_df['filename'].apply(lambda x: update_filename(x))\n"
   ]
  },
  {
   "cell_type": "code",
   "execution_count": 12,
   "id": "a68a38aa",
   "metadata": {
    "scrolled": false
   },
   "outputs": [
    {
     "data": {
      "text/html": [
       "<div>\n",
       "<style scoped>\n",
       "    .dataframe tbody tr th:only-of-type {\n",
       "        vertical-align: middle;\n",
       "    }\n",
       "\n",
       "    .dataframe tbody tr th {\n",
       "        vertical-align: top;\n",
       "    }\n",
       "\n",
       "    .dataframe thead th {\n",
       "        text-align: right;\n",
       "    }\n",
       "</style>\n",
       "<table border=\"1\" class=\"dataframe\">\n",
       "  <thead>\n",
       "    <tr style=\"text-align: right;\">\n",
       "      <th></th>\n",
       "      <th>Unnamed: 0</th>\n",
       "      <th>filename</th>\n",
       "      <th>pixel size(mm)</th>\n",
       "      <th>head circumference (mm)</th>\n",
       "      <th>anno_filename</th>\n",
       "    </tr>\n",
       "  </thead>\n",
       "  <tbody>\n",
       "    <tr>\n",
       "      <th>0</th>\n",
       "      <td>0</td>\n",
       "      <td>000_HC.png</td>\n",
       "      <td>0.069136</td>\n",
       "      <td>44.30</td>\n",
       "      <td>000_HC_Annotation.png</td>\n",
       "    </tr>\n",
       "    <tr>\n",
       "      <th>1</th>\n",
       "      <td>1</td>\n",
       "      <td>001_HC.png</td>\n",
       "      <td>0.089659</td>\n",
       "      <td>56.81</td>\n",
       "      <td>001_HC_Annotation.png</td>\n",
       "    </tr>\n",
       "    <tr>\n",
       "      <th>2</th>\n",
       "      <td>2</td>\n",
       "      <td>003_HC.png</td>\n",
       "      <td>0.091291</td>\n",
       "      <td>69.00</td>\n",
       "      <td>003_HC_Annotation.png</td>\n",
       "    </tr>\n",
       "    <tr>\n",
       "      <th>3</th>\n",
       "      <td>3</td>\n",
       "      <td>004_HC.png</td>\n",
       "      <td>0.061240</td>\n",
       "      <td>59.81</td>\n",
       "      <td>004_HC_Annotation.png</td>\n",
       "    </tr>\n",
       "    <tr>\n",
       "      <th>4</th>\n",
       "      <td>4</td>\n",
       "      <td>005_HC.png</td>\n",
       "      <td>0.115814</td>\n",
       "      <td>69.80</td>\n",
       "      <td>005_HC_Annotation.png</td>\n",
       "    </tr>\n",
       "  </tbody>\n",
       "</table>\n",
       "</div>"
      ],
      "text/plain": [
       "   Unnamed: 0    filename  pixel size(mm)  head circumference (mm)  \\\n",
       "0           0  000_HC.png        0.069136                    44.30   \n",
       "1           1  001_HC.png        0.089659                    56.81   \n",
       "2           2  003_HC.png        0.091291                    69.00   \n",
       "3           3  004_HC.png        0.061240                    59.81   \n",
       "4           4  005_HC.png        0.115814                    69.80   \n",
       "\n",
       "           anno_filename  \n",
       "0  000_HC_Annotation.png  \n",
       "1  001_HC_Annotation.png  \n",
       "2  003_HC_Annotation.png  \n",
       "3  004_HC_Annotation.png  \n",
       "4  005_HC_Annotation.png  "
      ]
     },
     "execution_count": 12,
     "metadata": {},
     "output_type": "execute_result"
    }
   ],
   "source": [
    "train_pixel_sz_HC_df.head()"
   ]
  },
  {
   "cell_type": "code",
   "execution_count": 13,
   "id": "3b3bd2c3",
   "metadata": {},
   "outputs": [],
   "source": [
    "##### function get_pixe_count get_pixel_count(img_data_path, filename) ###\n",
    "def get_pixel_count(img_data_path, filename):\n",
    "    file_path = os.path.join(img_data_path, filename)\n",
    "    if os.path.exists(file_path):\n",
    "        label = Image.open(file_path)\n",
    "        label = np.array(label)\n",
    "        label = tf.convert_to_tensor(label)\n",
    "        label = tf.cast(label, tf.float32) / 255.0\n",
    "        label = tf.cast(label, tf.int32)\n",
    "        pixel_count = np.sum(label)\n",
    "    else:\n",
    "        print(\"No such file: \" + filename)\n",
    "        pixel_count = np.nan\n",
    "\n",
    "    return pixel_count\n",
    "\n",
    "train_pixel_sz_HC_df['pixel_count'] = train_pixel_sz_HC_df['anno_filename'].apply(lambda x: get_pixel_count(img_data_path, x))\n"
   ]
  },
  {
   "cell_type": "code",
   "execution_count": 14,
   "id": "7f5d2c1c",
   "metadata": {
    "scrolled": true
   },
   "outputs": [
    {
     "data": {
      "text/html": [
       "<div>\n",
       "<style scoped>\n",
       "    .dataframe tbody tr th:only-of-type {\n",
       "        vertical-align: middle;\n",
       "    }\n",
       "\n",
       "    .dataframe tbody tr th {\n",
       "        vertical-align: top;\n",
       "    }\n",
       "\n",
       "    .dataframe thead th {\n",
       "        text-align: right;\n",
       "    }\n",
       "</style>\n",
       "<table border=\"1\" class=\"dataframe\">\n",
       "  <thead>\n",
       "    <tr style=\"text-align: right;\">\n",
       "      <th></th>\n",
       "      <th>Unnamed: 0</th>\n",
       "      <th>filename</th>\n",
       "      <th>pixel size(mm)</th>\n",
       "      <th>head circumference (mm)</th>\n",
       "      <th>anno_filename</th>\n",
       "      <th>pixel_count</th>\n",
       "    </tr>\n",
       "  </thead>\n",
       "  <tbody>\n",
       "    <tr>\n",
       "      <th>0</th>\n",
       "      <td>0</td>\n",
       "      <td>000_HC.png</td>\n",
       "      <td>0.069136</td>\n",
       "      <td>44.30</td>\n",
       "      <td>000_HC_Annotation.png</td>\n",
       "      <td>1632</td>\n",
       "    </tr>\n",
       "    <tr>\n",
       "      <th>1</th>\n",
       "      <td>1</td>\n",
       "      <td>001_HC.png</td>\n",
       "      <td>0.089659</td>\n",
       "      <td>56.81</td>\n",
       "      <td>001_HC_Annotation.png</td>\n",
       "      <td>1608</td>\n",
       "    </tr>\n",
       "    <tr>\n",
       "      <th>2</th>\n",
       "      <td>2</td>\n",
       "      <td>003_HC.png</td>\n",
       "      <td>0.091291</td>\n",
       "      <td>69.00</td>\n",
       "      <td>003_HC_Annotation.png</td>\n",
       "      <td>1924</td>\n",
       "    </tr>\n",
       "    <tr>\n",
       "      <th>3</th>\n",
       "      <td>3</td>\n",
       "      <td>004_HC.png</td>\n",
       "      <td>0.061240</td>\n",
       "      <td>59.81</td>\n",
       "      <td>004_HC_Annotation.png</td>\n",
       "      <td>2496</td>\n",
       "    </tr>\n",
       "    <tr>\n",
       "      <th>4</th>\n",
       "      <td>4</td>\n",
       "      <td>005_HC.png</td>\n",
       "      <td>0.115814</td>\n",
       "      <td>69.80</td>\n",
       "      <td>005_HC_Annotation.png</td>\n",
       "      <td>1536</td>\n",
       "    </tr>\n",
       "  </tbody>\n",
       "</table>\n",
       "</div>"
      ],
      "text/plain": [
       "   Unnamed: 0    filename  pixel size(mm)  head circumference (mm)  \\\n",
       "0           0  000_HC.png        0.069136                    44.30   \n",
       "1           1  001_HC.png        0.089659                    56.81   \n",
       "2           2  003_HC.png        0.091291                    69.00   \n",
       "3           3  004_HC.png        0.061240                    59.81   \n",
       "4           4  005_HC.png        0.115814                    69.80   \n",
       "\n",
       "           anno_filename  pixel_count  \n",
       "0  000_HC_Annotation.png         1632  \n",
       "1  001_HC_Annotation.png         1608  \n",
       "2  003_HC_Annotation.png         1924  \n",
       "3  004_HC_Annotation.png         2496  \n",
       "4  005_HC_Annotation.png         1536  "
      ]
     },
     "execution_count": 14,
     "metadata": {},
     "output_type": "execute_result"
    }
   ],
   "source": [
    "train_pixel_sz_HC_df.head()"
   ]
  },
  {
   "cell_type": "code",
   "execution_count": 15,
   "id": "e2469810",
   "metadata": {},
   "outputs": [],
   "source": [
    "# Remove rows with missing values\n",
    "# cleaned_df = train_pixel_sz_HC_df.dropna()  # no need to do it anymore\n",
    "train_pixel_sz_HC_df = train_pixel_sz_HC_df.dropna()  # just in case"
   ]
  },
  {
   "cell_type": "code",
   "execution_count": 16,
   "id": "768f3326",
   "metadata": {},
   "outputs": [],
   "source": [
    "#Set target\n",
    "target_name ='head circumference (mm)'\n",
    "\n",
    "#y = cleaned_df[target_name]\n",
    "y = train_pixel_sz_HC_df[target_name]"
   ]
  },
  {
   "cell_type": "code",
   "execution_count": 17,
   "id": "f3501c28",
   "metadata": {},
   "outputs": [],
   "source": [
    "#Set Input Feature X = [x1,, x2]\n",
    "feature_names = ['pixel_count','pixel size(mm)']\n",
    "#X = cleaned_df[feature_names]\n",
    "X = train_pixel_sz_HC_df[feature_names]"
   ]
  },
  {
   "cell_type": "code",
   "execution_count": 18,
   "id": "8dbfe39a",
   "metadata": {},
   "outputs": [],
   "source": [
    "# do linear regression mmodel first\n",
    "from sklearn.model_selection import train_test_split\n",
    "\n",
    "X_train1, X_test1, y_train1, y_test1 = train_test_split(X, y, test_size=0.3, random_state=42)\n"
   ]
  },
  {
   "cell_type": "code",
   "execution_count": 19,
   "id": "709f639b",
   "metadata": {},
   "outputs": [
    {
     "data": {
      "text/html": [
       "<style>#sk-container-id-1 {color: black;background-color: white;}#sk-container-id-1 pre{padding: 0;}#sk-container-id-1 div.sk-toggleable {background-color: white;}#sk-container-id-1 label.sk-toggleable__label {cursor: pointer;display: block;width: 100%;margin-bottom: 0;padding: 0.3em;box-sizing: border-box;text-align: center;}#sk-container-id-1 label.sk-toggleable__label-arrow:before {content: \"▸\";float: left;margin-right: 0.25em;color: #696969;}#sk-container-id-1 label.sk-toggleable__label-arrow:hover:before {color: black;}#sk-container-id-1 div.sk-estimator:hover label.sk-toggleable__label-arrow:before {color: black;}#sk-container-id-1 div.sk-toggleable__content {max-height: 0;max-width: 0;overflow: hidden;text-align: left;background-color: #f0f8ff;}#sk-container-id-1 div.sk-toggleable__content pre {margin: 0.2em;color: black;border-radius: 0.25em;background-color: #f0f8ff;}#sk-container-id-1 input.sk-toggleable__control:checked~div.sk-toggleable__content {max-height: 200px;max-width: 100%;overflow: auto;}#sk-container-id-1 input.sk-toggleable__control:checked~label.sk-toggleable__label-arrow:before {content: \"▾\";}#sk-container-id-1 div.sk-estimator input.sk-toggleable__control:checked~label.sk-toggleable__label {background-color: #d4ebff;}#sk-container-id-1 div.sk-label input.sk-toggleable__control:checked~label.sk-toggleable__label {background-color: #d4ebff;}#sk-container-id-1 input.sk-hidden--visually {border: 0;clip: rect(1px 1px 1px 1px);clip: rect(1px, 1px, 1px, 1px);height: 1px;margin: -1px;overflow: hidden;padding: 0;position: absolute;width: 1px;}#sk-container-id-1 div.sk-estimator {font-family: monospace;background-color: #f0f8ff;border: 1px dotted black;border-radius: 0.25em;box-sizing: border-box;margin-bottom: 0.5em;}#sk-container-id-1 div.sk-estimator:hover {background-color: #d4ebff;}#sk-container-id-1 div.sk-parallel-item::after {content: \"\";width: 100%;border-bottom: 1px solid gray;flex-grow: 1;}#sk-container-id-1 div.sk-label:hover label.sk-toggleable__label {background-color: #d4ebff;}#sk-container-id-1 div.sk-serial::before {content: \"\";position: absolute;border-left: 1px solid gray;box-sizing: border-box;top: 0;bottom: 0;left: 50%;z-index: 0;}#sk-container-id-1 div.sk-serial {display: flex;flex-direction: column;align-items: center;background-color: white;padding-right: 0.2em;padding-left: 0.2em;position: relative;}#sk-container-id-1 div.sk-item {position: relative;z-index: 1;}#sk-container-id-1 div.sk-parallel {display: flex;align-items: stretch;justify-content: center;background-color: white;position: relative;}#sk-container-id-1 div.sk-item::before, #sk-container-id-1 div.sk-parallel-item::before {content: \"\";position: absolute;border-left: 1px solid gray;box-sizing: border-box;top: 0;bottom: 0;left: 50%;z-index: -1;}#sk-container-id-1 div.sk-parallel-item {display: flex;flex-direction: column;z-index: 1;position: relative;background-color: white;}#sk-container-id-1 div.sk-parallel-item:first-child::after {align-self: flex-end;width: 50%;}#sk-container-id-1 div.sk-parallel-item:last-child::after {align-self: flex-start;width: 50%;}#sk-container-id-1 div.sk-parallel-item:only-child::after {width: 0;}#sk-container-id-1 div.sk-dashed-wrapped {border: 1px dashed gray;margin: 0 0.4em 0.5em 0.4em;box-sizing: border-box;padding-bottom: 0.4em;background-color: white;}#sk-container-id-1 div.sk-label label {font-family: monospace;font-weight: bold;display: inline-block;line-height: 1.2em;}#sk-container-id-1 div.sk-label-container {text-align: center;}#sk-container-id-1 div.sk-container {/* jupyter's `normalize.less` sets `[hidden] { display: none; }` but bootstrap.min.css set `[hidden] { display: none !important; }` so we also need the `!important` here to be able to override the default hidden behavior on the sphinx rendered scikit-learn.org. See: https://github.com/scikit-learn/scikit-learn/issues/21755 */display: inline-block !important;position: relative;}#sk-container-id-1 div.sk-text-repr-fallback {display: none;}</style><div id=\"sk-container-id-1\" class=\"sk-top-container\"><div class=\"sk-text-repr-fallback\"><pre>LinearRegression()</pre><b>In a Jupyter environment, please rerun this cell to show the HTML representation or trust the notebook. <br />On GitHub, the HTML representation is unable to render, please try loading this page with nbviewer.org.</b></div><div class=\"sk-container\" hidden><div class=\"sk-item\"><div class=\"sk-estimator sk-toggleable\"><input class=\"sk-toggleable__control sk-hidden--visually\" id=\"sk-estimator-id-1\" type=\"checkbox\" checked><label for=\"sk-estimator-id-1\" class=\"sk-toggleable__label sk-toggleable__label-arrow\">LinearRegression</label><div class=\"sk-toggleable__content\"><pre>LinearRegression()</pre></div></div></div></div></div>"
      ],
      "text/plain": [
       "LinearRegression()"
      ]
     },
     "execution_count": 19,
     "metadata": {},
     "output_type": "execute_result"
    }
   ],
   "source": [
    "from sklearn.linear_model import LinearRegression\n",
    "\n",
    "model1 = LinearRegression()\n",
    "model1.fit(X_train1, y_train1)\n"
   ]
  },
  {
   "cell_type": "code",
   "execution_count": 20,
   "id": "43ebda47",
   "metadata": {},
   "outputs": [
    {
     "name": "stdout",
     "output_type": "stream",
     "text": [
      "Mean Squared Error of linear regression :  153.5295696326789 (mm)\n",
      "R-squared Score: 0.968348907819744\n"
     ]
    }
   ],
   "source": [
    "# evul linear reg model\n",
    "from sklearn.metrics import mean_squared_error, r2_score\n",
    "\n",
    "# Make predictions on the test data\n",
    "y_pred1 = model1.predict(X_test1)\n",
    "\n",
    "# Calculate evaluation metrics\n",
    "mse1 = mean_squared_error(y_test1, y_pred1)\n",
    "r2_1 = r2_score(y_test1, y_pred1)\n",
    "\n",
    "print(\"Mean Squared Error of linear regression : \", mse1, (\"(mm)\"))\n",
    "print(\"R-squared Score:\", r2_1)\n"
   ]
  },
  {
   "cell_type": "code",
   "execution_count": 21,
   "id": "f09b97f2",
   "metadata": {
    "scrolled": true
   },
   "outputs": [
    {
     "data": {
      "text/plain": [
       "166.2136794702675"
      ]
     },
     "execution_count": 21,
     "metadata": {},
     "output_type": "execute_result"
    }
   ],
   "source": [
    "np.average(y_pred1)"
   ]
  },
  {
   "cell_type": "code",
   "execution_count": 22,
   "id": "96bb50e6",
   "metadata": {
    "scrolled": false
   },
   "outputs": [
    {
     "data": {
      "text/plain": [
       "172.83649499284695"
      ]
     },
     "execution_count": 22,
     "metadata": {},
     "output_type": "execute_result"
    }
   ],
   "source": [
    "train_pixel_sz_HC_df[target_name].mean()"
   ]
  },
  {
   "cell_type": "code",
   "execution_count": 23,
   "id": "8c861c9a",
   "metadata": {
    "scrolled": true
   },
   "outputs": [
    {
     "name": "stdout",
     "output_type": "stream",
     "text": [
      "Intercept: -155.7179204698763\n",
      "Coefficients: [5.53566495e-02 1.08578421e+03]\n",
      "Coefficients: 0.05535664951972703\n",
      "Coefficients: 1085.7842110830757\n",
      "y = 0.05535664951972703 *  pixel_count + 1085.7842110830757 * pixel size(mm)\n"
     ]
    }
   ],
   "source": [
    "## this is train model linear regression using train set\n",
    "print(\"Intercept:\", model1.intercept_)\n",
    "print(\"Coefficients:\", model1.coef_)\n",
    "\n",
    "print(\"Coefficients:\", model1.coef_[0])\n",
    "print(\"Coefficients:\", model1.coef_[1])\n",
    "\n",
    "formula = \"y = \" + str(model1.coef_[0]) + \" *  \" + feature_names[0] + \" + \" + str(model1.coef_[1]) + \" * \" + feature_names[1]\n",
    "print(formula)\n"
   ]
  },
  {
   "cell_type": "code",
   "execution_count": 24,
   "id": "70919361",
   "metadata": {},
   "outputs": [],
   "source": [
    "### what do yu think ?"
   ]
  },
  {
   "cell_type": "code",
   "execution_count": 25,
   "id": "af54a6ff",
   "metadata": {
    "scrolled": false
   },
   "outputs": [
    {
     "name": "stdout",
     "output_type": "stream",
     "text": [
      "['pixel_count', 'pixel size(mm)']\n"
     ]
    }
   ],
   "source": [
    "print(feature_names)"
   ]
  },
  {
   "cell_type": "code",
   "execution_count": 26,
   "id": "76ae8c10",
   "metadata": {},
   "outputs": [],
   "source": [
    "# Train regress model 2: random forest regressor #####"
   ]
  },
  {
   "cell_type": "code",
   "execution_count": 27,
   "id": "31b15a2a",
   "metadata": {},
   "outputs": [],
   "source": [
    "from sklearn.ensemble import RandomForestRegressor\n",
    "from sklearn.metrics import mean_absolute_error\n",
    "from sklearn.model_selection import train_test_split"
   ]
  },
  {
   "cell_type": "code",
   "execution_count": 28,
   "id": "4e10bdd4",
   "metadata": {},
   "outputs": [
    {
     "name": "stdout",
     "output_type": "stream",
     "text": [
      "Random Forest Validation MAE: 4.123319428571435\n"
     ]
    }
   ],
   "source": [
    "# Split into validation and training data\n",
    "#Train Random forest model on train_x train_y\n",
    "# Split into validation and training data\n",
    "train_X, val_X, train_y, val_y = train_test_split(X, y, random_state=1)\n",
    "\n",
    "# Define a random forest model\n",
    "rf_model = RandomForestRegressor(random_state=1)\n",
    "rf_model.fit(train_X, train_y)\n",
    "\n",
    "# Make predictions on the validation data\n",
    "rf_val_predictions = rf_model.predict(val_X)\n",
    "\n",
    "# Calculate the mean absolute error\n",
    "rf_val_mae = mean_absolute_error(rf_val_predictions, val_y)\n",
    "\n",
    "# Print the mean absolute error\n",
    "print(\"Random Forest Validation MAE:\", rf_val_mae)\n",
    "\n",
    "\n",
    "#rf_val_mae"
   ]
  },
  {
   "cell_type": "code",
   "execution_count": 29,
   "id": "6b6a568b",
   "metadata": {},
   "outputs": [
    {
     "data": {
      "text/html": [
       "<style>#sk-container-id-2 {color: black;background-color: white;}#sk-container-id-2 pre{padding: 0;}#sk-container-id-2 div.sk-toggleable {background-color: white;}#sk-container-id-2 label.sk-toggleable__label {cursor: pointer;display: block;width: 100%;margin-bottom: 0;padding: 0.3em;box-sizing: border-box;text-align: center;}#sk-container-id-2 label.sk-toggleable__label-arrow:before {content: \"▸\";float: left;margin-right: 0.25em;color: #696969;}#sk-container-id-2 label.sk-toggleable__label-arrow:hover:before {color: black;}#sk-container-id-2 div.sk-estimator:hover label.sk-toggleable__label-arrow:before {color: black;}#sk-container-id-2 div.sk-toggleable__content {max-height: 0;max-width: 0;overflow: hidden;text-align: left;background-color: #f0f8ff;}#sk-container-id-2 div.sk-toggleable__content pre {margin: 0.2em;color: black;border-radius: 0.25em;background-color: #f0f8ff;}#sk-container-id-2 input.sk-toggleable__control:checked~div.sk-toggleable__content {max-height: 200px;max-width: 100%;overflow: auto;}#sk-container-id-2 input.sk-toggleable__control:checked~label.sk-toggleable__label-arrow:before {content: \"▾\";}#sk-container-id-2 div.sk-estimator input.sk-toggleable__control:checked~label.sk-toggleable__label {background-color: #d4ebff;}#sk-container-id-2 div.sk-label input.sk-toggleable__control:checked~label.sk-toggleable__label {background-color: #d4ebff;}#sk-container-id-2 input.sk-hidden--visually {border: 0;clip: rect(1px 1px 1px 1px);clip: rect(1px, 1px, 1px, 1px);height: 1px;margin: -1px;overflow: hidden;padding: 0;position: absolute;width: 1px;}#sk-container-id-2 div.sk-estimator {font-family: monospace;background-color: #f0f8ff;border: 1px dotted black;border-radius: 0.25em;box-sizing: border-box;margin-bottom: 0.5em;}#sk-container-id-2 div.sk-estimator:hover {background-color: #d4ebff;}#sk-container-id-2 div.sk-parallel-item::after {content: \"\";width: 100%;border-bottom: 1px solid gray;flex-grow: 1;}#sk-container-id-2 div.sk-label:hover label.sk-toggleable__label {background-color: #d4ebff;}#sk-container-id-2 div.sk-serial::before {content: \"\";position: absolute;border-left: 1px solid gray;box-sizing: border-box;top: 0;bottom: 0;left: 50%;z-index: 0;}#sk-container-id-2 div.sk-serial {display: flex;flex-direction: column;align-items: center;background-color: white;padding-right: 0.2em;padding-left: 0.2em;position: relative;}#sk-container-id-2 div.sk-item {position: relative;z-index: 1;}#sk-container-id-2 div.sk-parallel {display: flex;align-items: stretch;justify-content: center;background-color: white;position: relative;}#sk-container-id-2 div.sk-item::before, #sk-container-id-2 div.sk-parallel-item::before {content: \"\";position: absolute;border-left: 1px solid gray;box-sizing: border-box;top: 0;bottom: 0;left: 50%;z-index: -1;}#sk-container-id-2 div.sk-parallel-item {display: flex;flex-direction: column;z-index: 1;position: relative;background-color: white;}#sk-container-id-2 div.sk-parallel-item:first-child::after {align-self: flex-end;width: 50%;}#sk-container-id-2 div.sk-parallel-item:last-child::after {align-self: flex-start;width: 50%;}#sk-container-id-2 div.sk-parallel-item:only-child::after {width: 0;}#sk-container-id-2 div.sk-dashed-wrapped {border: 1px dashed gray;margin: 0 0.4em 0.5em 0.4em;box-sizing: border-box;padding-bottom: 0.4em;background-color: white;}#sk-container-id-2 div.sk-label label {font-family: monospace;font-weight: bold;display: inline-block;line-height: 1.2em;}#sk-container-id-2 div.sk-label-container {text-align: center;}#sk-container-id-2 div.sk-container {/* jupyter's `normalize.less` sets `[hidden] { display: none; }` but bootstrap.min.css set `[hidden] { display: none !important; }` so we also need the `!important` here to be able to override the default hidden behavior on the sphinx rendered scikit-learn.org. See: https://github.com/scikit-learn/scikit-learn/issues/21755 */display: inline-block !important;position: relative;}#sk-container-id-2 div.sk-text-repr-fallback {display: none;}</style><div id=\"sk-container-id-2\" class=\"sk-top-container\"><div class=\"sk-text-repr-fallback\"><pre>RandomForestRegressor(random_state=1)</pre><b>In a Jupyter environment, please rerun this cell to show the HTML representation or trust the notebook. <br />On GitHub, the HTML representation is unable to render, please try loading this page with nbviewer.org.</b></div><div class=\"sk-container\" hidden><div class=\"sk-item\"><div class=\"sk-estimator sk-toggleable\"><input class=\"sk-toggleable__control sk-hidden--visually\" id=\"sk-estimator-id-2\" type=\"checkbox\" checked><label for=\"sk-estimator-id-2\" class=\"sk-toggleable__label sk-toggleable__label-arrow\">RandomForestRegressor</label><div class=\"sk-toggleable__content\"><pre>RandomForestRegressor(random_state=1)</pre></div></div></div></div></div>"
      ],
      "text/plain": [
       "RandomForestRegressor(random_state=1)"
      ]
     },
     "execution_count": 29,
     "metadata": {},
     "output_type": "execute_result"
    }
   ],
   "source": [
    "# To improve accuracy, create a new Random Forest model which I will train on all training data\n",
    "rf_model_on_full_train_data = RandomForestRegressor(random_state=1)\n",
    "\n",
    "# fit rf_model_on_full_data on all data from the training data\n",
    "rf_model_on_full_train_data.fit(X, y)\n"
   ]
  },
  {
   "cell_type": "code",
   "execution_count": 30,
   "id": "e76d4fc5",
   "metadata": {},
   "outputs": [
    {
     "data": {
      "text/plain": [
       "1.430364571428559"
      ]
     },
     "execution_count": 30,
     "metadata": {},
     "output_type": "execute_result"
    }
   ],
   "source": [
    "rf_val_predictions = rf_model_on_full_train_data.predict(val_X)\n",
    "rf_val_mae = mean_absolute_error(rf_val_predictions, val_y)\n",
    "\n",
    "rf_val_mae"
   ]
  },
  {
   "cell_type": "code",
   "execution_count": 31,
   "id": "d97dd7c7",
   "metadata": {},
   "outputs": [],
   "source": [
    "rf_model_on_full_train_data.feature_importances_\n",
    "feature_importance = rf_model_on_full_train_data.feature_importances_"
   ]
  },
  {
   "cell_type": "code",
   "execution_count": 32,
   "id": "604d4e0d",
   "metadata": {},
   "outputs": [
    {
     "data": {
      "image/png": "[encoded data removed]",
      "text/plain": [
       "<Figure size 640x480 with 1 Axes>"
      ]
     },
     "metadata": {},
     "output_type": "display_data"
    }
   ],
   "source": [
    "plt.bar(feature_names, feature_importance)\n",
    "plt.xlabel('Features')\n",
    "plt.ylabel('Importance')\n",
    "plt.title('Feature Importance in Random Forest(rf_model_on_full_train_data)')\n",
    "plt.xticks(rotation='vertical')\n",
    "plt.show()"
   ]
  },
  {
   "cell_type": "code",
   "execution_count": 33,
   "id": "cffe9af3",
   "metadata": {},
   "outputs": [],
   "source": [
    "#----prediction with ----"
   ]
  },
  {
   "cell_type": "code",
   "execution_count": 34,
   "id": "14e1abe0",
   "metadata": {},
   "outputs": [],
   "source": [
    "# prediction on made-up data\n",
    "#new_data = pd.DataFrame({'pixel_count': [2000, 3000], 'pixel size(mm)': [30, 35]})\n",
    "#prediction1 = model1.predict(new_data)\n",
    "#prediction2 = rf_model_on_full_train_data.predict(new_data)\n",
    "\n",
    "#print(\"Predicted Head Circum with linear regression\", prediction1)\n",
    "#print(\"Predicted Head Circum with random tree regression\", prediction2)"
   ]
  },
  {
   "cell_type": "code",
   "execution_count": 35,
   "id": "89e1f060",
   "metadata": {},
   "outputs": [],
   "source": [
    "# continue to \"validate\"\n",
    "val_img_data_path = 'G:/.shortcut-targets-by-id/10wVB-YsfTmmpZyUo8jBH1cDOkVWVx5N1/T1 Project/Data/Training-Splitted/val/Annotation/'"
   ]
  },
  {
   "cell_type": "code",
   "execution_count": 36,
   "id": "b58adb28",
   "metadata": {},
   "outputs": [],
   "source": [
    "# note to self - val + test are together.\n",
    "#test_pixel_sz_HC_file = local_data_path_to + 'test_set_pixel_size.csv'\n",
    "#os.path.exists(test_pixel_sz_HC_file )"
   ]
  },
  {
   "cell_type": "code",
   "execution_count": 38,
   "id": "2fd874a0",
   "metadata": {},
   "outputs": [
    {
     "data": {
      "text/plain": [
       "True"
      ]
     },
     "execution_count": 38,
     "metadata": {},
     "output_type": "execute_result"
    }
   ],
   "source": [
    "val_pixel_sz_HC_file = local_data_path_to + 'val_split_pixel_size_and_HC.csv'\n",
    "os.path.exists(val_pixel_sz_HC_file)"
   ]
  },
  {
   "cell_type": "code",
   "execution_count": 40,
   "id": "689a7bfb",
   "metadata": {},
   "outputs": [
    {
     "data": {
      "text/html": [
       "<div>\n",
       "<style scoped>\n",
       "    .dataframe tbody tr th:only-of-type {\n",
       "        vertical-align: middle;\n",
       "    }\n",
       "\n",
       "    .dataframe tbody tr th {\n",
       "        vertical-align: top;\n",
       "    }\n",
       "\n",
       "    .dataframe thead th {\n",
       "        text-align: right;\n",
       "    }\n",
       "</style>\n",
       "<table border=\"1\" class=\"dataframe\">\n",
       "  <thead>\n",
       "    <tr style=\"text-align: right;\">\n",
       "      <th></th>\n",
       "      <th>Unnamed: 0</th>\n",
       "      <th>filename</th>\n",
       "      <th>pixel size(mm)</th>\n",
       "      <th>head circumference (mm)</th>\n",
       "    </tr>\n",
       "  </thead>\n",
       "  <tbody>\n",
       "    <tr>\n",
       "      <th>0</th>\n",
       "      <td>2</td>\n",
       "      <td>002_HC.png</td>\n",
       "      <td>0.062033</td>\n",
       "      <td>68.75</td>\n",
       "    </tr>\n",
       "    <tr>\n",
       "      <th>1</th>\n",
       "      <td>12</td>\n",
       "      <td>011_HC.png</td>\n",
       "      <td>0.055484</td>\n",
       "      <td>69.90</td>\n",
       "    </tr>\n",
       "    <tr>\n",
       "      <th>2</th>\n",
       "      <td>16</td>\n",
       "      <td>014_3HC.png</td>\n",
       "      <td>0.077308</td>\n",
       "      <td>60.26</td>\n",
       "    </tr>\n",
       "    <tr>\n",
       "      <th>3</th>\n",
       "      <td>17</td>\n",
       "      <td>014_HC.png</td>\n",
       "      <td>0.078906</td>\n",
       "      <td>63.34</td>\n",
       "    </tr>\n",
       "    <tr>\n",
       "      <th>4</th>\n",
       "      <td>18</td>\n",
       "      <td>015_HC.png</td>\n",
       "      <td>0.060416</td>\n",
       "      <td>69.30</td>\n",
       "    </tr>\n",
       "  </tbody>\n",
       "</table>\n",
       "</div>"
      ],
      "text/plain": [
       "   Unnamed: 0     filename  pixel size(mm)  head circumference (mm)\n",
       "0           2   002_HC.png        0.062033                    68.75\n",
       "1          12   011_HC.png        0.055484                    69.90\n",
       "2          16  014_3HC.png        0.077308                    60.26\n",
       "3          17   014_HC.png        0.078906                    63.34\n",
       "4          18   015_HC.png        0.060416                    69.30"
      ]
     },
     "execution_count": 40,
     "metadata": {},
     "output_type": "execute_result"
    }
   ],
   "source": [
    "# continue to \"validate\"\n",
    "val_pixel_sz_HC_df = pd.read_csv(val_pixel_sz_HC_file)\n",
    "val_pixel_sz_HC_df.head()"
   ]
  },
  {
   "cell_type": "code",
   "execution_count": 42,
   "id": "e16754a6",
   "metadata": {},
   "outputs": [],
   "source": [
    "# continue to \"validate\"\n",
    "val_pixel_sz_HC_df['anno_filename'] = val_pixel_sz_HC_df['filename'].apply(lambda x: update_filename(x))"
   ]
  },
  {
   "cell_type": "code",
   "execution_count": 43,
   "id": "c4148011",
   "metadata": {},
   "outputs": [],
   "source": [
    "# continue to \"validate\"  apply pixel count on \"val img data\"\n",
    "val_pixel_sz_HC_df['pixel_count'] = val_pixel_sz_HC_df['anno_filename'].apply(lambda x: get_pixel_count(val_img_data_path, x))\n"
   ]
  },
  {
   "cell_type": "code",
   "execution_count": 44,
   "id": "4efb036c",
   "metadata": {
    "scrolled": true
   },
   "outputs": [],
   "source": [
    "# continue to \"validate\"\n",
    "val_pixel_sz_HC_df=val_pixel_sz_HC_df.dropna()  #just in case"
   ]
  },
  {
   "cell_type": "code",
   "execution_count": 45,
   "id": "a668ed5a",
   "metadata": {
    "scrolled": false
   },
   "outputs": [
    {
     "data": {
      "text/html": [
       "<div>\n",
       "<style scoped>\n",
       "    .dataframe tbody tr th:only-of-type {\n",
       "        vertical-align: middle;\n",
       "    }\n",
       "\n",
       "    .dataframe tbody tr th {\n",
       "        vertical-align: top;\n",
       "    }\n",
       "\n",
       "    .dataframe thead th {\n",
       "        text-align: right;\n",
       "    }\n",
       "</style>\n",
       "<table border=\"1\" class=\"dataframe\">\n",
       "  <thead>\n",
       "    <tr style=\"text-align: right;\">\n",
       "      <th></th>\n",
       "      <th>pixel_count</th>\n",
       "      <th>pixel size(mm)</th>\n",
       "    </tr>\n",
       "  </thead>\n",
       "  <tbody>\n",
       "    <tr>\n",
       "      <th>0</th>\n",
       "      <td>2820</td>\n",
       "      <td>0.062033</td>\n",
       "    </tr>\n",
       "    <tr>\n",
       "      <th>1</th>\n",
       "      <td>3208</td>\n",
       "      <td>0.055484</td>\n",
       "    </tr>\n",
       "    <tr>\n",
       "      <th>2</th>\n",
       "      <td>1980</td>\n",
       "      <td>0.077308</td>\n",
       "    </tr>\n",
       "    <tr>\n",
       "      <th>3</th>\n",
       "      <td>2044</td>\n",
       "      <td>0.078906</td>\n",
       "    </tr>\n",
       "    <tr>\n",
       "      <th>4</th>\n",
       "      <td>2928</td>\n",
       "      <td>0.060416</td>\n",
       "    </tr>\n",
       "  </tbody>\n",
       "</table>\n",
       "</div>"
      ],
      "text/plain": [
       "   pixel_count  pixel size(mm)\n",
       "0         2820        0.062033\n",
       "1         3208        0.055484\n",
       "2         1980        0.077308\n",
       "3         2044        0.078906\n",
       "4         2928        0.060416"
      ]
     },
     "execution_count": 45,
     "metadata": {},
     "output_type": "execute_result"
    }
   ],
   "source": [
    "# continue to \"validate\"\n",
    "val_pixel_sz_HC_df[feature_names].head()"
   ]
  },
  {
   "cell_type": "code",
   "execution_count": 46,
   "id": "be0cb59f",
   "metadata": {},
   "outputs": [
    {
     "name": "stdout",
     "output_type": "stream",
     "text": [
      "['pixel_count', 'pixel size(mm)']\n"
     ]
    }
   ],
   "source": [
    "print(feature_names)"
   ]
  },
  {
   "cell_type": "code",
   "execution_count": 47,
   "id": "7cb81feb",
   "metadata": {},
   "outputs": [
    {
     "data": {
      "text/html": [
       "<div>\n",
       "<style scoped>\n",
       "    .dataframe tbody tr th:only-of-type {\n",
       "        vertical-align: middle;\n",
       "    }\n",
       "\n",
       "    .dataframe tbody tr th {\n",
       "        vertical-align: top;\n",
       "    }\n",
       "\n",
       "    .dataframe thead th {\n",
       "        text-align: right;\n",
       "    }\n",
       "</style>\n",
       "<table border=\"1\" class=\"dataframe\">\n",
       "  <thead>\n",
       "    <tr style=\"text-align: right;\">\n",
       "      <th></th>\n",
       "      <th>pixel_count</th>\n",
       "      <th>pixel size(mm)</th>\n",
       "    </tr>\n",
       "  </thead>\n",
       "  <tbody>\n",
       "    <tr>\n",
       "      <th>0</th>\n",
       "      <td>2820</td>\n",
       "      <td>0.062033</td>\n",
       "    </tr>\n",
       "    <tr>\n",
       "      <th>1</th>\n",
       "      <td>3208</td>\n",
       "      <td>0.055484</td>\n",
       "    </tr>\n",
       "    <tr>\n",
       "      <th>2</th>\n",
       "      <td>1980</td>\n",
       "      <td>0.077308</td>\n",
       "    </tr>\n",
       "    <tr>\n",
       "      <th>3</th>\n",
       "      <td>2044</td>\n",
       "      <td>0.078906</td>\n",
       "    </tr>\n",
       "    <tr>\n",
       "      <th>4</th>\n",
       "      <td>2928</td>\n",
       "      <td>0.060416</td>\n",
       "    </tr>\n",
       "    <tr>\n",
       "      <th>...</th>\n",
       "      <td>...</td>\n",
       "      <td>...</td>\n",
       "    </tr>\n",
       "    <tr>\n",
       "      <th>295</th>\n",
       "      <td>3296</td>\n",
       "      <td>0.246141</td>\n",
       "    </tr>\n",
       "    <tr>\n",
       "      <th>296</th>\n",
       "      <td>3932</td>\n",
       "      <td>0.202475</td>\n",
       "    </tr>\n",
       "    <tr>\n",
       "      <th>297</th>\n",
       "      <td>3616</td>\n",
       "      <td>0.210600</td>\n",
       "    </tr>\n",
       "    <tr>\n",
       "      <th>298</th>\n",
       "      <td>4328</td>\n",
       "      <td>0.181221</td>\n",
       "    </tr>\n",
       "    <tr>\n",
       "      <th>299</th>\n",
       "      <td>3316</td>\n",
       "      <td>0.257187</td>\n",
       "    </tr>\n",
       "  </tbody>\n",
       "</table>\n",
       "<p>300 rows × 2 columns</p>\n",
       "</div>"
      ],
      "text/plain": [
       "     pixel_count  pixel size(mm)\n",
       "0           2820        0.062033\n",
       "1           3208        0.055484\n",
       "2           1980        0.077308\n",
       "3           2044        0.078906\n",
       "4           2928        0.060416\n",
       "..           ...             ...\n",
       "295         3296        0.246141\n",
       "296         3932        0.202475\n",
       "297         3616        0.210600\n",
       "298         4328        0.181221\n",
       "299         3316        0.257187\n",
       "\n",
       "[300 rows x 2 columns]"
      ]
     },
     "execution_count": 47,
     "metadata": {},
     "output_type": "execute_result"
    }
   ],
   "source": [
    "X_val = val_pixel_sz_HC_df[feature_names]\n",
    "X_val"
   ]
  },
  {
   "cell_type": "code",
   "execution_count": 48,
   "id": "3ba16c4c",
   "metadata": {},
   "outputs": [],
   "source": [
    "# linear regression model prediction\n",
    "y_pred_w_LR = model1.predict(X_val)\n",
    "#y_pred_w_LR"
   ]
  },
  {
   "cell_type": "code",
   "execution_count": null,
   "id": "e4206463",
   "metadata": {},
   "outputs": [],
   "source": [
    "print(target_name)"
   ]
  },
  {
   "cell_type": "code",
   "execution_count": 49,
   "id": "0b9b043e",
   "metadata": {},
   "outputs": [
    {
     "data": {
      "text/plain": [
       "0       68.75\n",
       "1       69.90\n",
       "2       60.26\n",
       "3       63.34\n",
       "4       69.30\n",
       "        ...  \n",
       "295    320.00\n",
       "296    324.60\n",
       "297    299.17\n",
       "298    308.50\n",
       "299    335.00\n",
       "Name: head circumference (mm), Length: 300, dtype: float64"
      ]
     },
     "execution_count": 49,
     "metadata": {},
     "output_type": "execute_result"
    }
   ],
   "source": [
    "y_val = val_pixel_sz_HC_df[target_name]\n",
    "y_val"
   ]
  },
  {
   "cell_type": "code",
   "execution_count": 50,
   "id": "eadc1b23",
   "metadata": {},
   "outputs": [
    {
     "name": "stdout",
     "output_type": "stream",
     "text": [
      "Linear regression model: y = 0.05535664951972703 *  pixel_count + 1085.7842110830757 * pixel size(mm)\n",
      "Correlation coefficient: 0.9805093083523606\n",
      "p-value: 1.1939178069055383e-212\n"
     ]
    }
   ],
   "source": [
    "from scipy.stats import pearsonr\n",
    "\n",
    "# Calculate the correlation coefficient and p-value\n",
    "correlation, p_value = pearsonr(y_val, y_pred_w_LR)\n",
    "\n",
    "print(\"Linear regression model: \" + formula)\n",
    "print(\"Correlation coefficient:\", correlation)\n",
    "print(\"p-value:\", p_value)\n"
   ]
  },
  {
   "cell_type": "code",
   "execution_count": 51,
   "id": "1cbb168d",
   "metadata": {},
   "outputs": [],
   "source": [
    "val_pixel_sz_HC_df[\"predicted HC from LM\"] = y_pred_w_LR"
   ]
  },
  {
   "cell_type": "code",
   "execution_count": 52,
   "id": "5bdae9f5",
   "metadata": {},
   "outputs": [
    {
     "data": {
      "text/html": [
       "<div>\n",
       "<style scoped>\n",
       "    .dataframe tbody tr th:only-of-type {\n",
       "        vertical-align: middle;\n",
       "    }\n",
       "\n",
       "    .dataframe tbody tr th {\n",
       "        vertical-align: top;\n",
       "    }\n",
       "\n",
       "    .dataframe thead th {\n",
       "        text-align: right;\n",
       "    }\n",
       "</style>\n",
       "<table border=\"1\" class=\"dataframe\">\n",
       "  <thead>\n",
       "    <tr style=\"text-align: right;\">\n",
       "      <th></th>\n",
       "      <th>Unnamed: 0</th>\n",
       "      <th>filename</th>\n",
       "      <th>pixel size(mm)</th>\n",
       "      <th>head circumference (mm)</th>\n",
       "      <th>anno_filename</th>\n",
       "      <th>pixel_count</th>\n",
       "      <th>predicted HC from LM</th>\n",
       "    </tr>\n",
       "  </thead>\n",
       "  <tbody>\n",
       "    <tr>\n",
       "      <th>0</th>\n",
       "      <td>2</td>\n",
       "      <td>002_HC.png</td>\n",
       "      <td>0.062033</td>\n",
       "      <td>68.75</td>\n",
       "      <td>002_HC_Annotation.png</td>\n",
       "      <td>2820</td>\n",
       "      <td>67.741809</td>\n",
       "    </tr>\n",
       "    <tr>\n",
       "      <th>1</th>\n",
       "      <td>12</td>\n",
       "      <td>011_HC.png</td>\n",
       "      <td>0.055484</td>\n",
       "      <td>69.90</td>\n",
       "      <td>011_HC_Annotation.png</td>\n",
       "      <td>3208</td>\n",
       "      <td>82.109999</td>\n",
       "    </tr>\n",
       "    <tr>\n",
       "      <th>2</th>\n",
       "      <td>16</td>\n",
       "      <td>014_3HC.png</td>\n",
       "      <td>0.077308</td>\n",
       "      <td>60.26</td>\n",
       "      <td>014_3HC_Annotation.png</td>\n",
       "      <td>1980</td>\n",
       "      <td>37.827717</td>\n",
       "    </tr>\n",
       "    <tr>\n",
       "      <th>3</th>\n",
       "      <td>17</td>\n",
       "      <td>014_HC.png</td>\n",
       "      <td>0.078906</td>\n",
       "      <td>63.34</td>\n",
       "      <td>014_HC_Annotation.png</td>\n",
       "      <td>2044</td>\n",
       "      <td>43.106230</td>\n",
       "    </tr>\n",
       "    <tr>\n",
       "      <th>4</th>\n",
       "      <td>18</td>\n",
       "      <td>015_HC.png</td>\n",
       "      <td>0.060416</td>\n",
       "      <td>69.30</td>\n",
       "      <td>015_HC_Annotation.png</td>\n",
       "      <td>2928</td>\n",
       "      <td>71.964629</td>\n",
       "    </tr>\n",
       "  </tbody>\n",
       "</table>\n",
       "</div>"
      ],
      "text/plain": [
       "   Unnamed: 0     filename  pixel size(mm)  head circumference (mm)  \\\n",
       "0           2   002_HC.png        0.062033                    68.75   \n",
       "1          12   011_HC.png        0.055484                    69.90   \n",
       "2          16  014_3HC.png        0.077308                    60.26   \n",
       "3          17   014_HC.png        0.078906                    63.34   \n",
       "4          18   015_HC.png        0.060416                    69.30   \n",
       "\n",
       "            anno_filename  pixel_count  predicted HC from LM  \n",
       "0   002_HC_Annotation.png         2820             67.741809  \n",
       "1   011_HC_Annotation.png         3208             82.109999  \n",
       "2  014_3HC_Annotation.png         1980             37.827717  \n",
       "3   014_HC_Annotation.png         2044             43.106230  \n",
       "4   015_HC_Annotation.png         2928             71.964629  "
      ]
     },
     "execution_count": 52,
     "metadata": {},
     "output_type": "execute_result"
    }
   ],
   "source": [
    "# after lapply annotated filename and pixel count function\n",
    "val_pixel_sz_HC_df.head()"
   ]
  },
  {
   "cell_type": "code",
   "execution_count": 53,
   "id": "fd39adb6",
   "metadata": {},
   "outputs": [
    {
     "data": {
      "image/png": "[encoded data removed]",
      "text/plain": [
       "<Figure size 1000x500 with 2 Axes>"
      ]
     },
     "metadata": {},
     "output_type": "display_data"
    }
   ],
   "source": [
    "import numpy as np\n",
    "import matplotlib.pyplot as plt\n",
    "\n",
    "# Convert pixel_count and pixel_size to arrays\n",
    "pixel_count = np.array(val_pixel_sz_HC_df[\"pixel_count\"])\n",
    "pixel_size = np.array(val_pixel_sz_HC_df[\"pixel size(mm)\"])\n",
    "\n",
    "# Compute the corresponding y values based on the equation\n",
    "y = 0.05535664951972703 * pixel_count + 1085.7842110830757 * pixel_size\n",
    "\n",
    "# Create a figure with two subplots\n",
    "fig, (ax1, ax2) = plt.subplots(1, 2, figsize=(10, 5))\n",
    "\n",
    "# Plot the pixel count subplot\n",
    "ax1.scatter(pixel_count, y, color='red', label='Pixel Count')\n",
    "ax1.set_xlabel('Pixel Count')\n",
    "ax1.set_ylabel('Y = Head Circumference')\n",
    "ax1.set_title('Regression Plot (Pixel Count)')\n",
    "# ax1.text(0.5, 0.9, 'y = 0.05535664954711476 * pixel_count + 1085.7842108179545 * pixel_size',\n",
    "#         transform=ax1.transAxes, fontsize=10, verticalalignment='top')\n",
    "\n",
    "# Plot the pixel size subplot\n",
    "ax2.scatter(pixel_size, y, color='green', label='Pixel Size')\n",
    "ax2.set_xlabel('Pixel Size (mm)')\n",
    "ax2.set_ylabel('Y = Head Circumference')\n",
    "ax2.set_title('Regression Plot (Pixel Size)')\n",
    "# ax2.text(0.5, 0.9, 'y = 0.05535664954711476 * pixel_count + 1085.7842108179545 * pixel_size',\n",
    "#        transform=ax2.transAxes, fontsize=10, verticalalignment='top')\n",
    "\n",
    "# Add a legend to the subplots\n",
    "ax1.legend()\n",
    "ax2.legend()\n",
    "\n",
    "# Adjust the spacing between subplots \n",
    "plt.tight_layout()\n",
    "\n",
    "# Show the plots\n",
    "plt.show()\n",
    "\n",
    "\n",
    "\n",
    "\n"
   ]
  },
  {
   "cell_type": "code",
   "execution_count": 57,
   "id": "97ec8fea",
   "metadata": {},
   "outputs": [
    {
     "data": {
      "text/html": [
       "<div>\n",
       "<style scoped>\n",
       "    .dataframe tbody tr th:only-of-type {\n",
       "        vertical-align: middle;\n",
       "    }\n",
       "\n",
       "    .dataframe tbody tr th {\n",
       "        vertical-align: top;\n",
       "    }\n",
       "\n",
       "    .dataframe thead th {\n",
       "        text-align: right;\n",
       "    }\n",
       "</style>\n",
       "<table border=\"1\" class=\"dataframe\">\n",
       "  <thead>\n",
       "    <tr style=\"text-align: right;\">\n",
       "      <th></th>\n",
       "      <th>pixel_count</th>\n",
       "      <th>pixel size(mm)</th>\n",
       "    </tr>\n",
       "  </thead>\n",
       "  <tbody>\n",
       "    <tr>\n",
       "      <th>0</th>\n",
       "      <td>2820</td>\n",
       "      <td>0.062033</td>\n",
       "    </tr>\n",
       "    <tr>\n",
       "      <th>1</th>\n",
       "      <td>3208</td>\n",
       "      <td>0.055484</td>\n",
       "    </tr>\n",
       "    <tr>\n",
       "      <th>2</th>\n",
       "      <td>1980</td>\n",
       "      <td>0.077308</td>\n",
       "    </tr>\n",
       "    <tr>\n",
       "      <th>3</th>\n",
       "      <td>2044</td>\n",
       "      <td>0.078906</td>\n",
       "    </tr>\n",
       "    <tr>\n",
       "      <th>4</th>\n",
       "      <td>2928</td>\n",
       "      <td>0.060416</td>\n",
       "    </tr>\n",
       "    <tr>\n",
       "      <th>...</th>\n",
       "      <td>...</td>\n",
       "      <td>...</td>\n",
       "    </tr>\n",
       "    <tr>\n",
       "      <th>295</th>\n",
       "      <td>3296</td>\n",
       "      <td>0.246141</td>\n",
       "    </tr>\n",
       "    <tr>\n",
       "      <th>296</th>\n",
       "      <td>3932</td>\n",
       "      <td>0.202475</td>\n",
       "    </tr>\n",
       "    <tr>\n",
       "      <th>297</th>\n",
       "      <td>3616</td>\n",
       "      <td>0.210600</td>\n",
       "    </tr>\n",
       "    <tr>\n",
       "      <th>298</th>\n",
       "      <td>4328</td>\n",
       "      <td>0.181221</td>\n",
       "    </tr>\n",
       "    <tr>\n",
       "      <th>299</th>\n",
       "      <td>3316</td>\n",
       "      <td>0.257187</td>\n",
       "    </tr>\n",
       "  </tbody>\n",
       "</table>\n",
       "<p>300 rows × 2 columns</p>\n",
       "</div>"
      ],
      "text/plain": [
       "     pixel_count  pixel size(mm)\n",
       "0           2820        0.062033\n",
       "1           3208        0.055484\n",
       "2           1980        0.077308\n",
       "3           2044        0.078906\n",
       "4           2928        0.060416\n",
       "..           ...             ...\n",
       "295         3296        0.246141\n",
       "296         3932        0.202475\n",
       "297         3616        0.210600\n",
       "298         4328        0.181221\n",
       "299         3316        0.257187\n",
       "\n",
       "[300 rows x 2 columns]"
      ]
     },
     "execution_count": 57,
     "metadata": {},
     "output_type": "execute_result"
    }
   ],
   "source": [
    "X_val\n",
    "\n"
   ]
  },
  {
   "cell_type": "code",
   "execution_count": 54,
   "id": "eb0c0f11",
   "metadata": {},
   "outputs": [],
   "source": [
    "y_pred2_w_RF = rf_model_on_full_train_data.predict(X_val)\n",
    "\n",
    "val_pixel_sz_HC_df[\"predicted HC from RF\"] = y_pred2_w_RF"
   ]
  },
  {
   "cell_type": "code",
   "execution_count": 55,
   "id": "08f7e8e7",
   "metadata": {},
   "outputs": [
    {
     "data": {
      "text/html": [
       "<div>\n",
       "<style scoped>\n",
       "    .dataframe tbody tr th:only-of-type {\n",
       "        vertical-align: middle;\n",
       "    }\n",
       "\n",
       "    .dataframe tbody tr th {\n",
       "        vertical-align: top;\n",
       "    }\n",
       "\n",
       "    .dataframe thead th {\n",
       "        text-align: right;\n",
       "    }\n",
       "</style>\n",
       "<table border=\"1\" class=\"dataframe\">\n",
       "  <thead>\n",
       "    <tr style=\"text-align: right;\">\n",
       "      <th></th>\n",
       "      <th>Unnamed: 0</th>\n",
       "      <th>filename</th>\n",
       "      <th>pixel size(mm)</th>\n",
       "      <th>head circumference (mm)</th>\n",
       "      <th>anno_filename</th>\n",
       "      <th>pixel_count</th>\n",
       "      <th>predicted HC from LM</th>\n",
       "      <th>predicted HC from RF</th>\n",
       "    </tr>\n",
       "  </thead>\n",
       "  <tbody>\n",
       "    <tr>\n",
       "      <th>0</th>\n",
       "      <td>2</td>\n",
       "      <td>002_HC.png</td>\n",
       "      <td>0.062033</td>\n",
       "      <td>68.75</td>\n",
       "      <td>002_HC_Annotation.png</td>\n",
       "      <td>2820</td>\n",
       "      <td>67.741809</td>\n",
       "      <td>69.6586</td>\n",
       "    </tr>\n",
       "    <tr>\n",
       "      <th>1</th>\n",
       "      <td>12</td>\n",
       "      <td>011_HC.png</td>\n",
       "      <td>0.055484</td>\n",
       "      <td>69.90</td>\n",
       "      <td>011_HC_Annotation.png</td>\n",
       "      <td>3208</td>\n",
       "      <td>82.109999</td>\n",
       "      <td>73.4191</td>\n",
       "    </tr>\n",
       "    <tr>\n",
       "      <th>2</th>\n",
       "      <td>16</td>\n",
       "      <td>014_3HC.png</td>\n",
       "      <td>0.077308</td>\n",
       "      <td>60.26</td>\n",
       "      <td>014_3HC_Annotation.png</td>\n",
       "      <td>1980</td>\n",
       "      <td>37.827717</td>\n",
       "      <td>63.2613</td>\n",
       "    </tr>\n",
       "    <tr>\n",
       "      <th>3</th>\n",
       "      <td>17</td>\n",
       "      <td>014_HC.png</td>\n",
       "      <td>0.078906</td>\n",
       "      <td>63.34</td>\n",
       "      <td>014_HC_Annotation.png</td>\n",
       "      <td>2044</td>\n",
       "      <td>43.106230</td>\n",
       "      <td>64.0114</td>\n",
       "    </tr>\n",
       "    <tr>\n",
       "      <th>4</th>\n",
       "      <td>18</td>\n",
       "      <td>015_HC.png</td>\n",
       "      <td>0.060416</td>\n",
       "      <td>69.30</td>\n",
       "      <td>015_HC_Annotation.png</td>\n",
       "      <td>2928</td>\n",
       "      <td>71.964629</td>\n",
       "      <td>69.9327</td>\n",
       "    </tr>\n",
       "    <tr>\n",
       "      <th>...</th>\n",
       "      <td>...</td>\n",
       "      <td>...</td>\n",
       "      <td>...</td>\n",
       "      <td>...</td>\n",
       "      <td>...</td>\n",
       "      <td>...</td>\n",
       "      <td>...</td>\n",
       "      <td>...</td>\n",
       "    </tr>\n",
       "    <tr>\n",
       "      <th>295</th>\n",
       "      <td>970</td>\n",
       "      <td>783_4HC.png</td>\n",
       "      <td>0.246141</td>\n",
       "      <td>320.00</td>\n",
       "      <td>783_4HC_Annotation.png</td>\n",
       "      <td>3296</td>\n",
       "      <td>293.993371</td>\n",
       "      <td>320.2547</td>\n",
       "    </tr>\n",
       "    <tr>\n",
       "      <th>296</th>\n",
       "      <td>976</td>\n",
       "      <td>787_HC.png</td>\n",
       "      <td>0.202475</td>\n",
       "      <td>324.60</td>\n",
       "      <td>787_HC_Annotation.png</td>\n",
       "      <td>3932</td>\n",
       "      <td>281.789006</td>\n",
       "      <td>309.5710</td>\n",
       "    </tr>\n",
       "    <tr>\n",
       "      <th>297</th>\n",
       "      <td>982</td>\n",
       "      <td>792_HC.png</td>\n",
       "      <td>0.210600</td>\n",
       "      <td>299.17</td>\n",
       "      <td>792_HC_Annotation.png</td>\n",
       "      <td>3616</td>\n",
       "      <td>273.117960</td>\n",
       "      <td>287.8599</td>\n",
       "    </tr>\n",
       "    <tr>\n",
       "      <th>298</th>\n",
       "      <td>985</td>\n",
       "      <td>794_HC.png</td>\n",
       "      <td>0.181221</td>\n",
       "      <td>308.50</td>\n",
       "      <td>794_HC_Annotation.png</td>\n",
       "      <td>4328</td>\n",
       "      <td>280.632148</td>\n",
       "      <td>284.3334</td>\n",
       "    </tr>\n",
       "    <tr>\n",
       "      <th>299</th>\n",
       "      <td>989</td>\n",
       "      <td>796_HC.png</td>\n",
       "      <td>0.257187</td>\n",
       "      <td>335.00</td>\n",
       "      <td>796_HC_Annotation.png</td>\n",
       "      <td>3316</td>\n",
       "      <td>307.094492</td>\n",
       "      <td>325.8391</td>\n",
       "    </tr>\n",
       "  </tbody>\n",
       "</table>\n",
       "<p>300 rows × 8 columns</p>\n",
       "</div>"
      ],
      "text/plain": [
       "     Unnamed: 0     filename  pixel size(mm)  head circumference (mm)  \\\n",
       "0             2   002_HC.png        0.062033                    68.75   \n",
       "1            12   011_HC.png        0.055484                    69.90   \n",
       "2            16  014_3HC.png        0.077308                    60.26   \n",
       "3            17   014_HC.png        0.078906                    63.34   \n",
       "4            18   015_HC.png        0.060416                    69.30   \n",
       "..          ...          ...             ...                      ...   \n",
       "295         970  783_4HC.png        0.246141                   320.00   \n",
       "296         976   787_HC.png        0.202475                   324.60   \n",
       "297         982   792_HC.png        0.210600                   299.17   \n",
       "298         985   794_HC.png        0.181221                   308.50   \n",
       "299         989   796_HC.png        0.257187                   335.00   \n",
       "\n",
       "              anno_filename  pixel_count  predicted HC from LM  \\\n",
       "0     002_HC_Annotation.png         2820             67.741809   \n",
       "1     011_HC_Annotation.png         3208             82.109999   \n",
       "2    014_3HC_Annotation.png         1980             37.827717   \n",
       "3     014_HC_Annotation.png         2044             43.106230   \n",
       "4     015_HC_Annotation.png         2928             71.964629   \n",
       "..                      ...          ...                   ...   \n",
       "295  783_4HC_Annotation.png         3296            293.993371   \n",
       "296   787_HC_Annotation.png         3932            281.789006   \n",
       "297   792_HC_Annotation.png         3616            273.117960   \n",
       "298   794_HC_Annotation.png         4328            280.632148   \n",
       "299   796_HC_Annotation.png         3316            307.094492   \n",
       "\n",
       "     predicted HC from RF  \n",
       "0                 69.6586  \n",
       "1                 73.4191  \n",
       "2                 63.2613  \n",
       "3                 64.0114  \n",
       "4                 69.9327  \n",
       "..                    ...  \n",
       "295              320.2547  \n",
       "296              309.5710  \n",
       "297              287.8599  \n",
       "298              284.3334  \n",
       "299              325.8391  \n",
       "\n",
       "[300 rows x 8 columns]"
      ]
     },
     "execution_count": 55,
     "metadata": {},
     "output_type": "execute_result"
    }
   ],
   "source": [
    "val_pixel_sz_HC_df"
   ]
  },
  {
   "cell_type": "code",
   "execution_count": 58,
   "id": "891e2b42",
   "metadata": {},
   "outputs": [
    {
     "data": {
      "text/plain": [
       "0       68.75\n",
       "1       69.90\n",
       "2       60.26\n",
       "3       63.34\n",
       "4       69.30\n",
       "        ...  \n",
       "295    320.00\n",
       "296    324.60\n",
       "297    299.17\n",
       "298    308.50\n",
       "299    335.00\n",
       "Name: head circumference (mm), Length: 300, dtype: float64"
      ]
     },
     "execution_count": 58,
     "metadata": {},
     "output_type": "execute_result"
    }
   ],
   "source": [
    "y_val\n"
   ]
  },
  {
   "cell_type": "code",
   "execution_count": 56,
   "id": "c3a094e3",
   "metadata": {},
   "outputs": [
    {
     "name": "stdout",
     "output_type": "stream",
     "text": [
      "Linear regression model: y = 0.05535664951972703 *  pixel_count + 1085.7842110830757 * pixel size(mm)\n",
      "Correlation coefficient: 0.9805093083523606\n",
      "p-value: 1.1939178069055383e-212\n",
      "MAE: 153.5295696326789\n",
      " \n",
      "random tree regression model: \n",
      "Correlation coefficient: 0.9968396344016947\n",
      "p-value: 0.0\n",
      "MAE: 1.430364571428559\n",
      "  \n",
      "Best Model based on correlation:\n",
      "Model: Random Forest\n",
      "Correlation Coefficient: 0.9968396344016947\n",
      "p-value: 0.0\n"
     ]
    }
   ],
   "source": [
    "# Calculate the correlation coefficient and p-value  # linear regression\n",
    "correlation_lr, p_value_lr = pearsonr(y_val, y_pred_w_LR)\n",
    "\n",
    "print(\"Linear regression model: \" + formula)\n",
    "print(\"Correlation coefficient:\", correlation_lr)\n",
    "print(\"p-value:\", p_value_lr)\n",
    "print(\"MAE:\", mse1)\n",
    "\n",
    "print(\" \")\n",
    "correlation_rf, p_value_rf = pearsonr(y_val, y_pred2_w_RF)\n",
    "\n",
    "print(\"random tree regression model: \" )\n",
    "print(\"Correlation coefficient:\", correlation_rf)\n",
    "np.set_printoptions(precision=8)\n",
    "print(\"p-value:\", p_value_rf)\n",
    "print(\"MAE:\", rf_val_mae)\n",
    "\n",
    "\n",
    "# p-value = 0 that is reject null hypothesis-- the \n",
    "# Compare the models\n",
    "if abs(correlation_lr) > abs(correlation_rf):\n",
    "    best_model = \"Linear Regression\"\n",
    "    best_correlation = correlation_lr\n",
    "    best_p_value = p_value_lr\n",
    "else:\n",
    "    best_model = \"Random Forest\"\n",
    "    best_correlation = correlation_rf\n",
    "    best_p_value = p_value_rf\n",
    "\n",
    "print(\"  \")\n",
    "print(\"Best Model based on correlation:\")\n",
    "print(\"Model:\", best_model)\n",
    "print(\"Correlation Coefficient:\", best_correlation)\n",
    "print(\"p-value:\", best_p_value)"
   ]
  },
  {
   "cell_type": "code",
   "execution_count": null,
   "id": "92e391c9",
   "metadata": {},
   "outputs": [],
   "source": [
    "import matplotlib.pyplot as plt\n",
    "\n",
    "# Get the feature values for plotting\n",
    "pixel_count = val_pixel_sz_HC_df['pixel_count']\n",
    "pixel_size = val_pixel_sz_HC_df['pixel size(mm)']\n",
    "\n",
    "\n",
    "# Create a figure with two subplots\n",
    "fig, axs = plt.subplots(1, 2, figsize=(10, 5))\n",
    "\n",
    "# Plot pixel_count vs y_pred_rf\n",
    "axs[0].scatter(pixel_count, y_pred2_w_RF, color='red', label='Predicted Values')\n",
    "axs[0].set_xlabel('Pixel Count')\n",
    "axs[0].set_ylabel('Y = Predicted HC')\n",
    "axs[0].set_title('Pixel Count vs Predicted HC (RF model)')\n",
    "\n",
    "# Plot pixel_size vs y_pred_rf\n",
    "axs[1].scatter(pixel_size, y_pred2_w_RF, color='blue', label='Predicted Values')\n",
    "axs[1].set_xlabel('Pixel Size (mm)')\n",
    "axs[1].set_ylabel('Y = Predicted HC')\n",
    "axs[1].set_title('Pixel Size vs Predicted HC (RF model)')\n",
    "\n",
    "\n",
    "# Adjust spacing between subplots\n",
    "plt.tight_layout()\n",
    "\n",
    "# Show the plot\n",
    "plt.show()\n",
    "\n"
   ]
  },
  {
   "cell_type": "code",
   "execution_count": 59,
   "id": "f8c57bd4",
   "metadata": {},
   "outputs": [],
   "source": [
    "import joblib\n",
    "\n",
    "# Assuming rf_model_on_full_data is your trained Random Forest model\n",
    "# ...\n",
    "\n",
    "# Specify the filename and path for saving the model\n",
    "model_filename = 'Output\\pixelCt_pixelSz_toHeadCir_rfReg.joblib'\n",
    "\n"
   ]
  },
  {
   "cell_type": "code",
   "execution_count": 60,
   "id": "e4a94969",
   "metadata": {},
   "outputs": [
    {
     "data": {
      "text/plain": [
       "['Output\\\\pixelCt_pixelSz_toHeadCir_rfReg.joblib']"
      ]
     },
     "execution_count": 60,
     "metadata": {},
     "output_type": "execute_result"
    }
   ],
   "source": [
    "# Save the model to a file\n",
    "joblib.dump(rf_model_on_full_train_data, model_filename)"
   ]
  },
  {
   "cell_type": "code",
   "execution_count": 61,
   "id": "51fbc423",
   "metadata": {},
   "outputs": [],
   "source": [
    "#import joblib\n",
    "\n",
    "# Load the trained Random Forest model\n",
    "#loaded_model = joblib.load('rf_model_on_full_data.joblib')\n",
    "\n",
    "# Define a mapping function that uses the loaded model for predictions\n",
    "def mapping_function(input_data):\n",
    "    # Perform any necessary data preprocessing on input_data\n",
    "    # ...\n",
    "\n",
    "    # Make predictions using the loaded model\n",
    "    predictions = loaded_model.predict(input_data)\n",
    "\n",
    "    # Return the predictions\n",
    "    return predictions"
   ]
  },
  {
   "cell_type": "code",
   "execution_count": null,
   "id": "2c5bfaf0",
   "metadata": {},
   "outputs": [],
   "source": [
    "##### run pixel count on predicted_images2 ######"
   ]
  },
  {
   "cell_type": "code",
   "execution_count": 3,
   "id": "95e39860",
   "metadata": {},
   "outputs": [
    {
     "data": {
      "text/plain": [
       "True"
      ]
     },
     "execution_count": 3,
     "metadata": {},
     "output_type": "execute_result"
    }
   ],
   "source": [
    "predicted_data_path_to = 'G:/.shortcut-targets-by-id/10wVB-YsfTmmpZyUo8jBH1cDOkVWVx5N1/T1 Project/Data/predicted_images2/'\n",
    "os.path.exists(predicted_data_path_to)"
   ]
  },
  {
   "cell_type": "code",
   "execution_count": 4,
   "id": "9c3436e6",
   "metadata": {},
   "outputs": [],
   "source": [
    "x = '0_predict.png'"
   ]
  },
  {
   "cell_type": "code",
   "execution_count": 7,
   "id": "f603be02",
   "metadata": {
    "scrolled": true
   },
   "outputs": [
    {
     "data": {
      "text/plain": [
       "1887"
      ]
     },
     "execution_count": 7,
     "metadata": {},
     "output_type": "execute_result"
    }
   ],
   "source": [
    "# predict from single predicted HC labelled image\n",
    "get_pixel_count(predicted_data_path_to, x)"
   ]
  },
  {
   "cell_type": "code",
   "execution_count": 13,
   "id": "7174c1be",
   "metadata": {
    "scrolled": false
   },
   "outputs": [],
   "source": [
    "files = sorted(os.listdir(predicted_data_path_to))\n",
    "pixel_count_list =[]\n",
    "for f in files:\n",
    "    pixel_count = get_pixel_count(predicted_data_path_to, f)\n",
    "    pixel_count_list.append(pixel_count)"
   ]
  },
  {
   "cell_type": "code",
   "execution_count": 14,
   "id": "e94e3140",
   "metadata": {},
   "outputs": [
    {
     "data": {
      "text/plain": [
       "[1887,\n",
       " 3081,\n",
       " 1317,\n",
       " 1317,\n",
       " 2658,\n",
       " 3093,\n",
       " 2313,\n",
       " 3054,\n",
       " 2310,\n",
       " 2340,\n",
       " 2439,\n",
       " 2877,\n",
       " 2847,\n",
       " 2400,\n",
       " 2193,\n",
       " 1818,\n",
       " 2154,\n",
       " 2379,\n",
       " 2379,\n",
       " 2826,\n",
       " 2160,\n",
       " 2160,\n",
       " 1800,\n",
       " 2895,\n",
       " 3012,\n",
       " 855,\n",
       " 2499,\n",
       " 2499,\n",
       " 2142,\n",
       " 2322,\n",
       " 2745,\n",
       " 3318,\n",
       " 3318,\n",
       " 2178,\n",
       " 1854,\n",
       " 2232,\n",
       " 1908,\n",
       " 1515,\n",
       " 1209,\n",
       " 777,\n",
       " 1083,\n",
       " 57,\n",
       " 1086,\n",
       " 1068,\n",
       " 1068,\n",
       " 1425,\n",
       " 1425,\n",
       " 1143,\n",
       " 468,\n",
       " 3243,\n",
       " 2361,\n",
       " 42,\n",
       " 963,\n",
       " 30,\n",
       " 1158,\n",
       " 1158,\n",
       " 2700,\n",
       " 456,\n",
       " 1752,\n",
       " 315,\n",
       " 1668,\n",
       " 1605,\n",
       " 2058,\n",
       " 1401,\n",
       " 1407,\n",
       " 171,\n",
       " 171,\n",
       " 1893,\n",
       " 2724,\n",
       " 1668,\n",
       " 1920,\n",
       " 2304,\n",
       " 1110,\n",
       " 750,\n",
       " 750,\n",
       " 2355,\n",
       " 1155,\n",
       " 1194,\n",
       " 2589,\n",
       " 2589,\n",
       " 2277,\n",
       " 3237,\n",
       " 3108,\n",
       " 3108,\n",
       " 2391,\n",
       " 2406,\n",
       " 1926,\n",
       " 2493,\n",
       " 2523,\n",
       " 2043,\n",
       " 2679,\n",
       " 2850,\n",
       " 2586,\n",
       " 3381,\n",
       " 2763,\n",
       " 2256,\n",
       " 2700,\n",
       " 2700,\n",
       " 0,\n",
       " 0,\n",
       " 0,\n",
       " 2190,\n",
       " 0,\n",
       " 0,\n",
       " 0,\n",
       " 0,\n",
       " 0,\n",
       " 0,\n",
       " 0,\n",
       " 0,\n",
       " 0,\n",
       " 0,\n",
       " 0,\n",
       " 0,\n",
       " 0,\n",
       " 0,\n",
       " 0,\n",
       " 3384,\n",
       " 2793,\n",
       " 2862,\n",
       " 2664,\n",
       " 3147,\n",
       " 2835,\n",
       " 2835,\n",
       " 2307,\n",
       " 3357,\n",
       " 3090,\n",
       " 3108,\n",
       " 2673,\n",
       " 2787,\n",
       " 2979,\n",
       " 2979,\n",
       " 2640,\n",
       " 3168,\n",
       " 2862,\n",
       " 2295,\n",
       " 2568,\n",
       " 2724,\n",
       " 2724,\n",
       " 2454,\n",
       " 3390,\n",
       " 3231,\n",
       " 3096,\n",
       " 2379,\n",
       " 2931,\n",
       " 2244,\n",
       " 2391,\n",
       " 2391,\n",
       " 2469,\n",
       " 2490,\n",
       " 1938,\n",
       " 1938,\n",
       " 2706,\n",
       " 2967,\n",
       " 2964,\n",
       " 2703,\n",
       " 2838,\n",
       " 2121,\n",
       " 2121,\n",
       " 3000]"
      ]
     },
     "execution_count": 14,
     "metadata": {},
     "output_type": "execute_result"
    }
   ],
   "source": [
    "pixel_count_list"
   ]
  },
  {
   "cell_type": "code",
   "execution_count": 6,
   "id": "a4786280",
   "metadata": {},
   "outputs": [],
   "source": [
    "##### function get_pixe_count get_pixel_count(img_data_path, filename) ###  duplicate code from above.\n",
    "def get_pixel_count(img_data_path, filename):\n",
    "    file_path = os.path.join(img_data_path, filename)\n",
    "    if os.path.exists(file_path):\n",
    "        label = Image.open(file_path)\n",
    "        label = np.array(label)\n",
    "        label = tf.convert_to_tensor(label)\n",
    "        label = tf.cast(label, tf.float32) / 255.0\n",
    "        label = tf.cast(label, tf.int32)\n",
    "        pixel_count = np.sum(label)\n",
    "    else:\n",
    "        print(\"No such file: \" + filename)\n",
    "        pixel_count = np.nan\n",
    "\n",
    "    return pixel_count\n",
    "\n"
   ]
  },
  {
   "cell_type": "code",
   "execution_count": null,
   "id": "e3f680b5",
   "metadata": {},
   "outputs": [],
   "source": [
    "#train_pixel_sz_HC_df['pixel_count'] = train_pixel_sz_HC_df['anno_filename'].apply(lambda x: get_pixel_count(img_data_path, x))\n"
   ]
  }
 ],
 "metadata": {
  "kernelspec": {
   "display_name": "Python 3 (ipykernel)",
   "language": "python",
   "name": "python3"
  },
  "language_info": {
   "codemirror_mode": {
    "name": "ipython",
    "version": 3
   },
   "file_extension": ".py",
   "mimetype": "text/x-python",
   "name": "python",
   "nbconvert_exporter": "python",
   "pygments_lexer": "ipython3",
   "version": "3.9.6"
  }
 },
 "nbformat": 4,
 "nbformat_minor": 5
}
